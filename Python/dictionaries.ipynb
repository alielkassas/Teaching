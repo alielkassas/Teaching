{
  "cells": [
    {
      "cell_type": "markdown",
      "metadata": {
        "id": "view-in-github",
        "colab_type": "text"
      },
      "source": [
        "<a href=\"https://colab.research.google.com/github/alielkassas/Teaching/blob/master/Python/dictionaries.ipynb\" target=\"_parent\"><img src=\"https://colab.research.google.com/assets/colab-badge.svg\" alt=\"Open In Colab\"/></a>"
      ]
    },
    {
      "cell_type": "markdown",
      "id": "19bc482b-3c10-488c-ac76-d0b2926e5ff9",
      "metadata": {
        "id": "19bc482b-3c10-488c-ac76-d0b2926e5ff9"
      },
      "source": [
        "# Dictionaries\n",
        "A dictionary is like a list, but more general. In a list, the index positions have to be integers; in a dictionary, the indices can be (almost) any type.\n",
        "\n",
        "You can think of a dictionary as a mapping between a set of indices (which are called keys) and a set of values. Each key maps to a value. The association of a key and a value is called a *key-value pair* or sometimes an item.\n",
        "\n",
        "As an example, we’ll build a dictionary that maps from English to Spanish words, so the keys and the values are all strings.\n",
        "\n",
        "The function `dict` creates a new dictionary with no items. Because `dict` is the name of a built-in function, you should avoid using it as a variable name."
      ]
    },
    {
      "cell_type": "code",
      "execution_count": null,
      "id": "a063e2dc-ccf1-4c85-bc6b-b3523bdcc3d7",
      "metadata": {
        "id": "a063e2dc-ccf1-4c85-bc6b-b3523bdcc3d7"
      },
      "outputs": [],
      "source": [
        "eng2sp = dict()"
      ]
    },
    {
      "cell_type": "markdown",
      "id": "736bdbdb-f793-4fba-8f37-90511dc4fb0a",
      "metadata": {
        "id": "736bdbdb-f793-4fba-8f37-90511dc4fb0a"
      },
      "source": [
        "The curly brackets, `{}`, represent an empty dictionary. To add items to the dictionary, you can use square brackets:"
      ]
    },
    {
      "cell_type": "code",
      "execution_count": null,
      "id": "e2275bd2-cd4f-4bd4-b316-e2198ec86f63",
      "metadata": {
        "id": "e2275bd2-cd4f-4bd4-b316-e2198ec86f63"
      },
      "outputs": [],
      "source": [
        "eng2sp['one'] = 'uno'"
      ]
    },
    {
      "cell_type": "markdown",
      "id": "b5d59db1-c5b1-405f-ab93-1c836dae6e3e",
      "metadata": {
        "id": "b5d59db1-c5b1-405f-ab93-1c836dae6e3e"
      },
      "source": [
        "This line creates an item that maps from the key `'one'` to the value “uno”. If we print the dictionary again, we see a key-value pair with a colon between the key and value:"
      ]
    },
    {
      "cell_type": "code",
      "execution_count": null,
      "id": "234b6678-6b82-43a4-90db-aa38fa5ed7bf",
      "metadata": {
        "id": "234b6678-6b82-43a4-90db-aa38fa5ed7bf",
        "outputId": "728a24f3-31a4-42a8-bf8b-1b15de94d68d"
      },
      "outputs": [
        {
          "name": "stdout",
          "output_type": "stream",
          "text": [
            "{'one': 'uno'}\n"
          ]
        }
      ],
      "source": [
        "print(eng2sp)"
      ]
    },
    {
      "cell_type": "markdown",
      "id": "ac1a46ec-9d85-4d2e-8556-451c53d65754",
      "metadata": {
        "id": "ac1a46ec-9d85-4d2e-8556-451c53d65754"
      },
      "source": [
        "This output format is also an input format. For example, you can create a new dictionary with three items."
      ]
    },
    {
      "cell_type": "code",
      "execution_count": null,
      "id": "3a569a4e-bd20-418e-a085-a2af5eb6ffc7",
      "metadata": {
        "id": "3a569a4e-bd20-418e-a085-a2af5eb6ffc7",
        "outputId": "34a28c63-7256-4f62-b74b-1a87ff344110"
      },
      "outputs": [
        {
          "name": "stdout",
          "output_type": "stream",
          "text": [
            "{'one': 'uno', 'two': 'dos', 'three': 'tres'}\n"
          ]
        }
      ],
      "source": [
        "eng2sp = {'one': 'uno', 'two': 'dos', 'three': 'tres'}\n",
        "print(eng2sp)"
      ]
    },
    {
      "cell_type": "markdown",
      "id": "90983cd0-6dd0-4dc9-aece-cdfb31576627",
      "metadata": {
        "id": "90983cd0-6dd0-4dc9-aece-cdfb31576627"
      },
      "source": [
        "Since Python 3.7x the order of key-value pairs is the same as their input order, i.e. dictionaries are now ordered structures.\n",
        "\n",
        "But that doesn’t really matter because the elements of a dictionary are never indexed with integer indices. Instead, you use the keys to look up the corresponding values:"
      ]
    },
    {
      "cell_type": "code",
      "execution_count": null,
      "id": "4be118b2-5438-4c8d-95a1-290861524ee4",
      "metadata": {
        "id": "4be118b2-5438-4c8d-95a1-290861524ee4",
        "outputId": "319a4c76-dd90-4b5c-f3a1-957e9e10d0b3"
      },
      "outputs": [
        {
          "name": "stdout",
          "output_type": "stream",
          "text": [
            "dos\n"
          ]
        }
      ],
      "source": [
        "print(eng2sp['two'])"
      ]
    },
    {
      "cell_type": "markdown",
      "id": "a21ea205-d47f-4de8-a3d3-d35501e1426c",
      "metadata": {
        "id": "a21ea205-d47f-4de8-a3d3-d35501e1426c"
      },
      "source": [
        "The key `'two'` always maps to the value “dos” so the order of the items doesn’t matter.\n",
        "\n",
        "If the key isn’t in the dictionary, you get an exception:"
      ]
    },
    {
      "cell_type": "code",
      "execution_count": null,
      "id": "a83e3a23-ba4c-4da2-ba4b-b5363d919852",
      "metadata": {
        "id": "a83e3a23-ba4c-4da2-ba4b-b5363d919852",
        "outputId": "69a94786-ee7a-40be-a396-af5aed0eee1c"
      },
      "outputs": [
        {
          "ename": "KeyError",
          "evalue": "'four'",
          "output_type": "error",
          "traceback": [
            "\u001b[1;31m---------------------------------------------------------------------------\u001b[0m",
            "\u001b[1;31mKeyError\u001b[0m                                  Traceback (most recent call last)",
            "Cell \u001b[1;32mIn[10], line 1\u001b[0m\n\u001b[1;32m----> 1\u001b[0m \u001b[38;5;28mprint\u001b[39m(\u001b[43meng2sp\u001b[49m\u001b[43m[\u001b[49m\u001b[38;5;124;43m'\u001b[39;49m\u001b[38;5;124;43mfour\u001b[39;49m\u001b[38;5;124;43m'\u001b[39;49m\u001b[43m]\u001b[49m)\n",
            "\u001b[1;31mKeyError\u001b[0m: 'four'"
          ]
        }
      ],
      "source": [
        "print(eng2sp['four'])"
      ]
    },
    {
      "cell_type": "markdown",
      "id": "f7fbd313-2208-42d6-8245-e234468884d9",
      "metadata": {
        "id": "f7fbd313-2208-42d6-8245-e234468884d9"
      },
      "source": [
        "The `len` function works on dictionaries; it returns the number of key-value pairs:"
      ]
    },
    {
      "cell_type": "code",
      "execution_count": null,
      "id": "f2d0db67-6878-4e58-b354-dc27e234e243",
      "metadata": {
        "id": "f2d0db67-6878-4e58-b354-dc27e234e243",
        "outputId": "4c585366-cac9-40b6-a40c-067227b0f99f"
      },
      "outputs": [
        {
          "data": {
            "text/plain": [
              "3"
            ]
          },
          "execution_count": 11,
          "metadata": {},
          "output_type": "execute_result"
        }
      ],
      "source": [
        "len(eng2sp)"
      ]
    },
    {
      "cell_type": "markdown",
      "id": "eb282d07-cf2c-4758-81bb-f7f701c619be",
      "metadata": {
        "id": "eb282d07-cf2c-4758-81bb-f7f701c619be"
      },
      "source": [
        "The `in` operator works on dictionaries; it tells you whether something appears as a key in the dictionary (appearing as a value is not good enough)."
      ]
    },
    {
      "cell_type": "code",
      "execution_count": null,
      "id": "27d0a0bd-848e-4c67-a7ae-bcbf3d5fd7d8",
      "metadata": {
        "id": "27d0a0bd-848e-4c67-a7ae-bcbf3d5fd7d8",
        "outputId": "d358867e-2162-40c0-d82c-9d2846705d90"
      },
      "outputs": [
        {
          "data": {
            "text/plain": [
              "True"
            ]
          },
          "execution_count": 13,
          "metadata": {},
          "output_type": "execute_result"
        }
      ],
      "source": [
        "'one' in eng2sp"
      ]
    },
    {
      "cell_type": "code",
      "execution_count": null,
      "id": "ed25120d-3555-415a-b528-a734bf7eaaff",
      "metadata": {
        "id": "ed25120d-3555-415a-b528-a734bf7eaaff",
        "outputId": "681cbe03-0285-4eb6-dad9-8a2816ba196d"
      },
      "outputs": [
        {
          "data": {
            "text/plain": [
              "False"
            ]
          },
          "execution_count": 14,
          "metadata": {},
          "output_type": "execute_result"
        }
      ],
      "source": [
        "'uno' in eng2sp"
      ]
    },
    {
      "cell_type": "markdown",
      "id": "3f12242f-24f3-4881-9aff-82ada8d47e8a",
      "metadata": {
        "id": "3f12242f-24f3-4881-9aff-82ada8d47e8a"
      },
      "source": [
        "To see whether something appears as a value in a dictionary, you can use the method `values`, which returns the values as a type that can be converted to a list, and then use the `in` operator:"
      ]
    },
    {
      "cell_type": "code",
      "execution_count": null,
      "id": "2161caad-335f-4988-8eea-16d8127e5c96",
      "metadata": {
        "id": "2161caad-335f-4988-8eea-16d8127e5c96",
        "outputId": "f31be356-d48d-4d21-9145-93513ea90410"
      },
      "outputs": [
        {
          "data": {
            "text/plain": [
              "True"
            ]
          },
          "execution_count": 17,
          "metadata": {},
          "output_type": "execute_result"
        }
      ],
      "source": [
        "vals = list(eng2sp.values())\n",
        "'uno' in vals"
      ]
    },
    {
      "cell_type": "markdown",
      "id": "c007a03c-55dc-45d2-8167-686e835b0b1f",
      "metadata": {
        "id": "c007a03c-55dc-45d2-8167-686e835b0b1f"
      },
      "source": [
        "The `in` operator uses different algorithms for lists and dictionaries. For lists, it uses a linear search algorithm. As the list gets longer, the search time gets longer in direct proportion to the length of the list. For dictionaries, Python uses an algorithm called a hash table that has a remarkable property: the in operator takes about the same amount of time no matter how many items there are in a dictionary."
      ]
    },
    {
      "cell_type": "markdown",
      "id": "2f65eac2-825c-47f7-96a3-b909d1142690",
      "metadata": {
        "id": "2f65eac2-825c-47f7-96a3-b909d1142690"
      },
      "source": [
        "## Dictionary as a set of counters"
      ]
    },
    {
      "cell_type": "markdown",
      "id": "49098173-c31f-41e5-9074-4859746dc7cc",
      "metadata": {
        "id": "49098173-c31f-41e5-9074-4859746dc7cc"
      },
      "source": [
        "Suppose you are given a string and you want to count how many times each letter appears. There are several ways you could do it:\n",
        "\n",
        "1. You could create 26 variables, one for each letter of the alphabet. Then you could traverse the string and, for each character, increment the corresponding counter, probably using a chained conditional.\n",
        "\n",
        "2. You could create a list with 26 elements. Then you could convert each character to a number (using the built-in function ord), use the number as an index into the list, and increment the appropriate counter.\n",
        "\n",
        "3. You could create a dictionary with characters as keys and counters as the corresponding values. The first time you see a character, you would add an item to the dictionary. After that you would increment the value of an existing item.\n",
        "\n",
        "Each of these options performs the same computation, but each of them implements that computation in a different way.\n",
        "\n",
        "An implementation is a way of performing a computation; some implementations are better than others. For example, an advantage of the dictionary implementation is that we don’t have to know ahead of time which letters appear in the string and we only have to make room for the letters that do appear.\n",
        "\n",
        "Here is what the code might look like:"
      ]
    },
    {
      "cell_type": "code",
      "execution_count": null,
      "id": "171369cb-96e3-4f3c-992f-296b9f1ab042",
      "metadata": {
        "id": "171369cb-96e3-4f3c-992f-296b9f1ab042",
        "outputId": "532e4548-53af-47a3-a1a9-1dc9c5a8f90f"
      },
      "outputs": [
        {
          "name": "stdout",
          "output_type": "stream",
          "text": [
            "{'b': 1, 'r': 2, 'o': 2, 'n': 1, 't': 1, 's': 2, 'a': 1, 'u': 2}\n"
          ]
        }
      ],
      "source": [
        "word = 'brontosaurus'\n",
        "d = dict()\n",
        "for c in word:\n",
        "    if c not in d:\n",
        "        d[c] = 1\n",
        "    else:\n",
        "        d[c] = d[c] + 1\n",
        "print(d)"
      ]
    },
    {
      "cell_type": "markdown",
      "id": "6a5bb01a-74a0-4d3c-b150-864564831544",
      "metadata": {
        "id": "6a5bb01a-74a0-4d3c-b150-864564831544"
      },
      "source": [
        "We are effectively computing a histogram, which is a statistical term for a set of counters (or frequencies).\n",
        "\n",
        "The `for` loop traverses the string. Each time through the loop, if the character `c` is not in the dictionary, we create a new item with key `c` and the initial value 1 (since we have seen this letter once). If `c` is already in the dictionary we increment `d[c]`.\n",
        "\n"
      ]
    },
    {
      "cell_type": "markdown",
      "id": "f6142ef5-592e-4310-9593-69f9048390bb",
      "metadata": {
        "id": "f6142ef5-592e-4310-9593-69f9048390bb"
      },
      "source": [
        "The histogram indicates that the letters “a” and “b” appear once; “o” appears twice, and so on.\n",
        "\n",
        "Dictionaries have a method called `get` that takes a key and a default value. If the key appears in the dictionary, `get` returns the corresponding value; otherwise it returns the default value. For example:"
      ]
    },
    {
      "cell_type": "code",
      "execution_count": null,
      "id": "307f3941-7052-4270-a3ae-d293e7fcdce2",
      "metadata": {
        "id": "307f3941-7052-4270-a3ae-d293e7fcdce2",
        "outputId": "c3492225-a8bd-41dd-c720-523ed17f6af0"
      },
      "outputs": [
        {
          "name": "stdout",
          "output_type": "stream",
          "text": [
            "100\n"
          ]
        }
      ],
      "source": [
        "counts = { 'chuck' : 1 , 'annie' : 42, 'jan': 100}\n",
        "print(counts.get('jan', 0))"
      ]
    },
    {
      "cell_type": "code",
      "execution_count": null,
      "id": "f39a2b42-6e07-432a-bb72-210ceceeb610",
      "metadata": {
        "id": "f39a2b42-6e07-432a-bb72-210ceceeb610",
        "outputId": "c820e625-66a6-490b-fafc-26f3ee6c7f52"
      },
      "outputs": [
        {
          "name": "stdout",
          "output_type": "stream",
          "text": [
            "0\n"
          ]
        }
      ],
      "source": [
        "print(counts.get('tim', 0))"
      ]
    },
    {
      "cell_type": "markdown",
      "id": "250c6695-d174-4fd4-8c1d-09a6ee804e33",
      "metadata": {
        "id": "250c6695-d174-4fd4-8c1d-09a6ee804e33"
      },
      "source": [
        "We can use `get` to write our histogram loop more concisely. Because the `get` method automatically handles the case where a key is not in a dictionary, we can reduce four lines down to one and eliminate the `if` statement.\n",
        "\n"
      ]
    },
    {
      "cell_type": "code",
      "execution_count": null,
      "id": "07b2a35f-5fd9-4d00-a235-bbe3a3416e4c",
      "metadata": {
        "id": "07b2a35f-5fd9-4d00-a235-bbe3a3416e4c",
        "outputId": "06042d9a-1dda-44e9-a42c-15c6630c8313"
      },
      "outputs": [
        {
          "name": "stdout",
          "output_type": "stream",
          "text": [
            "{'b': 1, 'r': 2, 'o': 2, 'n': 1, 't': 1, 's': 2, 'a': 1, 'u': 2}\n"
          ]
        }
      ],
      "source": [
        "word = 'brontosaurus'\n",
        "d = dict()\n",
        "for c in word:\n",
        "    d[c] = d.get(c,0) + 1\n",
        "print(d)"
      ]
    },
    {
      "cell_type": "markdown",
      "id": "81d3e354-33f3-4f0e-8942-abb0b8e98954",
      "metadata": {
        "id": "81d3e354-33f3-4f0e-8942-abb0b8e98954"
      },
      "source": [
        "The use of the `get` method to simplify this counting loop ends up being a very commonly used “idiom” in Python and we will use it many times in the rest of the book. So you should take a moment and compare the loop using the `if` statement and `in` operator with the loop using the `get` method. They do exactly the same thing, but one is more succinct."
      ]
    },
    {
      "cell_type": "markdown",
      "id": "52dc8dd4-9c6a-42d8-830f-3dcdd17d4870",
      "metadata": {
        "id": "52dc8dd4-9c6a-42d8-830f-3dcdd17d4870"
      },
      "source": [
        "## Looping and dictionaries\n",
        "If you use a dictionary as the sequence in a `for` statement, it traverses the keys of the dictionary. This loop prints each key and the corresponding value:"
      ]
    },
    {
      "cell_type": "code",
      "execution_count": null,
      "id": "e42a8281-c909-42df-b110-0bfcfdcfc024",
      "metadata": {
        "id": "e42a8281-c909-42df-b110-0bfcfdcfc024",
        "outputId": "9ffe570c-bc60-418b-fc29-bfe17dd512af"
      },
      "outputs": [
        {
          "name": "stdout",
          "output_type": "stream",
          "text": [
            "chuck 1\n",
            "annie 42\n",
            "jan 100\n"
          ]
        }
      ],
      "source": [
        "counts = { 'chuck' : 1 , 'annie' : 42, 'jan': 100}\n",
        "for key in counts:\n",
        "    print(key, counts[key])"
      ]
    },
    {
      "cell_type": "markdown",
      "id": "659a2367-f06f-4593-9ce8-f07c10430bf6",
      "metadata": {
        "id": "659a2367-f06f-4593-9ce8-f07c10430bf6"
      },
      "source": [
        "Again, the keys are ordered.\n",
        "\n",
        "We can use this pattern to implement the various loop idioms that we have described earlier. For example if we wanted to find all the entries in a dictionary with a value above ten, we could write the following code:"
      ]
    },
    {
      "cell_type": "code",
      "execution_count": null,
      "id": "af26df3a-977e-4546-9139-c887552b4fa1",
      "metadata": {
        "id": "af26df3a-977e-4546-9139-c887552b4fa1",
        "outputId": "c88d9aa4-47b4-47e9-cdc2-f100a2cfa7e3"
      },
      "outputs": [
        {
          "name": "stdout",
          "output_type": "stream",
          "text": [
            "annie 42\n",
            "jan 100\n"
          ]
        }
      ],
      "source": [
        "counts = { 'chuck' : 1 , 'annie' : 42, 'jan': 100}\n",
        "for key in counts:\n",
        "    if counts[key] > 10 :\n",
        "        print(key, counts[key])"
      ]
    },
    {
      "cell_type": "markdown",
      "id": "5417c46d-5900-417a-9deb-b940548c50e0",
      "metadata": {
        "id": "5417c46d-5900-417a-9deb-b940548c50e0"
      },
      "source": [
        "The for loop iterates through the keys of the dictionary, so we must use the index operator to retrieve the corresponding value for each key. Here’s what the output looks like:"
      ]
    },
    {
      "cell_type": "markdown",
      "id": "5c8eade5-32ae-4439-9271-1bac5655a9d4",
      "metadata": {
        "id": "5c8eade5-32ae-4439-9271-1bac5655a9d4"
      },
      "source": [
        "We see only the entries with a value above 10.\n",
        "\n",
        "If you want to print the keys in alphabetical order, you first make a list of the keys in the dictionary using the `keys` method available in dictionary objects, and then sort that list and loop through the sorted list, looking up each key and printing out key-value pairs in sorted order as follows:"
      ]
    },
    {
      "cell_type": "code",
      "execution_count": null,
      "id": "0bafaa64-da10-4f19-ab24-a5523acc935c",
      "metadata": {
        "id": "0bafaa64-da10-4f19-ab24-a5523acc935c"
      },
      "outputs": [],
      "source": []
    }
  ],
  "metadata": {
    "kernelspec": {
      "display_name": "Python 3 (ipykernel)",
      "language": "python",
      "name": "python3"
    },
    "language_info": {
      "codemirror_mode": {
        "name": "ipython",
        "version": 3
      },
      "file_extension": ".py",
      "mimetype": "text/x-python",
      "name": "python",
      "nbconvert_exporter": "python",
      "pygments_lexer": "ipython3",
      "version": "3.10.9"
    },
    "colab": {
      "provenance": [],
      "include_colab_link": true
    }
  },
  "nbformat": 4,
  "nbformat_minor": 5
}