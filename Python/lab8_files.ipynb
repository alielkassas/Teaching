{
  "nbformat": 4,
  "nbformat_minor": 0,
  "metadata": {
    "colab": {
      "name": "lab8_files.ipynb",
      "provenance": [],
      "toc_visible": true,
      "authorship_tag": "ABX9TyNiIN7RpjaIXG3ygvZZhaJ0",
      "include_colab_link": true
    },
    "kernelspec": {
      "name": "python3",
      "display_name": "Python 3"
    }
  },
  "cells": [
    {
      "cell_type": "markdown",
      "metadata": {
        "id": "view-in-github",
        "colab_type": "text"
      },
      "source": [
        "<a href=\"https://colab.research.google.com/github/Ali-Abdelmonim/Teaching/blob/master/Programming%20Language/lab8_files.ipynb\" target=\"_parent\"><img src=\"https://colab.research.google.com/assets/colab-badge.svg\" alt=\"Open In Colab\"/></a>"
      ]
    },
    {
      "cell_type": "markdown",
      "metadata": {
        "id": "n7-UGqwBOhLc",
        "colab_type": "text"
      },
      "source": [
        "### Opening Files"
      ]
    },
    {
      "cell_type": "markdown",
      "metadata": {
        "id": "T0KqLfMAO4Ww",
        "colab_type": "text"
      },
      "source": [
        "When we want to read or write a file (say on your hard drive), we first must open the file. Opening the file communicates with your operating system, which knows where the data for each file is stored. When you open a file, you are asking the operating system to find the file by name and make sure the file exists. In this example, we open the file `mbox.txt`, which should be stored in the same folder that you are in when you start Python."
      ]
    },
    {
      "cell_type": "code",
      "metadata": {
        "id": "gF6-UoXSOjJe",
        "colab_type": "code",
        "colab": {
          "base_uri": "https://localhost:8080/",
          "height": 33
        },
        "outputId": "3e3cb81c-3d9a-4052-91b3-0386f2e10513"
      },
      "source": [
        "fhand = open('mbox.txt', 'r')\n",
        "print(fhand)"
      ],
      "execution_count": 3,
      "outputs": [
        {
          "output_type": "stream",
          "text": [
            "<_io.TextIOWrapper name='mbox.txt' mode='r' encoding='UTF-8'>\n"
          ],
          "name": "stdout"
        }
      ]
    },
    {
      "cell_type": "markdown",
      "metadata": {
        "id": "zL6xEk-QPenJ",
        "colab_type": "text"
      },
      "source": [
        "If the `open` is successful, the operating system returns us a file handle. The file handle is not the actual data contained in the file, but instead it is a \"handle\" that we can use to read the data. You are given a handle if the requested file exists and you have the proper permissions to read the file."
      ]
    },
    {
      "cell_type": "markdown",
      "metadata": {
        "id": "x6HMPPJxPt6_",
        "colab_type": "text"
      },
      "source": [
        "If the file does not exist, `open` will fail with a traceback and you will not get a handle to access the contents of the file:"
      ]
    },
    {
      "cell_type": "code",
      "metadata": {
        "id": "oKhFEQRaPKcG",
        "colab_type": "code",
        "colab": {
          "base_uri": "https://localhost:8080/",
          "height": 161
        },
        "outputId": "2edb6c59-b712-448d-f2e6-38ac4903efc6"
      },
      "source": [
        "fhand = open('stuff.txt')"
      ],
      "execution_count": 4,
      "outputs": [
        {
          "output_type": "error",
          "ename": "FileNotFoundError",
          "evalue": "ignored",
          "traceback": [
            "\u001b[0;31m---------------------------------------------------------------------------\u001b[0m",
            "\u001b[0;31mFileNotFoundError\u001b[0m                         Traceback (most recent call last)",
            "\u001b[0;32m<ipython-input-4-4bba6e616446>\u001b[0m in \u001b[0;36m<module>\u001b[0;34m()\u001b[0m\n\u001b[0;32m----> 1\u001b[0;31m \u001b[0mfhand\u001b[0m \u001b[0;34m=\u001b[0m \u001b[0mopen\u001b[0m\u001b[0;34m(\u001b[0m\u001b[0;34m'stuff.txt'\u001b[0m\u001b[0;34m)\u001b[0m\u001b[0;34m\u001b[0m\u001b[0;34m\u001b[0m\u001b[0m\n\u001b[0m",
            "\u001b[0;31mFileNotFoundError\u001b[0m: [Errno 2] No such file or directory: 'stuff.txt'"
          ]
        }
      ]
    },
    {
      "cell_type": "code",
      "metadata": {
        "id": "kjhxaTOBP3dm",
        "colab_type": "code",
        "colab": {}
      },
      "source": [
        ""
      ],
      "execution_count": 0,
      "outputs": []
    },
    {
      "cell_type": "markdown",
      "metadata": {
        "id": "5nhLbiEcP5RG",
        "colab_type": "text"
      },
      "source": [
        "### Text files and Lines"
      ]
    },
    {
      "cell_type": "markdown",
      "metadata": {
        "id": "qpPht7m8QLl-",
        "colab_type": "text"
      },
      "source": [
        "A text file can be thought of as a sequence of lines, much like a Python string can be thought of as a sequence of characters. "
      ]
    },
    {
      "cell_type": "markdown",
      "metadata": {
        "id": "E2Ovyj6JQtYl",
        "colab_type": "text"
      },
      "source": [
        "To break the file into lines, there is a special character that represents the \"end of the line\" called the newline character."
      ]
    },
    {
      "cell_type": "markdown",
      "metadata": {
        "id": "zMsjElXRQ6Ju",
        "colab_type": "text"
      },
      "source": [
        "In Python, we represent the newline character as a backslash-n in string constants. Even though this looks like two characters, it is actually a single character. When we look at the variable by entering \"stuff\" in the interpreter, it shows us the `\\n` in the string, but when we use `print` to show the string, we see the string broken into two lines by the newline character."
      ]
    },
    {
      "cell_type": "code",
      "metadata": {
        "id": "rMuv6AxdQNDF",
        "colab_type": "code",
        "colab": {
          "base_uri": "https://localhost:8080/",
          "height": 33
        },
        "outputId": "3ebf6793-a071-46be-ab47-b8a350e1f9b0"
      },
      "source": [
        "stuff = 'Hello\\nWorld!'\n",
        "stuff"
      ],
      "execution_count": 5,
      "outputs": [
        {
          "output_type": "execute_result",
          "data": {
            "text/plain": [
              "'Hello\\nWorld!'"
            ]
          },
          "metadata": {
            "tags": []
          },
          "execution_count": 5
        }
      ]
    },
    {
      "cell_type": "code",
      "metadata": {
        "id": "yHu-qiS4ROB5",
        "colab_type": "code",
        "colab": {
          "base_uri": "https://localhost:8080/",
          "height": 50
        },
        "outputId": "1ecd1d39-55db-4a6f-c798-bdd9f50e0658"
      },
      "source": [
        "print(stuff)"
      ],
      "execution_count": 6,
      "outputs": [
        {
          "output_type": "stream",
          "text": [
            "Hello\n",
            "World!\n"
          ],
          "name": "stdout"
        }
      ]
    },
    {
      "cell_type": "code",
      "metadata": {
        "id": "dL3JwwseRSGW",
        "colab_type": "code",
        "colab": {
          "base_uri": "https://localhost:8080/",
          "height": 50
        },
        "outputId": "f4d7ef25-2533-445f-bc1e-527707a7f984"
      },
      "source": [
        "stuff = 'X\\nY'\n",
        "print(stuff)\n"
      ],
      "execution_count": 7,
      "outputs": [
        {
          "output_type": "stream",
          "text": [
            "X\n",
            "Y\n"
          ],
          "name": "stdout"
        }
      ]
    },
    {
      "cell_type": "code",
      "metadata": {
        "id": "1WEnKRvXRXKG",
        "colab_type": "code",
        "colab": {
          "base_uri": "https://localhost:8080/",
          "height": 33
        },
        "outputId": "5cff9301-de47-434c-a72d-a8ffec96aa89"
      },
      "source": [
        "len(stuff)"
      ],
      "execution_count": 8,
      "outputs": [
        {
          "output_type": "execute_result",
          "data": {
            "text/plain": [
              "3"
            ]
          },
          "metadata": {
            "tags": []
          },
          "execution_count": 8
        }
      ]
    },
    {
      "cell_type": "markdown",
      "metadata": {
        "id": "4-EpxSAKRZH5",
        "colab_type": "text"
      },
      "source": [
        "You can also see that the length of the string `X\\nY` is three characters because the newline character is a single character."
      ]
    },
    {
      "cell_type": "markdown",
      "metadata": {
        "id": "fsMlfXoyRoAk",
        "colab_type": "text"
      },
      "source": [
        "So when we look at the lines in a file, we need to imagine that there is a special invisible character called the newline at the end of each line that marks the end of the line.\n",
        "\n",
        "So the newline character separates the characters in the file into lines."
      ]
    },
    {
      "cell_type": "code",
      "metadata": {
        "id": "kc1d_ueoRYW9",
        "colab_type": "code",
        "colab": {}
      },
      "source": [
        ""
      ],
      "execution_count": 0,
      "outputs": []
    },
    {
      "cell_type": "markdown",
      "metadata": {
        "id": "ZV7NiPWJRqxu",
        "colab_type": "text"
      },
      "source": [
        "### Reading Files"
      ]
    },
    {
      "cell_type": "markdown",
      "metadata": {
        "id": "4L6ZTYBHSGJs",
        "colab_type": "text"
      },
      "source": [
        "While the file handle does not contain the data for the file, it is quite easy to construct a `for` loop to read through and count each of the lines in a file:\n",
        "\n",
        "You can download this file from www.py4e.com/code3/mbox.txt"
      ]
    },
    {
      "cell_type": "code",
      "metadata": {
        "id": "Ej8cEGh4RsK8",
        "colab_type": "code",
        "colab": {
          "base_uri": "https://localhost:8080/",
          "height": 228
        },
        "outputId": "97b7dfcf-bbae-4022-9be9-f2a24d4f666f"
      },
      "source": [
        "fhand = open('mbox-short.txt')\n",
        "count = 0\n",
        "for line in fhand:\n",
        "    count = count + 1\n",
        "print('Line Count:', count)"
      ],
      "execution_count": 9,
      "outputs": [
        {
          "output_type": "error",
          "ename": "FileNotFoundError",
          "evalue": "ignored",
          "traceback": [
            "\u001b[0;31m---------------------------------------------------------------------------\u001b[0m",
            "\u001b[0;31mFileNotFoundError\u001b[0m                         Traceback (most recent call last)",
            "\u001b[0;32m<ipython-input-9-9974b5c3e07b>\u001b[0m in \u001b[0;36m<module>\u001b[0;34m()\u001b[0m\n\u001b[0;32m----> 1\u001b[0;31m \u001b[0mfhand\u001b[0m \u001b[0;34m=\u001b[0m \u001b[0mopen\u001b[0m\u001b[0;34m(\u001b[0m\u001b[0;34m'mbox-short.txt'\u001b[0m\u001b[0;34m)\u001b[0m\u001b[0;34m\u001b[0m\u001b[0;34m\u001b[0m\u001b[0m\n\u001b[0m\u001b[1;32m      2\u001b[0m \u001b[0mcount\u001b[0m \u001b[0;34m=\u001b[0m \u001b[0;36m0\u001b[0m\u001b[0;34m\u001b[0m\u001b[0;34m\u001b[0m\u001b[0m\n\u001b[1;32m      3\u001b[0m \u001b[0;32mfor\u001b[0m \u001b[0mline\u001b[0m \u001b[0;32min\u001b[0m \u001b[0mfhand\u001b[0m\u001b[0;34m:\u001b[0m\u001b[0;34m\u001b[0m\u001b[0;34m\u001b[0m\u001b[0m\n\u001b[1;32m      4\u001b[0m     \u001b[0mcount\u001b[0m \u001b[0;34m=\u001b[0m \u001b[0mcount\u001b[0m \u001b[0;34m+\u001b[0m \u001b[0;36m1\u001b[0m\u001b[0;34m\u001b[0m\u001b[0;34m\u001b[0m\u001b[0m\n\u001b[1;32m      5\u001b[0m \u001b[0mprint\u001b[0m\u001b[0;34m(\u001b[0m\u001b[0;34m'Line Count:'\u001b[0m\u001b[0;34m,\u001b[0m \u001b[0mcount\u001b[0m\u001b[0;34m)\u001b[0m\u001b[0;34m\u001b[0m\u001b[0;34m\u001b[0m\u001b[0m\n",
            "\u001b[0;31mFileNotFoundError\u001b[0m: [Errno 2] No such file or directory: 'mbox-short.txt'"
          ]
        }
      ]
    },
    {
      "cell_type": "code",
      "metadata": {
        "id": "wwJJkZCsSsyM",
        "colab_type": "code",
        "colab": {}
      },
      "source": [
        ""
      ],
      "execution_count": 0,
      "outputs": []
    }
  ]
}