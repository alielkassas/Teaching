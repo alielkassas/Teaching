{
  "nbformat": 4,
  "nbformat_minor": 0,
  "metadata": {
    "colab": {
      "name": "lab7:String2.ipynb",
      "provenance": [],
      "authorship_tag": "ABX9TyNFt3V4MGSP9DNRK4SSQff+",
      "include_colab_link": true
    },
    "kernelspec": {
      "name": "python3",
      "display_name": "Python 3"
    }
  },
  "cells": [
    {
      "cell_type": "markdown",
      "metadata": {
        "id": "view-in-github",
        "colab_type": "text"
      },
      "source": [
        "<a href=\"https://colab.research.google.com/github/Ali-Abdelmonim/Teaching/blob/master/Programming%20Language/lab7_String2.ipynb\" target=\"_parent\"><img src=\"https://colab.research.google.com/assets/colab-badge.svg\" alt=\"Open In Colab\"/></a>"
      ]
    },
    {
      "cell_type": "markdown",
      "metadata": {
        "id": "fFM4i7PUwkyS",
        "colab_type": "text"
      },
      "source": [
        "### String Slices"
      ]
    },
    {
      "cell_type": "markdown",
      "metadata": {
        "id": "sk3kNBw-vguc",
        "colab_type": "text"
      },
      "source": [
        "A segment of a string is called a slice. Selecting a slice is similar to selecting a character:"
      ]
    },
    {
      "cell_type": "code",
      "metadata": {
        "id": "Pc4jX1gdvh2G",
        "colab_type": "code",
        "colab": {
          "base_uri": "https://localhost:8080/",
          "height": 34
        },
        "outputId": "1911aca2-689f-4792-bf9a-03deddfc8264"
      },
      "source": [
        "s = 'Hello World'\n",
        "print(s[0:5])"
      ],
      "execution_count": 1,
      "outputs": [
        {
          "output_type": "stream",
          "text": [
            "Hello\n"
          ],
          "name": "stdout"
        }
      ]
    },
    {
      "cell_type": "code",
      "metadata": {
        "id": "2WUJzk5fvwte",
        "colab_type": "code",
        "colab": {
          "base_uri": "https://localhost:8080/",
          "height": 34
        },
        "outputId": "37e7a693-0a0f-4898-bfae-eb6e5d8993b4"
      },
      "source": [
        "print(s[6:11])\n"
      ],
      "execution_count": 4,
      "outputs": [
        {
          "output_type": "stream",
          "text": [
            "World\n"
          ],
          "name": "stdout"
        }
      ]
    },
    {
      "cell_type": "markdown",
      "metadata": {
        "id": "hFHAOpynwIOo",
        "colab_type": "text"
      },
      "source": [
        "The operator returns the part of the string from the \"n-eth\" character to the \"m-eth\" character, including the first but excluding the last."
      ]
    },
    {
      "cell_type": "markdown",
      "metadata": {
        "id": "jRZnga2lwJ65",
        "colab_type": "text"
      },
      "source": [
        "If you omit the first index (before the colon), the slice starts at the beginning of the string. If you omit the second index, the slice goes to the end of the string:"
      ]
    },
    {
      "cell_type": "code",
      "metadata": {
        "id": "62tTb2avv2Qm",
        "colab_type": "code",
        "colab": {
          "base_uri": "https://localhost:8080/",
          "height": 34
        },
        "outputId": "74dfed5a-7e6e-4589-94e7-4e7343f554d0"
      },
      "source": [
        "fruit = 'banana'\n",
        "fruit[:3]"
      ],
      "execution_count": 6,
      "outputs": [
        {
          "output_type": "execute_result",
          "data": {
            "text/plain": [
              "'ban'"
            ]
          },
          "metadata": {
            "tags": []
          },
          "execution_count": 6
        }
      ]
    },
    {
      "cell_type": "code",
      "metadata": {
        "id": "MPk4aAn3wdie",
        "colab_type": "code",
        "colab": {
          "base_uri": "https://localhost:8080/",
          "height": 34
        },
        "outputId": "5a85d252-9b09-4e83-f89c-b4e412fec736"
      },
      "source": [
        "fruit[3:]"
      ],
      "execution_count": 7,
      "outputs": [
        {
          "output_type": "execute_result",
          "data": {
            "text/plain": [
              "'ana'"
            ]
          },
          "metadata": {
            "tags": []
          },
          "execution_count": 7
        }
      ]
    },
    {
      "cell_type": "code",
      "metadata": {
        "id": "Lho5joNpwh5K",
        "colab_type": "code",
        "colab": {}
      },
      "source": [
        ""
      ],
      "execution_count": 0,
      "outputs": []
    },
    {
      "cell_type": "markdown",
      "metadata": {
        "id": "iza6dyrSw6j3",
        "colab_type": "text"
      },
      "source": [
        "### String Methods"
      ]
    },
    {
      "cell_type": "markdown",
      "metadata": {
        "id": "j49cwecO-gb1",
        "colab_type": "text"
      },
      "source": [
        "Many basic string manipulation tasks can be handled with built-in methods.\n"
      ]
    },
    {
      "cell_type": "markdown",
      "metadata": {
        "id": "AmYyTTb36FGN",
        "colab_type": "text"
      },
      "source": [
        "For example, the method `upper` takes a string and returns a new string with all uppercase letters:"
      ]
    },
    {
      "cell_type": "code",
      "metadata": {
        "id": "rGC6TOwyyChH",
        "colab_type": "code",
        "colab": {
          "base_uri": "https://localhost:8080/",
          "height": 34
        },
        "outputId": "9a31629e-d2ee-4937-f8e9-b98557d8ca11"
      },
      "source": [
        "word = 'banana'\n",
        "word.upper()"
      ],
      "execution_count": 15,
      "outputs": [
        {
          "output_type": "execute_result",
          "data": {
            "text/plain": [
              "'BANANA'"
            ]
          },
          "metadata": {
            "tags": []
          },
          "execution_count": 15
        }
      ]
    },
    {
      "cell_type": "markdown",
      "metadata": {
        "id": "gCWy0auo0y4O",
        "colab_type": "text"
      },
      "source": [
        "There is a string method named `find` that searches for the position of one string within another:\n",
        "\n"
      ]
    },
    {
      "cell_type": "markdown",
      "metadata": {
        "id": "WTfE4apf4OWt",
        "colab_type": "text"
      },
      "source": [
        "In this example, we invoke `find` on `word` and pass the letter we are looking for as a parameter.\n"
      ]
    },
    {
      "cell_type": "code",
      "metadata": {
        "id": "yJf2lGykyCpB",
        "colab_type": "code",
        "colab": {
          "base_uri": "https://localhost:8080/",
          "height": 34
        },
        "outputId": "b40b2e73-26a7-4041-b93a-a23a520b91e1"
      },
      "source": [
        "word = 'banana'\n",
        "index = word.find('a')\n",
        "print(index)"
      ],
      "execution_count": 9,
      "outputs": [
        {
          "output_type": "stream",
          "text": [
            "1\n"
          ],
          "name": "stdout"
        }
      ]
    },
    {
      "cell_type": "markdown",
      "metadata": {
        "id": "HH6rjQSD4LhP",
        "colab_type": "text"
      },
      "source": [
        "> Note that indexes are numbered from left to right and that the count starts with `position 0`, not 1."
      ]
    },
    {
      "cell_type": "markdown",
      "metadata": {
        "id": "vKZ5v18n3xQN",
        "colab_type": "text"
      },
      "source": [
        "\n",
        "The find method can find substrings as well as characters:"
      ]
    },
    {
      "cell_type": "code",
      "metadata": {
        "id": "S_MbYABW1NxN",
        "colab_type": "code",
        "colab": {
          "base_uri": "https://localhost:8080/",
          "height": 34
        },
        "outputId": "781e1c59-7460-4d3e-ebda-3db6a93e9477"
      },
      "source": [
        "word.find('na')"
      ],
      "execution_count": 10,
      "outputs": [
        {
          "output_type": "execute_result",
          "data": {
            "text/plain": [
              "2"
            ]
          },
          "metadata": {
            "tags": []
          },
          "execution_count": 10
        }
      ]
    },
    {
      "cell_type": "markdown",
      "metadata": {
        "id": "uDkcRVIx1SIv",
        "colab_type": "text"
      },
      "source": [
        "It can take as a second argument the index where it should start:"
      ]
    },
    {
      "cell_type": "code",
      "metadata": {
        "id": "eMITHW3h1Yag",
        "colab_type": "code",
        "colab": {
          "base_uri": "https://localhost:8080/",
          "height": 34
        },
        "outputId": "cc5c1fa9-e3af-4b42-cc81-121ff8070402"
      },
      "source": [
        "word.find('na', 3)"
      ],
      "execution_count": 12,
      "outputs": [
        {
          "output_type": "execute_result",
          "data": {
            "text/plain": [
              "4"
            ]
          },
          "metadata": {
            "tags": []
          },
          "execution_count": 12
        }
      ]
    },
    {
      "cell_type": "markdown",
      "metadata": {
        "id": "Wo00NWDG4AbX",
        "colab_type": "text"
      },
      "source": [
        "If the character or substring is not found, it will return -1."
      ]
    },
    {
      "cell_type": "code",
      "metadata": {
        "id": "VoPA4lxP4fRQ",
        "colab_type": "code",
        "colab": {
          "base_uri": "https://localhost:8080/",
          "height": 34
        },
        "outputId": "9cdb86db-49b7-414a-e6b0-dc99d39b4e49"
      },
      "source": [
        "word.find('z')"
      ],
      "execution_count": 13,
      "outputs": [
        {
          "output_type": "execute_result",
          "data": {
            "text/plain": [
              "-1"
            ]
          },
          "metadata": {
            "tags": []
          },
          "execution_count": 13
        }
      ]
    },
    {
      "cell_type": "markdown",
      "metadata": {
        "id": "ZNcU72ppBOX-",
        "colab_type": "text"
      },
      "source": [
        ""
      ]
    },
    {
      "cell_type": "code",
      "metadata": {
        "id": "ol5A2MZ1BMHW",
        "colab_type": "code",
        "colab": {}
      },
      "source": [
        ""
      ],
      "execution_count": 0,
      "outputs": []
    },
    {
      "cell_type": "markdown",
      "metadata": {
        "id": "B93lfWqcyC1o",
        "colab_type": "text"
      },
      "source": [
        "One common task is to remove white space (spaces, tabs, or newlines) from the beginning and end of a string using the strip method:"
      ]
    },
    {
      "cell_type": "code",
      "metadata": {
        "id": "r8_6LdeuyCnI",
        "colab_type": "code",
        "colab": {
          "base_uri": "https://localhost:8080/",
          "height": 34
        },
        "outputId": "b8f7a2be-77aa-410a-ad35-d5d4efdc4a54"
      },
      "source": [
        "line = '  Here we go  '\n",
        "line.strip()"
      ],
      "execution_count": 8,
      "outputs": [
        {
          "output_type": "execute_result",
          "data": {
            "text/plain": [
              "'Here we go'"
            ]
          },
          "metadata": {
            "tags": []
          },
          "execution_count": 8
        }
      ]
    },
    {
      "cell_type": "markdown",
      "metadata": {
        "id": "fEr4u5jM5jFd",
        "colab_type": "text"
      },
      "source": [
        "To Do:\n",
        "* count\n",
        "* split\n",
        "* index\n"
      ]
    },
    {
      "cell_type": "markdown",
      "metadata": {
        "id": "18xXDCV_9F_m",
        "colab_type": "text"
      },
      "source": [
        "### Exercises"
      ]
    },
    {
      "cell_type": "markdown",
      "metadata": {
        "id": "YpQvpI2c9Qx4",
        "colab_type": "text"
      },
      "source": [
        "Exercise 1: \tWrite a program that accept a DNA sequences from the user, convert it to uppercase, and count the number of A,C,G , and T nucleotides "
      ]
    },
    {
      "cell_type": "code",
      "metadata": {
        "id": "FKUZGlw99PuK",
        "colab_type": "code",
        "colab": {}
      },
      "source": [
        ""
      ],
      "execution_count": 0,
      "outputs": []
    },
    {
      "cell_type": "markdown",
      "metadata": {
        "id": "tRixzEkWDE7a",
        "colab_type": "text"
      },
      "source": [
        "Exercise 2: \tWrite a program that accept a string of characters and then print each 5 characters in a separate line."
      ]
    },
    {
      "cell_type": "code",
      "metadata": {
        "id": "KhNVQazBCgms",
        "colab_type": "code",
        "colab": {}
      },
      "source": [
        ""
      ],
      "execution_count": 0,
      "outputs": []
    }
  ]
}