{
  "nbformat": 4,
  "nbformat_minor": 0,
  "metadata": {
    "colab": {
      "name": "sheet2_string.ipynb",
      "provenance": [],
      "authorship_tag": "ABX9TyO2CP3yPTfmpaxhlDK4WtZ9",
      "include_colab_link": true
    },
    "kernelspec": {
      "name": "python3",
      "display_name": "Python 3"
    }
  },
  "cells": [
    {
      "cell_type": "markdown",
      "metadata": {
        "id": "view-in-github",
        "colab_type": "text"
      },
      "source": [
        "<a href=\"https://colab.research.google.com/github/Ali-Abdelmonim/Teaching/blob/master/Programming%20Language/Assignments/sheet2_string.ipynb\" target=\"_parent\"><img src=\"https://colab.research.google.com/assets/colab-badge.svg\" alt=\"Open In Colab\"/></a>"
      ]
    },
    {
      "cell_type": "markdown",
      "metadata": {
        "id": "TPMsnlMHdB-s",
        "colab_type": "text"
      },
      "source": [
        "#### The following programs contain errors. Rewrite the programs to correct the errors."
      ]
    },
    {
      "cell_type": "markdown",
      "metadata": {
        "id": "UYo1PPDqdTxo",
        "colab_type": "text"
      },
      "source": [
        "$DNA = \\<STDIN>;\t\n",
        "\n",
        "$position = index[$DNA;\"AA\";3];\t\n",
        "\n",
        "if ($position= -1);\t\t\t\t\n",
        "[ \t\t\t\t\t\t\t\n",
        "\tprint \"NOT FOUND.\";\t\t\t\t\n",
        "]\t\t\t\t\t\t\t\n",
        "elsif\t\t\t\t\t\t\n",
        "[\t\t\t\t\t\t\t\t\n",
        "\tprint \"FOUND\";\t\t\t\t\t\n",
        "]\n"
      ]
    },
    {
      "cell_type": "code",
      "metadata": {
        "id": "21-o1LlQ7ZyB",
        "colab_type": "code",
        "outputId": "3e5e35ba-fc5e-4113-99ae-16c8b02ece4b",
        "colab": {
          "base_uri": "https://localhost:8080/",
          "height": 52
        }
      },
      "source": [
        "DNA = input()\t# cann't use dollar sign in variable name. \n",
        "\n",
        "''' \n",
        "Note that we will use find instead of index method. \n",
        "find will return -1 if \"AA\" not found but index method will raise a value error. \n",
        "And the program compare with -1 in if condition.\n",
        "''' \n",
        "position = DNA.find(\"AA\", 3)\t# use dot notation with any method.\n",
        "\n",
        "if (position== -1): # use '==' for comparison instead of assignment operator'='.\t\t\t\n",
        " \t\t\t\t\t\t\t\n",
        "\tprint(\"NOT FOUND.\")\t\t\t\t\n",
        "\t\t\t\t\t\t\t\n",
        "else: # use else instead of elif, it's \"found\" or \"not found\". no other choices.\t\t\t\t\t\t\n",
        "\t\t\t\t\t\t\t\t\n",
        "\tprint(\"FOUND\")\t\t\t\t\t\n"
      ],
      "execution_count": 0,
      "outputs": [
        {
          "output_type": "stream",
          "text": [
            "CTGACTG\n",
            "NOT FOUND.\n"
          ],
          "name": "stdout"
        }
      ]
    },
    {
      "cell_type": "markdown",
      "metadata": {
        "id": "u-B7KHOWS7Dl",
        "colab_type": "text"
      },
      "source": [
        "#### Write the output of the following programs:"
      ]
    },
    {
      "cell_type": "markdown",
      "metadata": {
        "id": "LICuaULxS9QZ",
        "colab_type": "text"
      },
      "source": [
        "1.\n",
        "\t\n",
        "fac= \"Bio Faculty\"   \n",
        "\n",
        "leng=len(fac)\n",
        "\n",
        "space=fac.find(\" \")\n",
        "\n",
        "str1 = fac.split(\" \")\n",
        "\n",
        "str2 =fac[space:leng] \n",
        "\n",
        "st=str1[0]+\"technology\"+str2\n",
        "\n",
        "print (\"st\")\n",
        "\n",
        "print(st)\n"
      ]
    },
    {
      "cell_type": "code",
      "metadata": {
        "id": "QnPMuQszGY8O",
        "colab_type": "code",
        "outputId": "9170d7ad-cca7-4aa9-917a-dc6049afee0a",
        "colab": {
          "base_uri": "https://localhost:8080/",
          "height": 52
        }
      },
      "source": [
        "fac= \"Bio Faculty\"        \n",
        "leng=len(fac)        #count the number of characters which is 11, Space included.\n",
        "space=fac.find(\" \")  #search for Space, it's at index 3. \n",
        "str1 = fac.split(\" \")#split fac, will return this list [\"Bio\", \"Faculty\"]\n",
        "str2 =fac[space:leng]#slice fac from index 3 to index 11, the last is excluded.  \n",
        "st=str1[0]+\"technology\"+str2# concatenate \"Bio\" + \"technology\" + \" Faculty\"\n",
        "print (\"st\") # it will print \"st\", Note it's a string not a variable name.\n",
        "print(st) # it will print the content of st.\n"
      ],
      "execution_count": 0,
      "outputs": [
        {
          "output_type": "stream",
          "text": [
            "st\n",
            "Biotechnology Faculty\n"
          ],
          "name": "stdout"
        }
      ]
    },
    {
      "cell_type": "markdown",
      "metadata": {
        "id": "6ceofGX1ZToE",
        "colab_type": "text"
      },
      "source": [
        "2.\n",
        "\n",
        "STR = \"SUCCESS SUCCESS..!! \"; \n",
        "\n",
        "STR1 = STR.find( \"cc\"); \n",
        "\n",
        "STR2 = STR.find ( \"CS\", 2); \n",
        "\n",
        "STR3 = STR.find( \"CE\"); \n",
        "\n",
        "STR4 = STR.replace( \"C\",\"A\");\n",
        "\n",
        "print(STR1 )\n",
        "\n",
        "print (STR2 )\n",
        "\n",
        "print (STR3 )\n",
        "\n",
        "print (STR4)\n"
      ]
    },
    {
      "cell_type": "code",
      "metadata": {
        "id": "fZQLgOqwK5mj",
        "colab_type": "code",
        "outputId": "d14d5365-7a66-460f-8b49-ca9832e0bc5c",
        "colab": {
          "base_uri": "https://localhost:8080/",
          "height": 87
        }
      },
      "source": [
        "STR = \"SUCCESS SUCCESS..!! \";   \n",
        "STR1 = STR.find( \"cc\");        # not found, it will return -1.    \n",
        "STR2 = STR.find ( \"CS\", 2);    # not found, it will return -1.\n",
        "STR3 = STR.find( \"CE\");        # found CE at index 3 and 4, so it will return 3.\n",
        "STR4 = STR.replace( \"C\",\"A\");  # It will replace each \"C\" with \"A\"\n",
        "print(STR1 )\n",
        "print (STR2 )\n",
        "print (STR3 )\n",
        "print (STR4)\n"
      ],
      "execution_count": 0,
      "outputs": [
        {
          "output_type": "stream",
          "text": [
            "-1\n",
            "-1\n",
            "3\n",
            "SUAAESS SUAAESS..!! \n"
          ],
          "name": "stdout"
        }
      ]
    },
    {
      "cell_type": "markdown",
      "metadata": {
        "id": "angQfgPjasd2",
        "colab_type": "text"
      },
      "source": [
        "3.\n",
        "\n",
        "DNA =  \"CTGACTG   \"\n",
        "\n",
        "print(len(DNA) \n",
        "\n",
        "d =  \"TG\";\n",
        "\n",
        "DNA=DNA.strip()\n",
        "\n",
        "n = DNA.find( d , 0)\n",
        "\n",
        "n += 2;\n",
        "\n",
        "new=DNA[n:n+2]\n",
        "\n",
        "print (new , DNA[n:2])\n"
      ]
    },
    {
      "cell_type": "code",
      "metadata": {
        "id": "dLbU7qmya8DC",
        "colab_type": "code",
        "outputId": "ba5345bd-807d-4538-afc4-7241f9a776ac",
        "colab": {
          "base_uri": "https://localhost:8080/",
          "height": 52
        }
      },
      "source": [
        "DNA =  \"CTGACTG   \"\n",
        "print(len(DNA))  # count the number of characters which is 10, 7 + 3 Spaces.\n",
        "d =  \"TG\";\n",
        "DNA=DNA.strip()# remove all the spaces from the beginning and end, return \"CTGACTG\"\n",
        "n = DNA.find( d , 0) # search for TG in DNA, fount at index 1.\n",
        "n += 2;              # 1+2 = 3\n",
        "new=DNA[n:n+2] # slice DNA from 3 to 5, the last is excluded. will return \"AC\"\n",
        "print (new , DNA[n:2]) # DNA[3:2] will be white space because the fist index is bigger than the second.\n"
      ],
      "execution_count": 0,
      "outputs": [
        {
          "output_type": "stream",
          "text": [
            "10\n",
            "AC \n"
          ],
          "name": "stdout"
        }
      ]
    },
    {
      "cell_type": "markdown",
      "metadata": {
        "id": "pvBz_t08K-XP",
        "colab_type": "text"
      },
      "source": [
        "#### Write a  program to do each of the following:"
      ]
    },
    {
      "cell_type": "markdown",
      "metadata": {
        "id": "R4McYv40E_wN",
        "colab_type": "text"
      },
      "source": [
        "1.\tAsk the user to enter his name in one string (his name, his father name, his last name) then print\n",
        "\n",
        "  •\this name and the last name\n",
        "\n",
        "  •\this last name then his name\n",
        "  \n",
        "  •\this full name but after changing his father name\n",
        "\n",
        "   Ex: If we enter \"Mohamed Beh Ali\", the program will print out:\n",
        "\n",
        "    - Mohamed Ali\n",
        "\n",
        "    - Ali Mohamed\n",
        "\n",
        "    - Mohamed MrBeh Ali\n",
        "    \n",
        "\n"
      ]
    },
    {
      "cell_type": "code",
      "metadata": {
        "id": "9QcsYsh-FL0B",
        "colab_type": "code",
        "outputId": "7a13860c-a75f-427d-9d0e-b5392867d9b4",
        "colab": {
          "base_uri": "https://localhost:8080/",
          "height": 87
        }
      },
      "source": [
        "full_name = input(\"Enter your full name\")\n",
        "\n",
        "name = full_name.split(\" \")\n",
        "\n",
        "# First name and the last name\n",
        "print(name[0] +\" \"+ name[2])\n",
        "\n",
        "# Last name then first name\n",
        "print(name[2] +\" \"+ name[0])\n",
        "\n",
        "'''\n",
        "Full name but after changing father name, Here i will put 'Mr' \n",
        "in the beginning but you can do anything else.\n",
        "'''\n",
        "name[1] = \"Mr\"+name[1]\n",
        "print(name[0] +\" \"+ name[1] +\" \"+ name[2])\n"
      ],
      "execution_count": 0,
      "outputs": [
        {
          "output_type": "stream",
          "text": [
            "Enter your full nameMohamed Beh Ali\n",
            "Mohamed Ali\n",
            "Ali Mohamed\n",
            "Mohamed MrBeh Ali\n"
          ],
          "name": "stdout"
        }
      ]
    },
    {
      "cell_type": "markdown",
      "metadata": {
        "id": "iNZ58TNBLExD",
        "colab_type": "text"
      },
      "source": [
        "2.\tRead a string  from the user count the number of words in this string, and print  the first word only"
      ]
    },
    {
      "cell_type": "code",
      "metadata": {
        "id": "o3e3lk56LD-h",
        "colab_type": "code",
        "outputId": "13a67156-f597-492c-9ee7-b5d8558e909a",
        "colab": {
          "base_uri": "https://localhost:8080/",
          "height": 70
        }
      },
      "source": [
        "txt = input(\"Enter any string: \")\n",
        "\n",
        "words = txt.split(\" \") # Split string into words\n",
        "txt_length = len(words) # Count number of words \n",
        "\n",
        "print(\"The number of words is: \", txt_length)\n",
        "print(\"The first word is: \", words[0])"
      ],
      "execution_count": 0,
      "outputs": [
        {
          "output_type": "stream",
          "text": [
            "Enter any string: Stay home Stay safe\n",
            "The number of words is:  4\n",
            "The first word is:  Stay\n"
          ],
          "name": "stdout"
        }
      ]
    }
  ]
}