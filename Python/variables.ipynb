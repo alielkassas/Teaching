{
 "cells": [
  {
   "cell_type": "markdown",
   "id": "ebcb78cf-94a7-4ca8-86ee-932840861735",
   "metadata": {},
   "source": [
    "# Variables, expressions, and statements\n",
    "## Values and types\n",
    "A value is one of the basic things a program works with, like a letter or a number. The values we have seen so far are 1, 2, and “Hello, World!”\n",
    "\n",
    "These values belong to different types: 2 is an integer, and “Hello, World!” is a string, so called because it contains a “string” of letters. You (and the interpreter) can identify strings because they are enclosed in quotation marks."
   ]
  },
  {
   "cell_type": "code",
   "execution_count": 1,
   "id": "48bba2af-6bc9-4f3e-ac29-c0e9025d2b58",
   "metadata": {},
   "outputs": [
    {
     "name": "stdout",
     "output_type": "stream",
     "text": [
      "4\n"
     ]
    }
   ],
   "source": [
    "print(4)"
   ]
  },
  {
   "cell_type": "markdown",
   "id": "d57dac9f-5ed2-4c71-99ee-5a4bcf5cb4fc",
   "metadata": {},
   "source": [
    "If you are not sure what type a value has, the interpreter can tell you."
   ]
  },
  {
   "cell_type": "code",
   "execution_count": 2,
   "id": "58571381-af74-493b-8418-4edc8e43fea2",
   "metadata": {},
   "outputs": [
    {
     "data": {
      "text/plain": [
       "str"
      ]
     },
     "execution_count": 2,
     "metadata": {},
     "output_type": "execute_result"
    }
   ],
   "source": [
    "type('Hello, World!')"
   ]
  },
  {
   "cell_type": "markdown",
   "id": "0b6db802-dd04-4e9a-a0d9-373ced79dc3d",
   "metadata": {},
   "source": [
    "Not surprisingly, strings belong to the type str and integers belong to the type int. Less obviously, numbers with a decimal point belong to a type called float, because these numbers are represented in a format called floating point."
   ]
  },
  {
   "cell_type": "code",
   "execution_count": 3,
   "id": "ab084ff3-4699-4c55-9585-0078cf16fd35",
   "metadata": {},
   "outputs": [
    {
     "data": {
      "text/plain": [
       "float"
      ]
     },
     "execution_count": 3,
     "metadata": {},
     "output_type": "execute_result"
    }
   ],
   "source": [
    "type(3.2)"
   ]
  },
  {
   "cell_type": "markdown",
   "id": "ad5995b7-84d9-4521-a930-c12faf7ff36c",
   "metadata": {},
   "source": [
    "What about values like “17” and “3.2”? They look like numbers, but they are in quotation marks like strings."
   ]
  },
  {
   "cell_type": "code",
   "execution_count": 4,
   "id": "31acc93b-c1e4-4978-8314-000fd01eaaf8",
   "metadata": {},
   "outputs": [
    {
     "data": {
      "text/plain": [
       "str"
      ]
     },
     "execution_count": 4,
     "metadata": {},
     "output_type": "execute_result"
    }
   ],
   "source": [
    " type('17')"
   ]
  },
  {
   "cell_type": "markdown",
   "id": "3d935a07-a224-4b4f-9aac-3f6f16bf781a",
   "metadata": {},
   "source": [
    "They’re strings.\n",
    "\n",
    "When you type a large integer, you might be tempted to use commas between groups of three digits, as in 1,000,000. This is not a legal integer in Python, but it is legal:"
   ]
  },
  {
   "cell_type": "code",
   "execution_count": 5,
   "id": "728f0d11-fa64-41a6-b359-ed7611365989",
   "metadata": {},
   "outputs": [
    {
     "name": "stdout",
     "output_type": "stream",
     "text": [
      "1 0 0\n"
     ]
    }
   ],
   "source": [
    "print(1,000,000)"
   ]
  },
  {
   "cell_type": "markdown",
   "id": "c877b5c5-6e97-4243-8d9c-a1d5a6b8a1da",
   "metadata": {},
   "source": [
    "Well, that’s not what we expected at all! Python interprets 1,000,000 as a comma-separated sequence of integers, which it prints with spaces between.\n",
    "\n",
    "This is the first example we have seen of a semantic error: the code runs without producing an error message, but it doesn’t do the “right” thing.\n",
    "\n",
    "## Variables\n",
    "One of the most powerful features of a programming language is the ability to manipulate variables. A variable is a name that refers to a value.\n",
    "\n",
    "An assignment statement creates new variables and gives them values:"
   ]
  },
  {
   "cell_type": "code",
   "execution_count": 6,
   "id": "c7c040cf-2ae9-40ba-aeef-82f5b097bc4d",
   "metadata": {},
   "outputs": [],
   "source": [
    "message = 'And now for something completely different'\n",
    "n = 17\n",
    "pi = 3.1415926535897931"
   ]
  },
  {
   "cell_type": "markdown",
   "id": "b8bd4b59-0227-4683-bed5-85c0c5d64c0a",
   "metadata": {},
   "source": [
    "This example makes three assignments. The first assigns a string to a new variable named message; the second assigns the integer 17 to n; the third assigns the (approximate) value of π to pi.\n",
    "\n",
    "To display the value of a variable, you can use a print statement:"
   ]
  },
  {
   "cell_type": "code",
   "execution_count": 7,
   "id": "7724d4e0-b12f-4a44-bc1e-5291ef7736cf",
   "metadata": {},
   "outputs": [
    {
     "name": "stdout",
     "output_type": "stream",
     "text": [
      "17\n"
     ]
    }
   ],
   "source": [
    "print(n)"
   ]
  },
  {
   "cell_type": "code",
   "execution_count": 8,
   "id": "170318f0-469d-4cf5-bc78-465a7d45560c",
   "metadata": {},
   "outputs": [
    {
     "name": "stdout",
     "output_type": "stream",
     "text": [
      "3.141592653589793\n"
     ]
    }
   ],
   "source": [
    "print(pi)"
   ]
  },
  {
   "cell_type": "markdown",
   "id": "dd957f0f-0b1b-4728-81f3-ec25a468202a",
   "metadata": {},
   "source": [
    "The type of a variable is the type of the value it refers to."
   ]
  },
  {
   "cell_type": "code",
   "execution_count": 9,
   "id": "142dc846-e8c4-4878-b69c-05837c9a7666",
   "metadata": {},
   "outputs": [
    {
     "data": {
      "text/plain": [
       "str"
      ]
     },
     "execution_count": 9,
     "metadata": {},
     "output_type": "execute_result"
    }
   ],
   "source": [
    "type(message)"
   ]
  },
  {
   "cell_type": "code",
   "execution_count": 10,
   "id": "9f29a952-03f4-4ae7-9173-bd8fc47fcd72",
   "metadata": {},
   "outputs": [
    {
     "data": {
      "text/plain": [
       "int"
      ]
     },
     "execution_count": 10,
     "metadata": {},
     "output_type": "execute_result"
    }
   ],
   "source": [
    "type(n)"
   ]
  },
  {
   "cell_type": "code",
   "execution_count": 11,
   "id": "ab1fdbb4-b8db-4a92-ae10-19e88cad8503",
   "metadata": {},
   "outputs": [
    {
     "data": {
      "text/plain": [
       "float"
      ]
     },
     "execution_count": 11,
     "metadata": {},
     "output_type": "execute_result"
    }
   ],
   "source": [
    "type(pi)"
   ]
  },
  {
   "cell_type": "markdown",
   "id": "a0a145e1-eebf-42c3-aab6-f2cf54990e6a",
   "metadata": {},
   "source": [
    "## Variable names and keywords\n",
    "Programmers generally choose names for their variables that are meaningful and document what the variable is used for.\n",
    "\n",
    "Variable names can be arbitrarily long. They can contain both letters and numbers, but they cannot start with a number. It is legal to use uppercase letters, but it is a good idea to begin variable names with a lowercase letter (you’ll see why later).\n",
    "\n",
    "The underscore character ( _ ) can appear in a name. It is often used in names with multiple words, such as my_name or airspeed_of_unladen_swallow. Variable names can start with an underscore character, but we generally avoid doing this unless we are writing library code for others to use.\n",
    "\n",
    "If you give a variable an illegal name, you get a syntax error:"
   ]
  },
  {
   "cell_type": "code",
   "execution_count": 12,
   "id": "073c3397-068a-469c-b38d-056548b3a5e2",
   "metadata": {},
   "outputs": [
    {
     "ename": "SyntaxError",
     "evalue": "invalid decimal literal (3381618747.py, line 1)",
     "output_type": "error",
     "traceback": [
      "\u001b[1;36m  Cell \u001b[1;32mIn[12], line 1\u001b[1;36m\u001b[0m\n\u001b[1;33m    76trombones = 'big parade'\u001b[0m\n\u001b[1;37m     ^\u001b[0m\n\u001b[1;31mSyntaxError\u001b[0m\u001b[1;31m:\u001b[0m invalid decimal literal\n"
     ]
    }
   ],
   "source": [
    "76trombones = 'big parade'"
   ]
  },
  {
   "cell_type": "code",
   "execution_count": 13,
   "id": "3be8f9cc-3571-4bb7-af13-82b8e1d9b73d",
   "metadata": {},
   "outputs": [
    {
     "ename": "FileNotFoundError",
     "evalue": "[Errno 2] No such file or directory: '@ = 1000000'",
     "output_type": "error",
     "traceback": [
      "\u001b[1;31m---------------------------------------------------------------------------\u001b[0m",
      "\u001b[1;31mFileNotFoundError\u001b[0m                         Traceback (most recent call last)",
      "Cell \u001b[1;32mIn[13], line 1\u001b[0m\n\u001b[1;32m----> 1\u001b[0m \u001b[43mget_ipython\u001b[49m\u001b[43m(\u001b[49m\u001b[43m)\u001b[49m\u001b[38;5;241;43m.\u001b[39;49m\u001b[43mrun_line_magic\u001b[49m\u001b[43m(\u001b[49m\u001b[38;5;124;43m'\u001b[39;49m\u001b[38;5;124;43mmore\u001b[39;49m\u001b[38;5;124;43m'\u001b[39;49m\u001b[43m,\u001b[49m\u001b[43m \u001b[49m\u001b[38;5;124;43m'\u001b[39;49m\u001b[38;5;124;43m@ = 1000000\u001b[39;49m\u001b[38;5;124;43m'\u001b[39;49m\u001b[43m)\u001b[49m\n",
      "File \u001b[1;32m~\\anaconda3\\envs\\auto\\lib\\site-packages\\IPython\\core\\interactiveshell.py:2369\u001b[0m, in \u001b[0;36mInteractiveShell.run_line_magic\u001b[1;34m(self, magic_name, line, _stack_depth)\u001b[0m\n\u001b[0;32m   2367\u001b[0m     kwargs[\u001b[38;5;124m'\u001b[39m\u001b[38;5;124mlocal_ns\u001b[39m\u001b[38;5;124m'\u001b[39m] \u001b[38;5;241m=\u001b[39m \u001b[38;5;28mself\u001b[39m\u001b[38;5;241m.\u001b[39mget_local_scope(stack_depth)\n\u001b[0;32m   2368\u001b[0m \u001b[38;5;28;01mwith\u001b[39;00m \u001b[38;5;28mself\u001b[39m\u001b[38;5;241m.\u001b[39mbuiltin_trap:\n\u001b[1;32m-> 2369\u001b[0m     result \u001b[38;5;241m=\u001b[39m fn(\u001b[38;5;241m*\u001b[39margs, \u001b[38;5;241m*\u001b[39m\u001b[38;5;241m*\u001b[39mkwargs)\n\u001b[0;32m   2371\u001b[0m \u001b[38;5;66;03m# The code below prevents the output from being displayed\u001b[39;00m\n\u001b[0;32m   2372\u001b[0m \u001b[38;5;66;03m# when using magics with decodator @output_can_be_silenced\u001b[39;00m\n\u001b[0;32m   2373\u001b[0m \u001b[38;5;66;03m# when the last Python token in the expression is a ';'.\u001b[39;00m\n\u001b[0;32m   2374\u001b[0m \u001b[38;5;28;01mif\u001b[39;00m \u001b[38;5;28mgetattr\u001b[39m(fn, magic\u001b[38;5;241m.\u001b[39mMAGIC_OUTPUT_CAN_BE_SILENCED, \u001b[38;5;28;01mFalse\u001b[39;00m):\n",
      "File \u001b[1;32m~\\anaconda3\\envs\\auto\\lib\\site-packages\\ipykernel\\zmqshell.py:333\u001b[0m, in \u001b[0;36mKernelMagics.less\u001b[1;34m(self, arg_s)\u001b[0m\n\u001b[0;32m    331\u001b[0m     cont \u001b[38;5;241m=\u001b[39m \u001b[38;5;28mself\u001b[39m\u001b[38;5;241m.\u001b[39mshell\u001b[38;5;241m.\u001b[39mpycolorize(openpy\u001b[38;5;241m.\u001b[39mread_py_file(arg_s, skip_encoding_cookie\u001b[38;5;241m=\u001b[39m\u001b[38;5;28;01mFalse\u001b[39;00m))\n\u001b[0;32m    332\u001b[0m \u001b[38;5;28;01melse\u001b[39;00m:\n\u001b[1;32m--> 333\u001b[0m     \u001b[38;5;28;01mwith\u001b[39;00m \u001b[38;5;28;43mopen\u001b[39;49m\u001b[43m(\u001b[49m\u001b[43marg_s\u001b[49m\u001b[43m)\u001b[49m \u001b[38;5;28;01mas\u001b[39;00m fid:\n\u001b[0;32m    334\u001b[0m         cont \u001b[38;5;241m=\u001b[39m fid\u001b[38;5;241m.\u001b[39mread()\n\u001b[0;32m    335\u001b[0m page\u001b[38;5;241m.\u001b[39mpage(cont)\n",
      "\u001b[1;31mFileNotFoundError\u001b[0m: [Errno 2] No such file or directory: '@ = 1000000'"
     ]
    }
   ],
   "source": [
    "more@ = 1000000"
   ]
  },
  {
   "cell_type": "code",
   "execution_count": 14,
   "id": "8c7eb377-5a46-46a7-be78-41246de2137b",
   "metadata": {},
   "outputs": [
    {
     "ename": "SyntaxError",
     "evalue": "invalid syntax (3803549429.py, line 1)",
     "output_type": "error",
     "traceback": [
      "\u001b[1;36m  Cell \u001b[1;32mIn[14], line 1\u001b[1;36m\u001b[0m\n\u001b[1;33m    class = 'Advanced Theoretical Zymurgy'\u001b[0m\n\u001b[1;37m          ^\u001b[0m\n\u001b[1;31mSyntaxError\u001b[0m\u001b[1;31m:\u001b[0m invalid syntax\n"
     ]
    }
   ],
   "source": [
    "class = 'Advanced Theoretical Zymurgy'"
   ]
  },
  {
   "cell_type": "markdown",
   "id": "86ed3bd5-051c-4ec6-a8e2-f1e5c76456e5",
   "metadata": {},
   "source": [
    "76trombones is illegal because it begins with a number. more@ is illegal because it contains an illegal character, @. But what’s wrong with class?\n",
    "\n",
    "It turns out that class is one of Python’s keywords. The interpreter uses keywords to recognize the structure of the program, and they cannot be used as variable names.\n",
    "\n",
    "Python reserves 35 keywords:"
   ]
  },
  {
   "cell_type": "markdown",
   "id": "071f8a10-17f5-4f4b-bc9a-7db9869e342c",
   "metadata": {},
   "source": [
    "You might want to keep this list handy. If the interpreter complains about one of your variable names and you don’t know why, see if it is on this list."
   ]
  },
  {
   "cell_type": "markdown",
   "id": "903fe5a7-6a02-436d-83de-e9c627ed1c80",
   "metadata": {},
   "source": [
    "## Statements\n",
    "A statement is a unit of code that the Python interpreter can execute. We have seen two kinds of statements: print being an expression statement and assignment.\n",
    "\n",
    "When you type a statement in interactive mode, the interpreter executes it and displays the result, if there is one.\n",
    "\n",
    "A script usually contains a sequence of statements. If there is more than one statement, the results appear one at a time as the statements execute.\n",
    "\n",
    "For example, the script"
   ]
  },
  {
   "cell_type": "code",
   "execution_count": 15,
   "id": "5711ac26-7307-40fb-bbc5-d3d72e2c2624",
   "metadata": {},
   "outputs": [
    {
     "name": "stdout",
     "output_type": "stream",
     "text": [
      "1\n",
      "2\n"
     ]
    }
   ],
   "source": [
    "print(1)\n",
    "x = 2\n",
    "print(x)"
   ]
  },
  {
   "cell_type": "markdown",
   "id": "bcf9f1b8-3d7b-4a12-97c8-149a1a33745c",
   "metadata": {},
   "source": [
    "The assignment statement produces no output."
   ]
  },
  {
   "cell_type": "markdown",
   "id": "a11b32cb-2869-40ee-b6ab-dcad6a385084",
   "metadata": {},
   "source": [
    "## Operators and operands\n",
    "Operators are special symbols that represent computations like addition and multiplication. The values the operator is applied to are called operands.\n",
    "\n",
    "The operators +, -, *, /, and ** perform addition, subtraction, multiplication, division, and exponentiation, as in the following examples:\n",
    "\n",
    "```\n",
    "20+32\n",
    "hour-1\n",
    "hour*60+minute\n",
    "minute/60\n",
    "5**2\n",
    "(5+9)*(15-7)\n",
    "```"
   ]
  },
  {
   "cell_type": "markdown",
   "id": "507d2e61-85d7-4a27-b928-bef4f48d5b26",
   "metadata": {},
   "source": [
    "There has been a change in the division operator between Python 2.x and Python 3.x. In Python 3.x, the result of this division is a floating point result:"
   ]
  },
  {
   "cell_type": "code",
   "execution_count": 16,
   "id": "a5b55fdb-f930-4cea-b896-0ad555aafd0f",
   "metadata": {},
   "outputs": [
    {
     "data": {
      "text/plain": [
       "0.9833333333333333"
      ]
     },
     "execution_count": 16,
     "metadata": {},
     "output_type": "execute_result"
    }
   ],
   "source": [
    "minute = 59\n",
    "minute/60"
   ]
  },
  {
   "cell_type": "markdown",
   "id": "72207bce-b32d-4bc5-8668-5ade5535a350",
   "metadata": {},
   "source": [
    "The division operator in Python 2.0 would divide two integers and truncate the result to an integer:"
   ]
  },
  {
   "cell_type": "code",
   "execution_count": 17,
   "id": "75a8ff90-aaff-4ad9-b204-c46750c75ba0",
   "metadata": {},
   "outputs": [
    {
     "data": {
      "text/plain": [
       "0.9833333333333333"
      ]
     },
     "execution_count": 17,
     "metadata": {},
     "output_type": "execute_result"
    }
   ],
   "source": [
    "minute = 59\n",
    "minute/60"
   ]
  },
  {
   "cell_type": "markdown",
   "id": "71f90605-7d86-46b5-8921-9119040c2dc1",
   "metadata": {},
   "source": [
    "To obtain the same answer in Python 3.0 use floored ( // integer) division."
   ]
  },
  {
   "cell_type": "code",
   "execution_count": 19,
   "id": "f82d2ac1-fd0a-4fea-9dfa-ebe9f7bbe90d",
   "metadata": {},
   "outputs": [
    {
     "data": {
      "text/plain": [
       "0"
      ]
     },
     "execution_count": 19,
     "metadata": {},
     "output_type": "execute_result"
    }
   ],
   "source": [
    "minute = 59\n",
    "minute//60"
   ]
  },
  {
   "cell_type": "markdown",
   "id": "7f858ca9-4117-4a1e-8617-b90a55cb7d00",
   "metadata": {},
   "source": [
    "## Expressions\n",
    "An expression is a combination of values, variables, and operators. A value all by itself is considered an expression, and so is a variable, so the following are all legal expressions (assuming that the variable x has been assigned a value):\n",
    "```\n",
    "17\n",
    "x\n",
    "x + 17\n",
    "```"
   ]
  },
  {
   "cell_type": "markdown",
   "id": "396195c8-6420-4fde-9e67-51ecc48f2d83",
   "metadata": {},
   "source": [
    "If you type an expression in interactive mode, the interpreter evaluates it and displays the result:"
   ]
  },
  {
   "cell_type": "code",
   "execution_count": 20,
   "id": "ed1a9a85-e375-4e2f-9b72-dfe27d1efdc3",
   "metadata": {},
   "outputs": [
    {
     "data": {
      "text/plain": [
       "2"
      ]
     },
     "execution_count": 20,
     "metadata": {},
     "output_type": "execute_result"
    }
   ],
   "source": [
    "1 + 1"
   ]
  },
  {
   "cell_type": "markdown",
   "id": "563b0954-1b19-4baf-bf41-a769eedfb0c4",
   "metadata": {},
   "source": [
    "## Order of operations\n",
    "When more than one operator appears in an expression, the order of evaluation depends on the rules of precedence. For mathematical operators, Python follows mathematical convention. The acronym PEMDAS is a useful way to remember the rules:\n",
    "\n",
    "- Parentheses have the highest precedence and can be used to force an expression to evaluate in the order you want. Since expressions in parentheses are evaluated first, 2 * (3-1) is 4, and (1+1)**(5-2) is 8. You can also use parentheses to make an expression easier to read, as in (minute * 100) / 60, even if it doesn’t change the result.\n",
    "\n",
    "- Exponentiation has the next highest precedence, so 2**1+1 is 3, not 4, and 3*1**3 is 3, not 27.\n",
    "\n",
    "- Multiplication and Division have the same precedence, which is higher than Addition and Subtraction, which also have the same precedence. So 2*3-1 is 5, not 4, and 6+4/2 is 8, not 5.\n",
    "\n",
    "- Operators with the same precedence are evaluated from left to right. So the expression 5-3-1 is 1, not 3, because the 5-3 happens first and then 1 is subtracted from 2.\n",
    "\n",
    "When in doubt, always put parentheses in your expressions to make sure the computations are performed in the order you intend."
   ]
  },
  {
   "cell_type": "markdown",
   "id": "3d297dd6-b6b0-4a2c-a6e6-862c25439137",
   "metadata": {},
   "source": [
    "## Modulus operator\n",
    "The modulus operator works on integers and yields the remainder when the first operand is divided by the second. In Python, the modulus operator is a percent sign (%). The syntax is the same as for other operators:"
   ]
  },
  {
   "cell_type": "code",
   "execution_count": 21,
   "id": "f06bf30f-3dc0-4609-8f7e-966284406776",
   "metadata": {},
   "outputs": [
    {
     "name": "stdout",
     "output_type": "stream",
     "text": [
      "2\n"
     ]
    }
   ],
   "source": [
    "quotient = 7 // 3\n",
    "print(quotient)"
   ]
  },
  {
   "cell_type": "code",
   "execution_count": 22,
   "id": "42c412fd-19ff-4f27-a86f-ce4240f558ac",
   "metadata": {},
   "outputs": [
    {
     "name": "stdout",
     "output_type": "stream",
     "text": [
      "1\n"
     ]
    }
   ],
   "source": [
    "remainder = 7 % 3\n",
    "print(remainder)"
   ]
  },
  {
   "cell_type": "markdown",
   "id": "adac4676-2eb9-41a7-831f-cec57c3685a3",
   "metadata": {},
   "source": [
    "So 7 divided by 3 is 2 with 1 left over.\n",
    "\n",
    "The modulus operator turns out to be surprisingly useful. For example, you can check whether one number is divisible by another: if x % y is zero, then x is divisible by y.\n",
    "\n",
    "You can also extract the right-most digit or digits from a number. For example, x % 10 yields the right-most digit of x (in base 10). Similarly, x % 100 yields the last two digits."
   ]
  },
  {
   "cell_type": "markdown",
   "id": "32d2e832-4c14-4454-a45a-48b837cb4dbb",
   "metadata": {},
   "source": [
    "## String operations\n",
    "The + operator works with strings, but it is not addition in the mathematical sense. Instead it performs concatenation, which means joining the strings by linking them end to end. For example:"
   ]
  },
  {
   "cell_type": "code",
   "execution_count": 23,
   "id": "29b596ec-7d42-4d44-b2af-5d25e5be0a55",
   "metadata": {},
   "outputs": [
    {
     "name": "stdout",
     "output_type": "stream",
     "text": [
      "25\n"
     ]
    }
   ],
   "source": [
    "first = 10\n",
    "second = 15\n",
    "print(first+second)"
   ]
  },
  {
   "cell_type": "code",
   "execution_count": 24,
   "id": "baec8412-7a03-4cd5-baf7-5192454a0b68",
   "metadata": {},
   "outputs": [
    {
     "name": "stdout",
     "output_type": "stream",
     "text": [
      "100150\n"
     ]
    }
   ],
   "source": [
    "first = '100'\n",
    "second = '150'\n",
    "print(first + second)"
   ]
  },
  {
   "cell_type": "markdown",
   "id": "bc3b469e-c60d-4660-9e8f-65f51bc20173",
   "metadata": {},
   "source": [
    "The * operator also works with strings by multiplying the content of a string by an integer. For example:"
   ]
  },
  {
   "cell_type": "code",
   "execution_count": 25,
   "id": "1efe9b71-d855-41e8-a9f5-45462fce8942",
   "metadata": {},
   "outputs": [
    {
     "name": "stdout",
     "output_type": "stream",
     "text": [
      "Test Test Test \n"
     ]
    }
   ],
   "source": [
    "first = 'Test '\n",
    "second = 3\n",
    "print(first * second)"
   ]
  },
  {
   "cell_type": "markdown",
   "id": "65a00b31-f93d-4c3e-865f-3327be1be1e9",
   "metadata": {},
   "source": [
    "## Asking the user for input\n",
    "Sometimes we would like to take the value for a variable from the user via their keyboard. Python provides a built-in function called input that gets input from the keyboard1. When this function is called, the program stops and waits for the user to type something. When the user presses Return or Enter, the program resumes and input returns what the user typed as a string."
   ]
  },
  {
   "cell_type": "code",
   "execution_count": 28,
   "id": "0a1e30d5-60c6-4bef-99ab-9c3c09592501",
   "metadata": {},
   "outputs": [
    {
     "name": "stdin",
     "output_type": "stream",
     "text": [
      " hahahaha\n"
     ]
    },
    {
     "name": "stdout",
     "output_type": "stream",
     "text": [
      "hahahaha\n"
     ]
    }
   ],
   "source": [
    "inp = input()\n",
    "print(inp)"
   ]
  },
  {
   "cell_type": "markdown",
   "id": "cbded316-ec8c-489c-97ba-dc90fcd04734",
   "metadata": {},
   "source": [
    "Before getting input from the user, it is a good idea to print a prompt telling the user what to input. You can pass a string to input to be displayed to the user before pausing for input:"
   ]
  },
  {
   "cell_type": "code",
   "execution_count": 29,
   "id": "51a8b500-acc5-4c49-88e7-4e558b70fdab",
   "metadata": {},
   "outputs": [
    {
     "name": "stdin",
     "output_type": "stream",
     "text": [
      "What is your name?\n",
      " Ali\n"
     ]
    },
    {
     "name": "stdout",
     "output_type": "stream",
     "text": [
      "Ali\n"
     ]
    }
   ],
   "source": [
    "name = input('What is your name?\\n')\n",
    "\n",
    "print(name)"
   ]
  },
  {
   "cell_type": "markdown",
   "id": "bd45192e-be3c-4a49-81c1-2f16081d2a61",
   "metadata": {},
   "source": [
    "The sequence \\n at the end of the prompt represents a newline, which is a special character that causes a line break. That’s why the user’s input appears below the prompt.\n",
    "\n",
    "If you expect the user to type an integer, you can try to convert the return value to int using the int() function:"
   ]
  },
  {
   "cell_type": "code",
   "execution_count": 30,
   "id": "c273a4ad-7028-428a-bee5-d71722183e03",
   "metadata": {},
   "outputs": [
    {
     "name": "stdin",
     "output_type": "stream",
     "text": [
      "What...is the airspeed velocity of an unladen swallow?\n",
      " 5\n"
     ]
    },
    {
     "data": {
      "text/plain": [
       "5"
      ]
     },
     "execution_count": 30,
     "metadata": {},
     "output_type": "execute_result"
    }
   ],
   "source": [
    "prompt = 'What...is the airspeed velocity of an unladen swallow?\\n'\n",
    "speed = input(prompt)\n",
    "\n",
    "int(speed)"
   ]
  },
  {
   "cell_type": "code",
   "execution_count": 31,
   "id": "02e24f13-195d-46d1-9978-4a01b9947a67",
   "metadata": {},
   "outputs": [
    {
     "data": {
      "text/plain": [
       "10"
      ]
     },
     "execution_count": 31,
     "metadata": {},
     "output_type": "execute_result"
    }
   ],
   "source": [
    " int(speed) + 5"
   ]
  },
  {
   "cell_type": "markdown",
   "id": "b880b871-bd5a-4c39-9694-e4d6419fbb41",
   "metadata": {},
   "source": [
    "But if the user types something other than a string of digits, you get an error:"
   ]
  },
  {
   "cell_type": "code",
   "execution_count": 32,
   "id": "f3b1bfb0-7f71-4f9a-aa51-3cdf5ea34723",
   "metadata": {},
   "outputs": [
    {
     "name": "stdin",
     "output_type": "stream",
     "text": [
      "What...is the airspeed velocity of an unladen swallow?\n",
      " dgfgf\n"
     ]
    },
    {
     "ename": "ValueError",
     "evalue": "invalid literal for int() with base 10: 'dgfgf'",
     "output_type": "error",
     "traceback": [
      "\u001b[1;31m---------------------------------------------------------------------------\u001b[0m",
      "\u001b[1;31mValueError\u001b[0m                                Traceback (most recent call last)",
      "Cell \u001b[1;32mIn[32], line 3\u001b[0m\n\u001b[0;32m      1\u001b[0m speed \u001b[38;5;241m=\u001b[39m \u001b[38;5;28minput\u001b[39m(prompt)\n\u001b[1;32m----> 3\u001b[0m \u001b[38;5;28;43mint\u001b[39;49m\u001b[43m(\u001b[49m\u001b[43mspeed\u001b[49m\u001b[43m)\u001b[49m\n",
      "\u001b[1;31mValueError\u001b[0m: invalid literal for int() with base 10: 'dgfgf'"
     ]
    }
   ],
   "source": [
    "speed = input(prompt)\n",
    "\n",
    "int(speed)"
   ]
  },
  {
   "cell_type": "markdown",
   "id": "72ff4f74-1a09-41b8-a3c8-cb5a3785670f",
   "metadata": {},
   "source": [
    "We will see how to handle this kind of error later."
   ]
  },
  {
   "cell_type": "markdown",
   "id": "d159c4e7-0858-496f-b0e6-5081706b203a",
   "metadata": {},
   "source": [
    "## Comments\n",
    "As programs get bigger and more complicated, they get more difficult to read. Formal languages are dense, and it is often difficult to look at a piece of code and figure out what it is doing, or why.\n",
    "\n",
    "For this reason, it is a good idea to add notes to your programs to explain in natural language what the program is doing. These notes are called comments, and in Python they start with the # symbol:"
   ]
  },
  {
   "cell_type": "code",
   "execution_count": 33,
   "id": "4dc1e7ab-7257-40f1-b3db-f48339bffe7e",
   "metadata": {},
   "outputs": [],
   "source": [
    "# compute the percentage of the hour that has elapsed\n",
    "percentage = (minute * 100) / 60"
   ]
  },
  {
   "cell_type": "markdown",
   "id": "0295a863-5010-4c50-8247-0e25560fee62",
   "metadata": {},
   "source": [
    "In this case, the comment appears on a line by itself. You can also put comments at the end of a line:"
   ]
  },
  {
   "cell_type": "code",
   "execution_count": 34,
   "id": "890d9875-cd8d-4db8-86c3-42bd83c27fbc",
   "metadata": {},
   "outputs": [],
   "source": [
    "percentage = (minute * 100) / 60     # percentage of an hour"
   ]
  },
  {
   "cell_type": "markdown",
   "id": "f44009eb-d45a-43aa-95f6-a5fae2c8a407",
   "metadata": {},
   "source": [
    "Everything from the # to the end of the line is ignored; it has no effect on the program.\n",
    "\n",
    "Comments are most useful when they document non-obvious features of the code. It is reasonable to assume that the reader can figure out what the code does; it is much more useful to explain why.\n",
    "\n",
    "This comment is redundant with the code and useless:"
   ]
  },
  {
   "cell_type": "code",
   "execution_count": 35,
   "id": "aba629a5-340e-4125-afef-83e874aff520",
   "metadata": {},
   "outputs": [],
   "source": [
    "v = 5     # assign 5 to v"
   ]
  },
  {
   "cell_type": "markdown",
   "id": "c0194df0-a857-49fd-b5f0-9e9ce2ccd294",
   "metadata": {},
   "source": [
    "This comment contains useful information that is not in the code:"
   ]
  },
  {
   "cell_type": "code",
   "execution_count": 36,
   "id": "ef7a4fde-87d6-49a3-ae24-6915b7bcdbe3",
   "metadata": {},
   "outputs": [],
   "source": [
    "v = 5     # velocity in meters/second."
   ]
  },
  {
   "cell_type": "markdown",
   "id": "bcec1b58-f24f-483a-ab74-07eea9fea969",
   "metadata": {},
   "source": [
    "Good variable names can reduce the need for comments, but long names can make complex expressions hard to read, so there is a trade-off."
   ]
  },
  {
   "cell_type": "markdown",
   "id": "29b2cc73-bc73-4a98-a5ec-aa2fa8fd6187",
   "metadata": {},
   "source": [
    "## Choosing mnemonic variable names\n",
    "As long as you follow the simple rules of variable naming, and avoid reserved words, you have a lot of choice when you name your variables. In the beginning, this choice can be confusing both when you read a program and when you write your own programs. For example, the following three programs are identical in terms of what they accomplish, but very different when you read them and try to understand them."
   ]
  },
  {
   "cell_type": "code",
   "execution_count": 38,
   "id": "5ef85c6e-82a5-410e-b990-6f050e335f6c",
   "metadata": {},
   "outputs": [
    {
     "name": "stdout",
     "output_type": "stream",
     "text": [
      "437.5\n"
     ]
    }
   ],
   "source": [
    "a = 35.0\n",
    "b = 12.50\n",
    "c = a * b\n",
    "print(c)"
   ]
  },
  {
   "cell_type": "code",
   "execution_count": 39,
   "id": "883bf144-247b-4cee-b024-8c502b2e1975",
   "metadata": {},
   "outputs": [
    {
     "name": "stdout",
     "output_type": "stream",
     "text": [
      "437.5\n"
     ]
    }
   ],
   "source": [
    "hours = 35.0\n",
    "rate = 12.50\n",
    "pay = hours * rate\n",
    "print(pay)"
   ]
  },
  {
   "cell_type": "code",
   "execution_count": 40,
   "id": "03d2c572-2c33-411e-9f28-6c63a52e50d6",
   "metadata": {},
   "outputs": [
    {
     "name": "stdout",
     "output_type": "stream",
     "text": [
      "437.5\n"
     ]
    }
   ],
   "source": [
    "x1q3z9ahd = 35.0\n",
    "x1q3z9afd = 12.50\n",
    "x1q3p9afd = x1q3z9ahd * x1q3z9afd\n",
    "print(x1q3p9afd)"
   ]
  },
  {
   "cell_type": "markdown",
   "id": "7de726d4-a785-4b99-841e-10f3c52f0f52",
   "metadata": {},
   "source": [
    "The Python interpreter sees all three of these programs as exactly the same but humans see and understand these programs quite differently. Humans will most quickly understand the intent of the second program because the programmer has chosen variable names that reflect their intent regarding what data will be stored in each variable.\n",
    "\n",
    "We call these wisely chosen variable names “mnemonic variable names”. The word mnemonic2 means “memory aid”. We choose mnemonic variable names to help us remember why we created the variable in the first place.\n",
    "\n",
    "While this all sounds great, and it is a very good idea to use mnemonic variable names, mnemonic variable names can get in the way of a beginning programmer’s ability to parse and understand code. This is because beginning programmers have not yet memorized the reserved words (there are only 35 of them) and sometimes variables with names that are too descriptive start to look like part of the language and not just well-chosen variable names.\n",
    "\n",
    "Take a quick look at the following Python sample code which loops through some data. We will cover loops soon, but for now try to just puzzle through what this means:\n",
    "\n",
    "```\n",
    "for word in words:\n",
    "    print(word)\n",
    "```"
   ]
  },
  {
   "cell_type": "markdown",
   "id": "20f6d3c1-eab8-47aa-86e8-292ce00958bb",
   "metadata": {},
   "source": [
    "What is happening here? Which of the tokens (for, word, in, etc.) are reserved words and which are just variable names? Does Python understand at a fundamental level the notion of words? Beginning programmers have trouble separating what parts of the code must be the same as this example and what parts of the code are simply choices made by the programmer.\n",
    "\n",
    "The following code is equivalent to the above code:\n",
    "```\n",
    "for slice in pizza:\n",
    "    print(slice)\n",
    "```"
   ]
  },
  {
   "cell_type": "markdown",
   "id": "5d893c39-38a3-4d25-b740-eccb6c4ce5d0",
   "metadata": {},
   "source": [
    "It is easier for the beginning programmer to look at this code and know which parts are reserved words defined by Python and which parts are simply variable names chosen by the programmer. It is pretty clear that Python has no fundamental understanding of pizza and slices and the fact that a pizza consists of a set of one or more slices.\n",
    "\n",
    "But if our program is truly about reading data and looking for words in the data, pizza and slice are very un-mnemonic variable names. Choosing them as variable names distracts from the meaning of the program.\n",
    "\n",
    "After a pretty short period of time, you will know the most common reserved words and you will start to see the reserved words jumping out at you:\n",
    "\n",
    "```\n",
    "for word in words:\n",
    "    print(word)\n",
    "```"
   ]
  },
  {
   "cell_type": "markdown",
   "id": "8cb5a000-b7d4-4e1c-aac9-96aa55d768c2",
   "metadata": {},
   "source": [
    "The parts of the code that are defined by Python (for, in, print, and :) are in bold and the programmer-chosen variables (word and words) are not in bold. Many text editors are aware of Python syntax and will color reserved words differently to give you clues to keep your variables and reserved words separate. After a while you will begin to read Python and quickly determine what is a variable and what is a reserved word."
   ]
  },
  {
   "cell_type": "markdown",
   "id": "ae7ba346-1137-4661-9987-ee9c3d22ba8f",
   "metadata": {},
   "source": [
    "## Debugging\n",
    "At this point, the syntax error you are most likely to make is an illegal variable name, like class and yield, which are keywords, or odd~job and US$, which contain illegal characters.\n",
    "\n",
    "If you put a space in a variable name, Python thinks it is two operands without an operator:"
   ]
  },
  {
   "cell_type": "code",
   "execution_count": 46,
   "id": "181615ed-96bb-45ba-8ccb-da1f60214210",
   "metadata": {},
   "outputs": [
    {
     "ename": "SyntaxError",
     "evalue": "invalid syntax (651457723.py, line 1)",
     "output_type": "error",
     "traceback": [
      "\u001b[1;36m  Cell \u001b[1;32mIn[46], line 1\u001b[1;36m\u001b[0m\n\u001b[1;33m    bad name = 5\u001b[0m\n\u001b[1;37m        ^\u001b[0m\n\u001b[1;31mSyntaxError\u001b[0m\u001b[1;31m:\u001b[0m invalid syntax\n"
     ]
    }
   ],
   "source": [
    "bad name = 5"
   ]
  },
  {
   "cell_type": "code",
   "execution_count": 47,
   "id": "eba61c81-8fe4-444b-b832-91b9f02203dc",
   "metadata": {},
   "outputs": [
    {
     "ename": "SyntaxError",
     "evalue": "leading zeros in decimal integer literals are not permitted; use an 0o prefix for octal integers (3759614869.py, line 1)",
     "output_type": "error",
     "traceback": [
      "\u001b[1;36m  Cell \u001b[1;32mIn[47], line 1\u001b[1;36m\u001b[0m\n\u001b[1;33m    month = 09\u001b[0m\n\u001b[1;37m            ^\u001b[0m\n\u001b[1;31mSyntaxError\u001b[0m\u001b[1;31m:\u001b[0m leading zeros in decimal integer literals are not permitted; use an 0o prefix for octal integers\n"
     ]
    }
   ],
   "source": [
    "month = 09"
   ]
  },
  {
   "cell_type": "markdown",
   "id": "e5433dcf-590a-49a7-abf1-1ae586aff29d",
   "metadata": {},
   "source": [
    "For syntax errors, the error messages don’t help much. The most common messages are SyntaxError: invalid syntax and SyntaxError: invalid token, neither of which is very informative.\n",
    "\n",
    "The runtime error you are most likely to make is a “use before def;” that is, trying to use a variable before you have assigned a value. This can happen if you spell a variable name wrong:"
   ]
  },
  {
   "cell_type": "code",
   "execution_count": 48,
   "id": "9d0023c9-2054-4a95-931c-1b721031f969",
   "metadata": {},
   "outputs": [
    {
     "ename": "NameError",
     "evalue": "name 'principle' is not defined",
     "output_type": "error",
     "traceback": [
      "\u001b[1;31m---------------------------------------------------------------------------\u001b[0m",
      "\u001b[1;31mNameError\u001b[0m                                 Traceback (most recent call last)",
      "Cell \u001b[1;32mIn[48], line 2\u001b[0m\n\u001b[0;32m      1\u001b[0m principal \u001b[38;5;241m=\u001b[39m \u001b[38;5;241m327.68\u001b[39m\n\u001b[1;32m----> 2\u001b[0m interest \u001b[38;5;241m=\u001b[39m \u001b[43mprinciple\u001b[49m \u001b[38;5;241m*\u001b[39m rate\n",
      "\u001b[1;31mNameError\u001b[0m: name 'principle' is not defined"
     ]
    }
   ],
   "source": [
    "principal = 327.68\n",
    "interest = principle * rate"
   ]
  },
  {
   "cell_type": "markdown",
   "id": "6db2d3df-bd1a-4cf8-82fa-3a814d46f97c",
   "metadata": {},
   "source": [
    "Variables names are case sensitive, so LaTeX is not the same as latex.\n",
    "\n",
    "At this point, the most likely cause of a semantic error is the order of operations. For example, to evaluate 1/2π, you might be tempted to write\n",
    "\n"
   ]
  },
  {
   "cell_type": "code",
   "execution_count": 49,
   "id": "59f8f416-5103-4acd-b785-15ac775f6337",
   "metadata": {},
   "outputs": [
    {
     "data": {
      "text/plain": [
       "1.5707963267948966"
      ]
     },
     "execution_count": 49,
     "metadata": {},
     "output_type": "execute_result"
    }
   ],
   "source": [
    "1.0 / 2.0 * pi"
   ]
  },
  {
   "cell_type": "markdown",
   "id": "1f9cedfb-9d17-4ee4-85a0-1209bc6fa950",
   "metadata": {},
   "source": [
    "But the division happens first, so you would get π/2, which is not the same thing! There is no way for Python to know what you meant to write, so in this case you don’t get an error message; you just get the wrong answer."
   ]
  },
  {
   "cell_type": "code",
   "execution_count": null,
   "id": "50daba61-6c72-4c0b-bed3-fc23ef43ab25",
   "metadata": {},
   "outputs": [],
   "source": []
  }
 ],
 "metadata": {
  "kernelspec": {
   "display_name": "Python 3 (ipykernel)",
   "language": "python",
   "name": "python3"
  },
  "language_info": {
   "codemirror_mode": {
    "name": "ipython",
    "version": 3
   },
   "file_extension": ".py",
   "mimetype": "text/x-python",
   "name": "python",
   "nbconvert_exporter": "python",
   "pygments_lexer": "ipython3",
   "version": "3.10.9"
  }
 },
 "nbformat": 4,
 "nbformat_minor": 5
}
