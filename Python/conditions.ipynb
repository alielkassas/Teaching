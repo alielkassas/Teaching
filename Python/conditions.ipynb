{
 "cells": [
  {
   "cell_type": "markdown",
   "id": "3ea81234-7063-4646-9bb5-206b64e37c14",
   "metadata": {},
   "source": [
    "# Conditional execution"
   ]
  },
  {
   "cell_type": "markdown",
   "id": "60d9b97a-9785-4b58-a686-fc1218c5a332",
   "metadata": {},
   "source": [
    "## Boolean expressions"
   ]
  },
  {
   "cell_type": "markdown",
   "id": "1ff31ce9-036b-4d6f-8cad-f439330c94db",
   "metadata": {},
   "source": [
    "*A boolean expression* is an expression that is either true or false. The following examples use the operator `==`, which compares two operands and produces `True` if they are equal and `False` otherwise:"
   ]
  },
  {
   "cell_type": "code",
   "execution_count": 1,
   "id": "66b08448-1ac6-45e9-9280-cc7b68fa6b02",
   "metadata": {},
   "outputs": [
    {
     "data": {
      "text/plain": [
       "True"
      ]
     },
     "execution_count": 1,
     "metadata": {},
     "output_type": "execute_result"
    }
   ],
   "source": [
    "5 == 5"
   ]
  },
  {
   "cell_type": "code",
   "execution_count": 2,
   "id": "53246e87-d4fc-445a-a13a-f4be46ab483b",
   "metadata": {},
   "outputs": [
    {
     "data": {
      "text/plain": [
       "False"
      ]
     },
     "execution_count": 2,
     "metadata": {},
     "output_type": "execute_result"
    }
   ],
   "source": [
    "5 == 6"
   ]
  },
  {
   "cell_type": "markdown",
   "id": "c43f83ac-bbe5-4ab3-81e4-941075b63d99",
   "metadata": {},
   "source": [
    "`True` and `False` are special values that belong to the class `bool`; they are not strings:"
   ]
  },
  {
   "cell_type": "code",
   "execution_count": 3,
   "id": "e757887d-6b5f-42ef-88db-aaa476865c7b",
   "metadata": {},
   "outputs": [
    {
     "data": {
      "text/plain": [
       "bool"
      ]
     },
     "execution_count": 3,
     "metadata": {},
     "output_type": "execute_result"
    }
   ],
   "source": [
    "type(True)"
   ]
  },
  {
   "cell_type": "code",
   "execution_count": 4,
   "id": "c46dbacb-73e6-4141-925e-1b5336f28a8b",
   "metadata": {},
   "outputs": [
    {
     "data": {
      "text/plain": [
       "bool"
      ]
     },
     "execution_count": 4,
     "metadata": {},
     "output_type": "execute_result"
    }
   ],
   "source": [
    "type(False)"
   ]
  },
  {
   "cell_type": "markdown",
   "id": "71510c03-b025-4596-94fa-276b986024b7",
   "metadata": {},
   "source": [
    "The `==` operator is one of the comparison operators; the others are:"
   ]
  },
  {
   "cell_type": "markdown",
   "id": "81bce562-3617-418a-abc9-4f5db1754a1b",
   "metadata": {},
   "source": [
    "```\n",
    "x != y               # x is not equal to y\n",
    "x > y                # x is greater than y\n",
    "x < y                # x is less than y\n",
    "x >= y               # x is greater than or equal to y\n",
    "x <= y               # x is less than or equal to y\n",
    "x is y               # x is the same as y\n",
    "x is not y           # x is not the same as y\n",
    "```"
   ]
  },
  {
   "cell_type": "markdown",
   "id": "5ac8016c-887d-4064-b5de-10a8a6e8eec8",
   "metadata": {},
   "source": [
    "Although these operations are probably familiar to you, the Python symbols are different from the mathematical symbols for the same operations. A common error is to use a single equal sign (=) instead of a double equal sign (`==`). Remember that `=` is an assignment operator and `==` is a comparison operator. There is no such thing as `=<` or `=>`."
   ]
  },
  {
   "cell_type": "markdown",
   "id": "78b3191a-39af-4b80-84e2-b30fbd5b1679",
   "metadata": {},
   "source": [
    "## Logical operators"
   ]
  },
  {
   "cell_type": "markdown",
   "id": "e2a3991d-2f4d-4075-bfd5-209e8a6f362c",
   "metadata": {},
   "source": [
    "There are three *logical* operators: `and`, `or`, and `not`. The semantics (meaning) of these operators is similar to their meaning in English. For example,\n",
    "\n",
    "`x > 0 and x < 10`\n",
    "\n",
    "is true only if `x` is greater than 0 and less than 10.\n",
    "\n",
    "`n%2 == 0 or n%3 == 0` is true if *either* of the conditions is true, that is, if the number is divisible by 2 or 3.\n",
    "\n",
    "Finally, the `not` operator negates a boolean expression, so `not (x > y)` is true if `x > y` is false; that is, if `x` is less than or equal to `y`.\n",
    "\n",
    "Strictly speaking, the operands of the logical operators should be boolean expressions, but Python is not very strict. Any nonzero number is interpreted as “true.”"
   ]
  },
  {
   "cell_type": "code",
   "execution_count": 5,
   "id": "6db06fb6-e5de-47a1-a6ec-cb86126fe271",
   "metadata": {},
   "outputs": [
    {
     "data": {
      "text/plain": [
       "True"
      ]
     },
     "execution_count": 5,
     "metadata": {},
     "output_type": "execute_result"
    }
   ],
   "source": [
    "17 and True"
   ]
  },
  {
   "cell_type": "markdown",
   "id": "e713a8f8-51be-499c-98f8-32925458d769",
   "metadata": {},
   "source": [
    "This flexibility can be useful, but there are some subtleties to it that might be confusing. You might want to avoid it until you are sure you know what you are doing.\n",
    "\n",
    "## Conditional execution\n",
    "In order to write useful programs, we almost always need the ability to check conditions and change the behavior of the program accordingly. Conditional statements give us this ability. The simplest form is the `if` statement:"
   ]
  },
  {
   "cell_type": "code",
   "execution_count": 7,
   "id": "fea66224-815f-48ff-b517-22b3e75b62e3",
   "metadata": {},
   "outputs": [
    {
     "name": "stdout",
     "output_type": "stream",
     "text": [
      "x is positive\n"
     ]
    }
   ],
   "source": [
    "x = 5\n",
    "if x > 0 :\n",
    "    print('x is positive')"
   ]
  },
  {
   "cell_type": "markdown",
   "id": "539a26f0-187d-457d-a43d-45f45b97fe21",
   "metadata": {},
   "source": [
    "The boolean expression after the if statement is called the *condition*. We end the `if` statement with a colon character (:) and the line(s) after the `if` statement are indented.\n",
    "\n",
    "\n",
    "If the logical condition is true, then the indented statement gets executed. If the logical condition is false, the indented statement is skipped.\n",
    "\n",
    "`if` statements have the same structure as function definitions or `for` loops. The statement consists of a header line that ends with the colon character (:) followed by an indented block. Statements like this are called compound statements because they stretch across more than one line.\n",
    "\n",
    "There is no limit on the number of statements that can appear in the body, but there must be at least one. Occasionally, it is useful to have a body with no statements (usually as a place holder for code you haven’t written yet). In that case, you can use the `pass` statement, which does nothing."
   ]
  },
  {
   "cell_type": "code",
   "execution_count": 8,
   "id": "134ce7c9-7c99-4a46-ab7a-a3380d1106da",
   "metadata": {},
   "outputs": [],
   "source": [
    "if x < 0 :\n",
    "    pass          # need to handle negative values!"
   ]
  },
  {
   "cell_type": "markdown",
   "id": "5bf2416b-282a-4a69-9320-69882475f83d",
   "metadata": {},
   "source": [
    "If you enter an `if` statement in the Python interpreter, the prompt will change from three chevrons to three dots to indicate you are in the middle of a block of statements, as shown below:"
   ]
  },
  {
   "cell_type": "code",
   "execution_count": 9,
   "id": "05e4c2da-02eb-4a1f-ba1f-5b2483c65948",
   "metadata": {},
   "outputs": [
    {
     "name": "stdout",
     "output_type": "stream",
     "text": [
      "Small\n"
     ]
    }
   ],
   "source": [
    "x = 3\n",
    "if x < 10:\n",
    "    print('Small')"
   ]
  },
  {
   "cell_type": "code",
   "execution_count": 13,
   "id": "16982839-2422-4d2f-aac9-963f88badb79",
   "metadata": {},
   "outputs": [
    {
     "name": "stdout",
     "output_type": "stream",
     "text": [
      "Small\n",
      "Done\n"
     ]
    }
   ],
   "source": [
    "x = 3\n",
    "if x < 10:\n",
    "    print('Small')\n",
    "print('Done')"
   ]
  },
  {
   "cell_type": "markdown",
   "id": "f7fdcd1e-54b2-4201-b420-e44287064bb8",
   "metadata": {},
   "source": [
    "A blank line at the end of a block of statements is not necessary when writing and executing a script, but it may improve readability of your code.\n",
    "\n",
    "## Alternative execution\n",
    "A second form of the `if` statement is alternative execution, in which there are two possibilities and the condition determines which one gets executed. The syntax looks like this:"
   ]
  },
  {
   "cell_type": "code",
   "execution_count": 14,
   "id": "bf651f76-0fe5-4cd1-b2cc-5d4a3eaf9e78",
   "metadata": {},
   "outputs": [
    {
     "name": "stdout",
     "output_type": "stream",
     "text": [
      "x is odd\n"
     ]
    }
   ],
   "source": [
    "if x%2 == 0 :\n",
    "    print('x is even')\n",
    "else :\n",
    "    print('x is odd')"
   ]
  },
  {
   "cell_type": "markdown",
   "id": "389a5c69-75e6-4262-80f0-141cf99ca64a",
   "metadata": {},
   "source": [
    "If the remainder when `x` is divided by 2 is 0, then we know that `x` is even, and the program displays a message to that effect. If the condition is false, the second set of statements is executed.\n",
    "\n",
    "If-Then-Else Logic\n",
    "Since the condition must either be true or false, exactly one of the alternatives will be executed. The alternatives are called *branches*, because they are branches in the flow of execution.\n",
    "\n",
    "## Chained conditionals\n",
    "Sometimes there are more than two possibilities and we need more than two branches. One way to express a computation like that is a *chained conditional*:"
   ]
  },
  {
   "cell_type": "code",
   "execution_count": 15,
   "id": "f5336ed5-fab5-4e8d-a876-a6d331268912",
   "metadata": {},
   "outputs": [
    {
     "name": "stdout",
     "output_type": "stream",
     "text": [
      "x is less than y\n"
     ]
    }
   ],
   "source": [
    "x = 1\n",
    "y = 2\n",
    "\n",
    "if x < y:\n",
    "    print('x is less than y')\n",
    "elif x > y:\n",
    "    print('x is greater than y')\n",
    "else:\n",
    "    print('x and y are equal')"
   ]
  },
  {
   "cell_type": "markdown",
   "id": "d6060ac5-27f4-480b-8116-d593663c0c1e",
   "metadata": {},
   "source": [
    "If-Then-ElseIf Logic\n",
    "There is no limit on the number of `elif` statements. If there is an `else` clause, it has to be at the end, but there doesn’t have to be one."
   ]
  },
  {
   "cell_type": "code",
   "execution_count": 16,
   "id": "07cfdf1f-7d06-4e1f-854a-a65608845594",
   "metadata": {},
   "outputs": [
    {
     "name": "stdout",
     "output_type": "stream",
     "text": [
      "Close, but not correct\n"
     ]
    }
   ],
   "source": [
    "choice = 'c'\n",
    "\n",
    "if choice == 'a':\n",
    "    print('Bad guess')\n",
    "elif choice == 'b':\n",
    "    print('Good guess')\n",
    "elif choice == 'c':\n",
    "    print('Close, but not correct')"
   ]
  },
  {
   "cell_type": "markdown",
   "id": "c3447e76-e287-4708-88f3-8278df6020f4",
   "metadata": {},
   "source": [
    "Each condition is checked in order. If the first is false, the next is checked, and so on. If one of them is true, the corresponding branch executes, and the statement ends. Even if more than one condition is true, only the first true branch executes.\n",
    "\n",
    "## Nested conditionals\n",
    "One conditional can also be nested within another. We could have written the three-branch example like this:"
   ]
  },
  {
   "cell_type": "code",
   "execution_count": 17,
   "id": "ef752a22-f977-4d06-9851-76a669350983",
   "metadata": {},
   "outputs": [
    {
     "name": "stdout",
     "output_type": "stream",
     "text": [
      "x is less than y\n"
     ]
    }
   ],
   "source": [
    "if x == y:\n",
    "    print('x and y are equal')\n",
    "else:\n",
    "    if x < y:\n",
    "        print('x is less than y')\n",
    "    else:\n",
    "        print('x is greater than y')"
   ]
  },
  {
   "cell_type": "markdown",
   "id": "02bc3aef-dd3d-4a8d-8d87-8d8294ac5884",
   "metadata": {},
   "source": [
    "The outer conditional contains two branches. The first branch contains a simple statement. The second branch contains another `if` statement, which has two branches of its own. Those two branches are both simple statements, although they could have been conditional statements as well.\n",
    "\n",
    "Nested If Statements   \n",
    "Although the indentation of the statements makes the structure apparent, nested conditionals become difficult to read very quickly. In general, it is a good idea to avoid them when you can.\n",
    "\n",
    "Logical operators often provide a way to simplify nested conditional statements. For example, we can rewrite the following code using a single conditional:"
   ]
  },
  {
   "cell_type": "code",
   "execution_count": 18,
   "id": "b8ffe8b1-91cd-446d-84fb-fdbe226353eb",
   "metadata": {},
   "outputs": [
    {
     "name": "stdout",
     "output_type": "stream",
     "text": [
      "x is a positive single-digit number.\n"
     ]
    }
   ],
   "source": [
    "if 0 < x:\n",
    "    if x < 10:\n",
    "        print('x is a positive single-digit number.')"
   ]
  },
  {
   "cell_type": "markdown",
   "id": "bc06bfe2-1526-4e54-9d38-b2ec4b0ed2ef",
   "metadata": {},
   "source": [
    "The `print` statement is executed only if we make it past both conditionals, so we can get the same effect with the `and` operator:"
   ]
  },
  {
   "cell_type": "code",
   "execution_count": 20,
   "id": "6d0bac37-30d3-44f9-806d-ec87aedbc5c8",
   "metadata": {},
   "outputs": [
    {
     "name": "stdout",
     "output_type": "stream",
     "text": [
      "x is a positive single-digit number.\n"
     ]
    }
   ],
   "source": [
    "if 0 < x and x < 10:\n",
    "    print('x is a positive single-digit number.')"
   ]
  },
  {
   "cell_type": "markdown",
   "id": "dcb5ee20-671d-48df-a8bd-668a1fb154c3",
   "metadata": {},
   "source": [
    "## Short-circuit evaluation of logical expressions\n",
    "When Python is processing a logical expression such as `x >= 2 and (x/y) > 2`, it evaluates the expression from left to right. Because of the definition of `and`, if `x` is less than 2, the expression `x >= 2` is `False` and so the whole expression is False regardless of whether `(x/y) > 2` evaluates to `True` or `False`.\n",
    "\n",
    "When Python detects that there is nothing to be gained by evaluating the rest of a logical expression, it stops its evaluation and does not do the computations in the rest of the logical expression. When the evaluation of a logical expression stops because the overall value is already known, it is called short-circuiting the evaluation.\n",
    "\n",
    "While this may seem like a fine point, the short-circuit behavior leads to a clever technique called the guardian pattern. Consider the following code sequence in the Python interpreter:"
   ]
  },
  {
   "cell_type": "code",
   "execution_count": 21,
   "id": "66a2ff4e-37bb-4982-90eb-fef828f2b6cf",
   "metadata": {},
   "outputs": [
    {
     "data": {
      "text/plain": [
       "True"
      ]
     },
     "execution_count": 21,
     "metadata": {},
     "output_type": "execute_result"
    }
   ],
   "source": [
    "x = 6\n",
    "y = 2\n",
    "x >= 2 and (x/y) > 2"
   ]
  },
  {
   "cell_type": "code",
   "execution_count": 22,
   "id": "c89828f5-a621-4394-8012-7103d7b92f06",
   "metadata": {},
   "outputs": [
    {
     "data": {
      "text/plain": [
       "False"
      ]
     },
     "execution_count": 22,
     "metadata": {},
     "output_type": "execute_result"
    }
   ],
   "source": [
    "x = 1\n",
    "y = 0\n",
    "x >= 2 and (x/y) > 2"
   ]
  },
  {
   "cell_type": "code",
   "execution_count": 23,
   "id": "50043718-01e9-454f-be70-26e91e9e896e",
   "metadata": {},
   "outputs": [
    {
     "ename": "ZeroDivisionError",
     "evalue": "division by zero",
     "output_type": "error",
     "traceback": [
      "\u001b[1;31m---------------------------------------------------------------------------\u001b[0m",
      "\u001b[1;31mZeroDivisionError\u001b[0m                         Traceback (most recent call last)",
      "Cell \u001b[1;32mIn[23], line 3\u001b[0m\n\u001b[0;32m      1\u001b[0m x \u001b[38;5;241m=\u001b[39m \u001b[38;5;241m6\u001b[39m\n\u001b[0;32m      2\u001b[0m y \u001b[38;5;241m=\u001b[39m \u001b[38;5;241m0\u001b[39m\n\u001b[1;32m----> 3\u001b[0m x \u001b[38;5;241m>\u001b[39m\u001b[38;5;241m=\u001b[39m \u001b[38;5;241m2\u001b[39m \u001b[38;5;129;01mand\u001b[39;00m (\u001b[43mx\u001b[49m\u001b[38;5;241;43m/\u001b[39;49m\u001b[43my\u001b[49m) \u001b[38;5;241m>\u001b[39m \u001b[38;5;241m2\u001b[39m\n",
      "\u001b[1;31mZeroDivisionError\u001b[0m: division by zero"
     ]
    }
   ],
   "source": [
    "x = 6\n",
    "y = 0\n",
    "x >= 2 and (x/y) > 2"
   ]
  },
  {
   "cell_type": "markdown",
   "id": "b9826550-25c4-4af7-97c4-c3bae2f55000",
   "metadata": {},
   "source": [
    "The third calculation failed because Python was evaluating `(x/y)` and `y` was zero, which causes a runtime error. But the first and the second examples did not fail because in the first calculation `y` was non zero and in the second one the first part of these expressions `x >= 2` evaluated to `False` so the `(x/y)` was not ever executed due to the *short-circuit* rule and there was no error.\n",
    "\n",
    "We can construct the logical expression to strategically place a guard evaluation just before the evaluation that might cause an error as follows:"
   ]
  },
  {
   "cell_type": "code",
   "execution_count": 25,
   "id": "9ad28c33-b042-4c7f-b7f8-f3bc50d7024c",
   "metadata": {},
   "outputs": [
    {
     "data": {
      "text/plain": [
       "False"
      ]
     },
     "execution_count": 25,
     "metadata": {},
     "output_type": "execute_result"
    }
   ],
   "source": [
    "x = 1\n",
    "y = 0\n",
    "x >= 2 and y != 0 and (x/y) > 2"
   ]
  },
  {
   "cell_type": "code",
   "execution_count": 26,
   "id": "493db7a1-48c3-4026-98d1-b6ae1030a38b",
   "metadata": {},
   "outputs": [
    {
     "data": {
      "text/plain": [
       "False"
      ]
     },
     "execution_count": 26,
     "metadata": {},
     "output_type": "execute_result"
    }
   ],
   "source": [
    "x = 6\n",
    "y = 0\n",
    "x >= 2 and y != 0 and (x/y) > 2"
   ]
  },
  {
   "cell_type": "code",
   "execution_count": 28,
   "id": "1522792f-0896-4b77-b3be-c9bdeff6ca95",
   "metadata": {},
   "outputs": [
    {
     "ename": "ZeroDivisionError",
     "evalue": "division by zero",
     "output_type": "error",
     "traceback": [
      "\u001b[1;31m---------------------------------------------------------------------------\u001b[0m",
      "\u001b[1;31mZeroDivisionError\u001b[0m                         Traceback (most recent call last)",
      "Cell \u001b[1;32mIn[28], line 1\u001b[0m\n\u001b[1;32m----> 1\u001b[0m x \u001b[38;5;241m>\u001b[39m\u001b[38;5;241m=\u001b[39m \u001b[38;5;241m2\u001b[39m \u001b[38;5;129;01mand\u001b[39;00m (\u001b[43mx\u001b[49m\u001b[38;5;241;43m/\u001b[39;49m\u001b[43my\u001b[49m) \u001b[38;5;241m>\u001b[39m \u001b[38;5;241m2\u001b[39m \u001b[38;5;129;01mand\u001b[39;00m y \u001b[38;5;241m!=\u001b[39m \u001b[38;5;241m0\u001b[39m\n",
      "\u001b[1;31mZeroDivisionError\u001b[0m: division by zero"
     ]
    }
   ],
   "source": [
    "x >= 2 and (x/y) > 2 and y != 0"
   ]
  },
  {
   "cell_type": "markdown",
   "id": "da7821d2-dd83-4ab6-aa1e-edeffc538f2e",
   "metadata": {},
   "source": [
    "In the first logical expression, `x >= 2` is `False` so the evaluation stops at the `and`. In the second logical expression, `x >= 2` is `True` but `y != 0` is `False` so we never reach `(x/y)`.\n",
    "\n",
    "In the third logical expression, the `y != 0` is after the `(x/y)` calculation so the expression fails with an error.\n",
    "\n",
    "In the second expression, we say that `y != 0` acts as a guard to insure that we only execute `(x/y)` if `y` is non-zero."
   ]
  }
 ],
 "metadata": {
  "kernelspec": {
   "display_name": "Python 3 (ipykernel)",
   "language": "python",
   "name": "python3"
  },
  "language_info": {
   "codemirror_mode": {
    "name": "ipython",
    "version": 3
   },
   "file_extension": ".py",
   "mimetype": "text/x-python",
   "name": "python",
   "nbconvert_exporter": "python",
   "pygments_lexer": "ipython3",
   "version": "3.10.9"
  }
 },
 "nbformat": 4,
 "nbformat_minor": 5
}
