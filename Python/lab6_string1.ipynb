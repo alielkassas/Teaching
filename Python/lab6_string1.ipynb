{
  "nbformat": 4,
  "nbformat_minor": 0,
  "metadata": {
    "colab": {
      "name": "lab6:string1.ipynb",
      "provenance": [],
      "authorship_tag": "ABX9TyNKNioKaUoluiPttUZcElnM",
      "include_colab_link": true
    },
    "kernelspec": {
      "name": "python3",
      "display_name": "Python 3"
    }
  },
  "cells": [
    {
      "cell_type": "markdown",
      "metadata": {
        "id": "view-in-github",
        "colab_type": "text"
      },
      "source": [
        "<a href=\"https://colab.research.google.com/github/Ali-Abdelmonim/Teaching/blob/master/Programming%20Language/lab6_string1.ipynb\" target=\"_parent\"><img src=\"https://colab.research.google.com/assets/colab-badge.svg\" alt=\"Open In Colab\"/></a>"
      ]
    },
    {
      "cell_type": "markdown",
      "metadata": {
        "id": "3uHXiMVVhm1s",
        "colab_type": "text"
      },
      "source": [
        "### A string is a sequence"
      ]
    },
    {
      "cell_type": "markdown",
      "metadata": {
        "id": "i-3Lrx10kkIM",
        "colab_type": "text"
      },
      "source": [
        "A string is a sequence of characters. You can access the characters one at a time with the bracket operator:"
      ]
    },
    {
      "cell_type": "code",
      "metadata": {
        "id": "BSkrrMgLki_t",
        "colab_type": "code",
        "colab": {}
      },
      "source": [
        "fruit = 'banana'\n",
        "letter = fruit[1]"
      ],
      "execution_count": 0,
      "outputs": []
    },
    {
      "cell_type": "markdown",
      "metadata": {
        "id": "CiNpgmmPk20q",
        "colab_type": "text"
      },
      "source": [
        "The second statement extracts the character at index position 1 from the `fruit` variable and assigns it to the `letter` variable."
      ]
    },
    {
      "cell_type": "markdown",
      "metadata": {
        "id": "WN_H6VZElL5C",
        "colab_type": "text"
      },
      "source": [
        "The expression in brackets is called an index. The index indicates which character in the sequence you want."
      ]
    },
    {
      "cell_type": "markdown",
      "metadata": {
        "id": "D_vPmqoulRk7",
        "colab_type": "text"
      },
      "source": [
        "But you might not get what you expect:"
      ]
    },
    {
      "cell_type": "code",
      "metadata": {
        "id": "glUnZ8-gk4wg",
        "colab_type": "code",
        "colab": {
          "base_uri": "https://localhost:8080/",
          "height": 34
        },
        "outputId": "f3e85594-b8cb-4494-cb2f-9a1823a8d7a7"
      },
      "source": [
        "print(letter)"
      ],
      "execution_count": 3,
      "outputs": [
        {
          "output_type": "stream",
          "text": [
            "a\n"
          ],
          "name": "stdout"
        }
      ]
    },
    {
      "cell_type": "markdown",
      "metadata": {
        "id": "_cPck8Z3leZz",
        "colab_type": "text"
      },
      "source": [
        "For most people, the first letter of \"banana\" is b, not a. But in Python, the index is an offset from the beginning of the string, and the offset of the first letter is zero."
      ]
    },
    {
      "cell_type": "code",
      "metadata": {
        "id": "Hfdcp1pqlmsS",
        "colab_type": "code",
        "colab": {
          "base_uri": "https://localhost:8080/",
          "height": 34
        },
        "outputId": "ee28da0f-1248-46f5-8402-37fa5691ad49"
      },
      "source": [
        "letter = fruit[0]\n",
        "print(letter)"
      ],
      "execution_count": 4,
      "outputs": [
        {
          "output_type": "stream",
          "text": [
            "b\n"
          ],
          "name": "stdout"
        }
      ]
    },
    {
      "cell_type": "markdown",
      "metadata": {
        "id": "sOMyXHhklt1j",
        "colab_type": "text"
      },
      "source": [
        "So `b` is the 0th letter (\"zero-eth\") of \"banana\", `a` is the 1th letter (\"one-eth\"), and `n` is the 2th (\"two-eth\") letter.\n",
        "\n",
        "![alt text](https://drive.google.com/uc?id=1zf99185ZdEPZ-FHmK3NcL9lkMjzRZWZn)\n"
      ]
    },
    {
      "cell_type": "markdown",
      "metadata": {
        "id": "Is32JnfnhyVX",
        "colab_type": "text"
      },
      "source": [
        "### Getting the length of a string using len"
      ]
    },
    {
      "cell_type": "markdown",
      "metadata": {
        "id": "HxRZD9UHleOO",
        "colab_type": "text"
      },
      "source": [
        "`len` is a built-in function that returns the number of characters in a string:"
      ]
    },
    {
      "cell_type": "code",
      "metadata": {
        "id": "myOISXLVldE9",
        "colab_type": "code",
        "colab": {
          "base_uri": "https://localhost:8080/",
          "height": 34
        },
        "outputId": "f9afd7ec-3914-41a2-af93-286df7a24c82"
      },
      "source": [
        "fruit = 'banana'\n",
        "len(fruit)"
      ],
      "execution_count": 8,
      "outputs": [
        {
          "output_type": "execute_result",
          "data": {
            "text/plain": [
              "6"
            ]
          },
          "metadata": {
            "tags": []
          },
          "execution_count": 8
        }
      ]
    },
    {
      "cell_type": "markdown",
      "metadata": {
        "id": "i8l49qlxlrUl",
        "colab_type": "text"
      },
      "source": [
        "To get the last letter of a string, you might be tempted to try something like this:"
      ]
    },
    {
      "cell_type": "code",
      "metadata": {
        "id": "2Gtt1W02lpYr",
        "colab_type": "code",
        "colab": {
          "base_uri": "https://localhost:8080/",
          "height": 184
        },
        "outputId": "87a619e3-330f-48b1-a3d7-4c99646b0dee"
      },
      "source": [
        "length = len(fruit)\n",
        "last = fruit[length]"
      ],
      "execution_count": 9,
      "outputs": [
        {
          "output_type": "error",
          "ename": "IndexError",
          "evalue": "ignored",
          "traceback": [
            "\u001b[0;31m---------------------------------------------------------------------------\u001b[0m",
            "\u001b[0;31mIndexError\u001b[0m                                Traceback (most recent call last)",
            "\u001b[0;32m<ipython-input-9-4dd85e09c2d1>\u001b[0m in \u001b[0;36m<module>\u001b[0;34m()\u001b[0m\n\u001b[1;32m      1\u001b[0m \u001b[0mlength\u001b[0m \u001b[0;34m=\u001b[0m \u001b[0mlen\u001b[0m\u001b[0;34m(\u001b[0m\u001b[0mfruit\u001b[0m\u001b[0;34m)\u001b[0m\u001b[0;34m\u001b[0m\u001b[0;34m\u001b[0m\u001b[0m\n\u001b[0;32m----> 2\u001b[0;31m \u001b[0mlast\u001b[0m \u001b[0;34m=\u001b[0m \u001b[0mfruit\u001b[0m\u001b[0;34m[\u001b[0m\u001b[0mlength\u001b[0m\u001b[0;34m]\u001b[0m\u001b[0;34m\u001b[0m\u001b[0;34m\u001b[0m\u001b[0m\n\u001b[0m",
            "\u001b[0;31mIndexError\u001b[0m: string index out of range"
          ]
        }
      ]
    },
    {
      "cell_type": "markdown",
      "metadata": {
        "id": "kzJec9bXl--0",
        "colab_type": "text"
      },
      "source": [
        "The reason for the `IndexError` is that there is no letter in `'banana'` with the index 6. Since we started counting at zero, the six letters are numbered 0 to 5. \n",
        "\n",
        "To get the last character, you have to subtract 1 from length:"
      ]
    },
    {
      "cell_type": "code",
      "metadata": {
        "id": "WC0e9UuwpNUm",
        "colab_type": "code",
        "colab": {
          "base_uri": "https://localhost:8080/",
          "height": 34
        },
        "outputId": "28dd24cc-4182-46bb-9016-f216ec3cb4c7"
      },
      "source": [
        "last = fruit[length-1]\n",
        "print(last)"
      ],
      "execution_count": 10,
      "outputs": [
        {
          "output_type": "stream",
          "text": [
            "a\n"
          ],
          "name": "stdout"
        }
      ]
    },
    {
      "cell_type": "markdown",
      "metadata": {
        "id": "HNmUtVFspaOz",
        "colab_type": "text"
      },
      "source": [
        "Alternatively, you can use negative indices, which count backward from the end of the string. The expression `fruit[-1]` yields the last letter, `fruit[-2]` yields the second to last, and so on."
      ]
    },
    {
      "cell_type": "markdown",
      "metadata": {
        "id": "PqLWlknSisri",
        "colab_type": "text"
      },
      "source": [
        "### Traversal through a string with a loop"
      ]
    },
    {
      "cell_type": "markdown",
      "metadata": {
        "id": "PbwA41VGp-XO",
        "colab_type": "text"
      },
      "source": [
        "A lot of computations involve processing a string one character at a time. Often they start at the beginning, select each character in turn, do something to it, and continue until the end. This pattern of processing is called a traversal.\n",
        "\n",
        "One way to write a traversal is with a `for` loop:"
      ]
    },
    {
      "cell_type": "code",
      "metadata": {
        "id": "xW99DoM0mVkj",
        "colab_type": "code",
        "outputId": "48074bf7-8e8e-4e10-f79a-dfb9b3cc918a",
        "colab": {
          "base_uri": "https://localhost:8080/",
          "height": 121
        }
      },
      "source": [
        "for char in fruit:\n",
        "    print(char)"
      ],
      "execution_count": 11,
      "outputs": [
        {
          "output_type": "stream",
          "text": [
            "b\n",
            "a\n",
            "n\n",
            "a\n",
            "n\n",
            "a\n"
          ],
          "name": "stdout"
        }
      ]
    },
    {
      "cell_type": "markdown",
      "metadata": {
        "id": "NlrNn_TlqckZ",
        "colab_type": "text"
      },
      "source": [
        "Another way to write a traversal is with a `while` loop:"
      ]
    },
    {
      "cell_type": "code",
      "metadata": {
        "id": "fKs0r0Ljk6_9",
        "colab_type": "code",
        "colab": {
          "base_uri": "https://localhost:8080/",
          "height": 121
        },
        "outputId": "7288b26a-f02b-48a9-edd9-bfda3382cae6"
      },
      "source": [
        "index = 0\n",
        "while index < len(fruit):\n",
        "    letter = fruit[index]\n",
        "    print(letter)\n",
        "    index = index + 1"
      ],
      "execution_count": 12,
      "outputs": [
        {
          "output_type": "stream",
          "text": [
            "b\n",
            "a\n",
            "n\n",
            "a\n",
            "n\n",
            "a\n"
          ],
          "name": "stdout"
        }
      ]
    },
    {
      "cell_type": "markdown",
      "metadata": {
        "id": "ZXo5cxdeqn7m",
        "colab_type": "text"
      },
      "source": [
        "This loop traverses the string and displays each letter on a line by itself. The loop condition is `index < len(fruit)`, so when `index` is equal to the length of the string, the condition is false, and the body of the loop is not executed. \n",
        "\n",
        "The last character accessed is the one with the index `len(fruit)-1`, which is the last character in the string."
      ]
    },
    {
      "cell_type": "markdown",
      "metadata": {
        "id": "ueNuAbuKhVJW",
        "colab_type": "text"
      },
      "source": [
        "### Looping and Counting"
      ]
    },
    {
      "cell_type": "markdown",
      "metadata": {
        "id": "HgA9owRQuXIn",
        "colab_type": "text"
      },
      "source": [
        "The following program counts the number of times the letter `a` appears in a string:"
      ]
    },
    {
      "cell_type": "code",
      "metadata": {
        "id": "pAypN91HuV7W",
        "colab_type": "code",
        "colab": {
          "base_uri": "https://localhost:8080/",
          "height": 34
        },
        "outputId": "f9ab9fb1-7459-4f8d-966e-a72fab80e987"
      },
      "source": [
        "word = 'banana'\n",
        "count = 0\n",
        "for letter in word:\n",
        "    if letter == 'a':\n",
        "        count = count + 1\n",
        "print(count)"
      ],
      "execution_count": 13,
      "outputs": [
        {
          "output_type": "stream",
          "text": [
            "3\n"
          ],
          "name": "stdout"
        }
      ]
    },
    {
      "cell_type": "markdown",
      "metadata": {
        "id": "mXRzDze-rUXN",
        "colab_type": "text"
      },
      "source": [
        "This program demonstrates another pattern of computation called a *counter*. The variable `count` is initialized to 0 and then incremented each time an `a` is found. \n",
        "\n",
        "When the loop exits, `count` contains the result: the total number of `a`'s."
      ]
    },
    {
      "cell_type": "markdown",
      "metadata": {
        "id": "XbuvJ6Rih8Dh",
        "colab_type": "text"
      },
      "source": [
        "### Exercises"
      ]
    },
    {
      "cell_type": "markdown",
      "metadata": {
        "id": "HBwnee7IzAEr",
        "colab_type": "text"
      },
      "source": [
        "Exercise 1: Write the output of the following program\n",
        "\n",
        "* Use a pencil and paper to trace it."
      ]
    },
    {
      "cell_type": "code",
      "metadata": {
        "id": "fMryjZCAufPu",
        "colab_type": "code",
        "colab": {}
      },
      "source": [
        "s1 = \"CTAGT\";\n",
        "s2 = \"CTTGA\";\n",
        "j = 0;\n",
        "count=0\n",
        "while(j<5):\n",
        "    c1 = s1[j] \n",
        "    c2 = s2[j]\n",
        "    if( c1 == c2):\n",
        "        count+=1\n",
        "    j+=1\n",
        "print ( count )\n"
      ],
      "execution_count": 0,
      "outputs": []
    },
    {
      "cell_type": "markdown",
      "metadata": {
        "id": "ifoqJgx8CdOg",
        "colab_type": "text"
      },
      "source": [
        ""
      ]
    },
    {
      "cell_type": "code",
      "metadata": {
        "id": "pjgNm8vB_nCB",
        "colab_type": "code",
        "colab": {}
      },
      "source": [
        "s1 = \"CTAGT\";\n",
        "s2 = \"CTTGA\";\n",
        "j = 0;\n",
        "count=0\n",
        "                  #iter 1 (j=0)    #iter 2(j=1)   #iter 3 (j=2)  #iter 4 (j=3)  #iter5 (j=4)  #iter6 (j=5)\n",
        "while(j<5):       #j<5? yes        j<5? yes       j<5? yes        j<5? yes      j<5? yes      j<5? no ->Exit\n",
        "    c1 = s1[j]    #c1=s1[0] <- C   c1=s1[1] <- T  c1=s1[0] <- A  c1=s1[0] <- G  c1=s1[0] <- T\n",
        "    c2 = s2[j]    #c2=s2[0] <- C   c2=s2[0] <- T  c2=s2[0] <- T  c2=s2[0] <- G  c2=s2[0] <- A\n",
        "    if( c1 == c2):# C==C? yes      T==T? yes      A==T? no       G==G? yes      T==A? no \n",
        "        count+=1  #0+1=1           1+1=2                         2+1=3\n",
        "    j+=1 \n",
        "\n",
        "print ( count )"
      ],
      "execution_count": 0,
      "outputs": []
    },
    {
      "cell_type": "markdown",
      "metadata": {
        "id": "MDr3tMza0OWZ",
        "colab_type": "text"
      },
      "source": [
        "Exercise 2: Write a program that accept a string of characters from the user and then print each character in a separate line.\n",
        "\n"
      ]
    },
    {
      "cell_type": "code",
      "metadata": {
        "id": "b5BgBk-O0Bvx",
        "colab_type": "code",
        "colab": {
          "base_uri": "https://localhost:8080/",
          "height": 86
        },
        "outputId": "f2dc578d-369c-47b5-fef5-687308db3354"
      },
      "source": [
        "'''\n",
        "for example, if the user enter: \"Hi!\"\n",
        "the output should be:\n",
        "H\n",
        "i\n",
        "!\n",
        "'''\n",
        "s = input(\"Enter a string: \")\n",
        "\n",
        "for ch in s:\n",
        "  print(ch)"
      ],
      "execution_count": 19,
      "outputs": [
        {
          "output_type": "stream",
          "text": [
            "Enter a string: Hi!\n",
            "H\n",
            "i\n",
            "!\n"
          ],
          "name": "stdout"
        }
      ]
    },
    {
      "cell_type": "markdown",
      "metadata": {
        "id": "3qd1bhmU039v",
        "colab_type": "text"
      },
      "source": [
        "Exercise 3: Write a program that ask the user to enter a string, reverse this string into another string, and display both."
      ]
    },
    {
      "cell_type": "code",
      "metadata": {
        "id": "pvlL0HGK1g51",
        "colab_type": "code",
        "colab": {
          "base_uri": "https://localhost:8080/",
          "height": 69
        },
        "outputId": "f8f81b3e-41c5-4720-dea9-8fd683985c28"
      },
      "source": [
        "'''\n",
        "for example, if the user enter: \"hello\"\n",
        "the reversed string should be   \"olleh\"\n",
        "'''\n",
        "\n",
        "str1 = input(\"Enter a string: \")\n",
        "str2=\"\" \n",
        "\n",
        "#we want to loop on the string starting from the last character\n",
        "i = len(str1)-1\n",
        "\n",
        "while i >=0: #loop until reach the first char, we use \"=\" in >= to reach the first char(at index 0)\n",
        "  str2 = str2 + str1[i]\n",
        "  i-=1\n",
        "\n",
        "print(\"The user string:     \", str1)\n",
        "print(\"The reversed string: \", str2)\n",
        "\n",
        "\n",
        "\n"
      ],
      "execution_count": 18,
      "outputs": [
        {
          "output_type": "stream",
          "text": [
            "Enter a string: hello\n",
            "The user string:      hello\n",
            "The reversed string:  olleh\n"
          ],
          "name": "stdout"
        }
      ]
    }
  ]
}