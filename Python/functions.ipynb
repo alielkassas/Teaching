{
  "cells": [
    {
      "cell_type": "markdown",
      "metadata": {
        "id": "view-in-github",
        "colab_type": "text"
      },
      "source": [
        "<a href=\"https://colab.research.google.com/github/alielkassas/Teaching/blob/master/Python/functions.ipynb\" target=\"_parent\"><img src=\"https://colab.research.google.com/assets/colab-badge.svg\" alt=\"Open In Colab\"/></a>"
      ]
    },
    {
      "cell_type": "markdown",
      "metadata": {
        "id": "surface-spectrum"
      },
      "source": [
        "Functions\n",
        "=========\n",
        "\n",
        "Function calls\n",
        "--------------\n",
        "\n",
        "\n",
        "\n",
        "In the context of programming, a *function* is a named\n",
        "sequence of statements that performs a computation. When you define a\n",
        "function, you specify the name and the sequence of statements. Later,\n",
        "you can \"call\" the function by name. We have already seen one example of\n",
        "a *function call*:"
      ],
      "id": "surface-spectrum"
    },
    {
      "cell_type": "code",
      "execution_count": null,
      "metadata": {
        "colab": {
          "base_uri": "https://localhost:8080/"
        },
        "id": "exact-toolbox",
        "outputId": "0c377788-e873-4b35-9a7b-c42dacc0f0b2"
      },
      "outputs": [
        {
          "data": {
            "text/plain": [
              "int"
            ]
          },
          "execution_count": 1,
          "metadata": {},
          "output_type": "execute_result"
        }
      ],
      "source": [
        "type(32)"
      ],
      "id": "exact-toolbox"
    },
    {
      "cell_type": "markdown",
      "metadata": {
        "id": "hearing-guarantee"
      },
      "source": [
        "The name of the function is `type`. The expression in\n",
        "parentheses is called the *argument* of the function. The\n",
        "argument is a value or variable that we are passing into the function as\n",
        "input to the function. The result, for the `type` function,\n",
        "is the type of the argument.\n",
        "\n",
        "\n",
        "\n",
        "It is common to say that a function \"takes\" an argument and \"returns\" a\n",
        "result. The result is called the *return value*."
      ],
      "id": "hearing-guarantee"
    },
    {
      "cell_type": "markdown",
      "metadata": {
        "id": "desirable-greene"
      },
      "source": [
        "Built-in functions\n",
        "------------------\n",
        "\n",
        "Python provides a number of important built-in functions that we can use\n",
        "without needing to provide the function definition. The creators of\n",
        "Python wrote a set of functions to solve common problems and included\n",
        "them in Python for us to use.\n",
        "\n",
        "The `max` and `min` functions give us the largest\n",
        "and smallest values in a list, respectively:"
      ],
      "id": "desirable-greene"
    },
    {
      "cell_type": "code",
      "execution_count": null,
      "metadata": {
        "colab": {
          "base_uri": "https://localhost:8080/",
          "height": 36
        },
        "id": "238d25da-efdd-43d3-8432-4e4c59c8b71e",
        "outputId": "3a65f926-bb77-4b25-f6c2-a989fdf9b3c4"
      },
      "outputs": [
        {
          "data": {
            "application/vnd.google.colaboratory.intrinsic+json": {
              "type": "string"
            },
            "text/plain": [
              "'w'"
            ]
          },
          "execution_count": 2,
          "metadata": {},
          "output_type": "execute_result"
        }
      ],
      "source": [
        "max('hello world')"
      ],
      "id": "238d25da-efdd-43d3-8432-4e4c59c8b71e"
    },
    {
      "cell_type": "code",
      "execution_count": null,
      "metadata": {
        "colab": {
          "base_uri": "https://localhost:8080/",
          "height": 36
        },
        "id": "1894e8b3-a456-4909-be1d-52d2d550628a",
        "outputId": "928d82cb-8d1d-4baf-b0d0-76f26b16fbb6"
      },
      "outputs": [
        {
          "data": {
            "application/vnd.google.colaboratory.intrinsic+json": {
              "type": "string"
            },
            "text/plain": [
              "' '"
            ]
          },
          "execution_count": 3,
          "metadata": {},
          "output_type": "execute_result"
        }
      ],
      "source": [
        "min('hello world')"
      ],
      "id": "1894e8b3-a456-4909-be1d-52d2d550628a"
    },
    {
      "cell_type": "code",
      "execution_count": null,
      "metadata": {
        "colab": {
          "base_uri": "https://localhost:8080/"
        },
        "id": "93d0629e-a5af-4c2e-90fd-25f49272450a",
        "outputId": "6a8100a8-0a6f-4532-d370-f8f728b39dfc"
      },
      "outputs": [
        {
          "data": {
            "text/plain": [
              "11"
            ]
          },
          "execution_count": 4,
          "metadata": {},
          "output_type": "execute_result"
        }
      ],
      "source": [
        "len('hello world')"
      ],
      "id": "93d0629e-a5af-4c2e-90fd-25f49272450a"
    },
    {
      "cell_type": "markdown",
      "metadata": {
        "id": "composed-retro"
      },
      "source": [
        "The `max` function tells us the \"largest character\" in the\n",
        "string (which turns out to be the letter \"w\") and the `min`\n",
        "function shows us the smallest character (which turns out to be a\n",
        "space).\n",
        "\n",
        "Another very common built-in function is the `len` function\n",
        "which tells us how many items are in its argument. If the argument to\n",
        "`len` is a string, it returns the number of characters in the\n",
        "string."
      ],
      "id": "composed-retro"
    },
    {
      "cell_type": "markdown",
      "metadata": {
        "id": "hired-allowance"
      },
      "source": [
        "These functions are not limited to looking at strings. They can operate\n",
        "on any set of values.\n",
        "\n",
        "You should treat the names of built-in functions as reserved words\n",
        "(i.e., avoid using \"max\" as a variable name).\n",
        "\n",
        "Type conversion functions\n",
        "-------------------------\n",
        "\n",
        "\n",
        "\n",
        "Python also provides built-in functions that convert values from one\n",
        "type to another. The `int` function takes any value and\n",
        "converts it to an integer, if it can, or complains otherwise:"
      ],
      "id": "hired-allowance"
    },
    {
      "cell_type": "code",
      "execution_count": null,
      "metadata": {
        "colab": {
          "base_uri": "https://localhost:8080/"
        },
        "id": "advanced-logan",
        "outputId": "5549205a-3744-414d-d297-ff1733ddac17"
      },
      "outputs": [
        {
          "data": {
            "text/plain": [
              "32"
            ]
          },
          "execution_count": 5,
          "metadata": {},
          "output_type": "execute_result"
        }
      ],
      "source": [
        "int('32')"
      ],
      "id": "advanced-logan"
    },
    {
      "cell_type": "code",
      "execution_count": null,
      "metadata": {
        "colab": {
          "base_uri": "https://localhost:8080/",
          "height": 179
        },
        "id": "ancient-hindu",
        "outputId": "4f14ae19-27f9-4e49-97ce-880361b3c187"
      },
      "outputs": [
        {
          "ename": "ValueError",
          "evalue": "ignored",
          "output_type": "error",
          "traceback": [
            "\u001b[0;31m---------------------------------------------------------------------------\u001b[0m",
            "\u001b[0;31mValueError\u001b[0m                                Traceback (most recent call last)",
            "\u001b[0;32m<ipython-input-6-6765ce49acfe>\u001b[0m in \u001b[0;36m<cell line: 1>\u001b[0;34m()\u001b[0m\n\u001b[0;32m----> 1\u001b[0;31m \u001b[0mint\u001b[0m\u001b[0;34m(\u001b[0m\u001b[0;34m'Hello'\u001b[0m\u001b[0;34m)\u001b[0m\u001b[0;34m\u001b[0m\u001b[0;34m\u001b[0m\u001b[0m\n\u001b[0m",
            "\u001b[0;31mValueError\u001b[0m: invalid literal for int() with base 10: 'Hello'"
          ]
        }
      ],
      "source": [
        "int('Hello')"
      ],
      "id": "ancient-hindu"
    },
    {
      "cell_type": "markdown",
      "metadata": {
        "id": "optical-baker"
      },
      "source": [
        "`int` can convert floating-point values to integers, but it\n",
        "doesn't round off; it chops off the fraction part:"
      ],
      "id": "optical-baker"
    },
    {
      "cell_type": "code",
      "execution_count": null,
      "metadata": {
        "id": "opposite-still"
      },
      "outputs": [],
      "source": [
        "int(3.99999)"
      ],
      "id": "opposite-still"
    },
    {
      "cell_type": "code",
      "execution_count": null,
      "metadata": {
        "colab": {
          "background_save": true
        },
        "id": "seventh-machine",
        "outputId": "98685339-3729-4def-cbd2-9d66dee34d64"
      },
      "outputs": [
        {
          "data": {
            "text/plain": [
              "-2"
            ]
          },
          "execution_count": 8,
          "metadata": {},
          "output_type": "execute_result"
        }
      ],
      "source": [
        "int(-2.3)"
      ],
      "id": "seventh-machine"
    },
    {
      "cell_type": "markdown",
      "metadata": {
        "id": "cognitive-dinner"
      },
      "source": [
        "`float` converts integers and strings to floating-point\n",
        "numbers:"
      ],
      "id": "cognitive-dinner"
    },
    {
      "cell_type": "code",
      "execution_count": null,
      "metadata": {
        "colab": {
          "background_save": true
        },
        "id": "available-hamilton",
        "outputId": "3e5dbc91-7c67-4425-f9f1-257a0ee720b6"
      },
      "outputs": [
        {
          "data": {
            "text/plain": [
              "32.0"
            ]
          },
          "execution_count": 9,
          "metadata": {},
          "output_type": "execute_result"
        }
      ],
      "source": [
        "float(32)"
      ],
      "id": "available-hamilton"
    },
    {
      "cell_type": "code",
      "execution_count": null,
      "metadata": {
        "colab": {
          "background_save": true
        },
        "id": "wicked-trouble",
        "outputId": "797fefc4-901a-4d05-bc44-8aacf7909033"
      },
      "outputs": [
        {
          "data": {
            "text/plain": [
              "3.14159"
            ]
          },
          "execution_count": 10,
          "metadata": {},
          "output_type": "execute_result"
        }
      ],
      "source": [
        "float('3.14159')"
      ],
      "id": "wicked-trouble"
    },
    {
      "cell_type": "markdown",
      "metadata": {
        "id": "wooden-wireless"
      },
      "source": [
        "Finally, `str` converts its argument to a string:"
      ],
      "id": "wooden-wireless"
    },
    {
      "cell_type": "code",
      "execution_count": null,
      "metadata": {
        "colab": {
          "background_save": true
        },
        "id": "minimal-finnish",
        "outputId": "5eba60c8-750a-484e-9c17-23a85a832173"
      },
      "outputs": [
        {
          "data": {
            "application/vnd.google.colaboratory.intrinsic+json": {
              "type": "string"
            },
            "text/plain": [
              "'32'"
            ]
          },
          "execution_count": 11,
          "metadata": {},
          "output_type": "execute_result"
        }
      ],
      "source": [
        "str(32)"
      ],
      "id": "minimal-finnish"
    },
    {
      "cell_type": "code",
      "execution_count": null,
      "metadata": {
        "colab": {
          "background_save": true
        },
        "id": "freelance-groove",
        "outputId": "5ed4372c-92f8-4e0a-8f0c-c183f1f95a18"
      },
      "outputs": [
        {
          "data": {
            "application/vnd.google.colaboratory.intrinsic+json": {
              "type": "string"
            },
            "text/plain": [
              "'3.14159'"
            ]
          },
          "execution_count": 12,
          "metadata": {},
          "output_type": "execute_result"
        }
      ],
      "source": [
        "str(3.14159)"
      ],
      "id": "freelance-groove"
    },
    {
      "cell_type": "markdown",
      "metadata": {
        "id": "immediate-nirvana"
      },
      "source": [
        "Math functions\n",
        "--------------\n",
        "\n",
        "\n",
        "\n",
        "Python has a `math` module that provides most of the familiar\n",
        "mathematical functions. Before we can use the module, we have to import\n",
        "it:"
      ],
      "id": "immediate-nirvana"
    },
    {
      "cell_type": "code",
      "execution_count": null,
      "metadata": {
        "colab": {
          "background_save": true
        },
        "id": "recognized-exclusion"
      },
      "outputs": [],
      "source": [
        "import math"
      ],
      "id": "recognized-exclusion"
    },
    {
      "cell_type": "markdown",
      "metadata": {
        "id": "satisfactory-danish"
      },
      "source": [
        "This statement creates a *module object* named math. If\n",
        "you print the module object, you get some information about it:\n",
        "\n"
      ],
      "id": "satisfactory-danish"
    },
    {
      "cell_type": "code",
      "execution_count": null,
      "metadata": {
        "colab": {
          "background_save": true
        },
        "id": "alien-prophet",
        "outputId": "7ed8a3f2-8713-40dd-c16b-4f12d1a319cf"
      },
      "outputs": [
        {
          "name": "stdout",
          "output_type": "stream",
          "text": [
            "<module 'math' (built-in)>\n"
          ]
        }
      ],
      "source": [
        "print(math)"
      ],
      "id": "alien-prophet"
    },
    {
      "cell_type": "markdown",
      "metadata": {
        "id": "humanitarian-williams"
      },
      "source": [
        "The module object contains the functions and variables defined in the\n",
        "module. To access one of the functions, you have to specify the name of\n",
        "the module and the name of the function, separated by a dot (also known\n",
        "as a period). This format is called *dot notation*."
      ],
      "id": "humanitarian-williams"
    },
    {
      "cell_type": "code",
      "execution_count": null,
      "metadata": {
        "colab": {
          "background_save": true
        },
        "id": "hollywood-portuguese",
        "outputId": "506e8b8a-5d29-4fa7-840c-746fc7333c6a"
      },
      "outputs": [
        {
          "data": {
            "text/plain": [
              "0.644217687237691"
            ]
          },
          "execution_count": 15,
          "metadata": {},
          "output_type": "execute_result"
        }
      ],
      "source": [
        "radians = 0.7\n",
        "h = math.sin(radians)\n",
        "h\n",
        "#height = math.sin(radians)"
      ],
      "id": "hollywood-portuguese"
    },
    {
      "cell_type": "markdown",
      "metadata": {
        "id": "isolated-cargo"
      },
      "source": [
        "The example finds the sine of `radians`. The name of\n",
        "the variable is a hint that `sin` and the other trigonometric\n",
        "functions (`cos`, `tan`, etc.) take arguments in\n",
        "radians. To convert from degrees to radians, divide by 360 and multiply\n",
        "by $2\n",
        "\\pi$:"
      ],
      "id": "isolated-cargo"
    },
    {
      "cell_type": "code",
      "execution_count": null,
      "metadata": {
        "colab": {
          "background_save": true
        },
        "id": "geographic-kernel",
        "outputId": "7d4cd928-11bc-4408-c2e7-45fe7bd52dff"
      },
      "outputs": [
        {
          "data": {
            "text/plain": [
              "0.7071067811865475"
            ]
          },
          "execution_count": 16,
          "metadata": {},
          "output_type": "execute_result"
        }
      ],
      "source": [
        "degrees = 45\n",
        "radians = degrees / 360.0 * 2 * math.pi\n",
        "math.sin(radians)"
      ],
      "id": "geographic-kernel"
    },
    {
      "cell_type": "markdown",
      "metadata": {
        "id": "convenient-smith"
      },
      "source": [
        "The expression `math.pi` gets the variable `pi`\n",
        "from the math module. The value of this variable is an approximation of\n",
        "$\\pi$, accurate to about 15 digits.\n",
        "\n"
      ],
      "id": "convenient-smith"
    },
    {
      "cell_type": "markdown",
      "metadata": {
        "id": "aggressive-mining"
      },
      "source": [
        "Adding new functions\n",
        "--------------------\n",
        "\n",
        "So far, we have only been using the functions that come with Python, but\n",
        "it is also possible to add new functions. A *function\n",
        "definition* specifies the name of a new function and the\n",
        "sequence of statements that execute when the function is called. Once we\n",
        "define a function, we can reuse the function over and over throughout\n",
        "our program.\n",
        "\n",
        "\n",
        "\n",
        "Here is an example:"
      ],
      "id": "aggressive-mining"
    },
    {
      "cell_type": "code",
      "execution_count": null,
      "metadata": {
        "id": "psychological-constant"
      },
      "outputs": [],
      "source": [
        "def print_lyrics():\n",
        "    print(\"I'm a lumberjack, and I'm okay.\")\n",
        "    print('I sleep all night and I work all day.')"
      ],
      "id": "psychological-constant"
    },
    {
      "cell_type": "markdown",
      "metadata": {
        "id": "south-exclusive"
      },
      "source": [
        "`def` is a keyword that indicates that this is a function\n",
        "definition. The name of the function is `print_lyrics`. The rules for\n",
        "function names are the same as for variable names: letters, numbers and\n",
        "some punctuation marks are legal, but the first character can't be a\n",
        "number. You can't use a keyword as the name of a function, and you\n",
        "should avoid having a variable and a function with the same name.\n",
        "\n",
        "The empty parentheses after the name indicate that this function doesn't\n",
        "take any arguments. Later we will build functions that take arguments as\n",
        "their inputs.\n",
        "\n",
        "\n",
        "\n",
        "The first line of the function definition is called the\n",
        "*header*; the rest is called the *body*.\n",
        "The header has to end with a colon and the body has to be indented. By\n",
        "convention, the indentation is always four spaces. The body can contain\n",
        "any number of statements.\n",
        "\n",
        "\n",
        "Defining a function creates a variable with the same name."
      ],
      "id": "south-exclusive"
    },
    {
      "cell_type": "code",
      "execution_count": 38,
      "metadata": {
        "id": "rapid-mathematics",
        "colab": {
          "base_uri": "https://localhost:8080/"
        },
        "outputId": "5ced8ecb-8dd9-4126-f831-feb70786697b"
      },
      "outputs": [
        {
          "output_type": "stream",
          "name": "stdout",
          "text": [
            "I'm a lumberjack, and I'm okay.\n",
            "I sleep all night and I work all day.\n"
          ]
        }
      ],
      "source": [
        "print_lyrics()"
      ],
      "id": "rapid-mathematics"
    },
    {
      "cell_type": "code",
      "execution_count": 39,
      "metadata": {
        "id": "unavailable-stock",
        "colab": {
          "base_uri": "https://localhost:8080/"
        },
        "outputId": "eb723ca0-6184-40f8-f413-6d47de6af63c"
      },
      "outputs": [
        {
          "output_type": "stream",
          "name": "stdout",
          "text": [
            "<function print_lyrics at 0x7926a8873be0>\n"
          ]
        }
      ],
      "source": [
        "print(print_lyrics)"
      ],
      "id": "unavailable-stock"
    },
    {
      "cell_type": "code",
      "execution_count": 40,
      "metadata": {
        "id": "tested-arlington",
        "colab": {
          "base_uri": "https://localhost:8080/"
        },
        "outputId": "21d8f906-6195-4ffd-bfe0-4196d3288b58"
      },
      "outputs": [
        {
          "output_type": "stream",
          "name": "stdout",
          "text": [
            "<class 'function'>\n"
          ]
        }
      ],
      "source": [
        "print(type(print_lyrics))"
      ],
      "id": "tested-arlington"
    },
    {
      "cell_type": "markdown",
      "metadata": {
        "id": "hearing-romania"
      },
      "source": [
        "The value of `print_lyrics` is a *function object*, which\n",
        "has type \"function\".\n",
        "\n",
        "\n",
        "\n",
        "The syntax for calling the new function is the same as for built-in\n",
        "functions:"
      ],
      "id": "hearing-romania"
    },
    {
      "cell_type": "code",
      "execution_count": 41,
      "metadata": {
        "id": "diverse-spring",
        "colab": {
          "base_uri": "https://localhost:8080/"
        },
        "outputId": "d65faf57-36ab-4bfc-e3fd-58fbf3337614"
      },
      "outputs": [
        {
          "output_type": "stream",
          "name": "stdout",
          "text": [
            "I'm a lumberjack, and I'm okay.\n",
            "I sleep all night and I work all day.\n"
          ]
        }
      ],
      "source": [
        "print_lyrics()"
      ],
      "id": "diverse-spring"
    },
    {
      "cell_type": "markdown",
      "metadata": {
        "id": "hollywood-elder"
      },
      "source": [
        "Once you have defined a function, you can use it inside another\n",
        "function. For example, to repeat the previous refrain, we could write a\n",
        "function called `repeat_lyrics`:"
      ],
      "id": "hollywood-elder"
    },
    {
      "cell_type": "code",
      "execution_count": 42,
      "metadata": {
        "id": "fatal-scratch"
      },
      "outputs": [],
      "source": [
        "def repeat_lyrics():\n",
        "    print_lyrics()\n",
        "    print_lyrics()"
      ],
      "id": "fatal-scratch"
    },
    {
      "cell_type": "markdown",
      "metadata": {
        "id": "administrative-halifax"
      },
      "source": [
        "And then call `repeat_lyrics`:"
      ],
      "id": "administrative-halifax"
    },
    {
      "cell_type": "code",
      "execution_count": 43,
      "metadata": {
        "id": "blocked-relationship",
        "colab": {
          "base_uri": "https://localhost:8080/"
        },
        "outputId": "2fa4ac39-f143-48c4-e14d-7f31e39cfb71"
      },
      "outputs": [
        {
          "output_type": "stream",
          "name": "stdout",
          "text": [
            "I'm a lumberjack, and I'm okay.\n",
            "I sleep all night and I work all day.\n",
            "I'm a lumberjack, and I'm okay.\n",
            "I sleep all night and I work all day.\n"
          ]
        }
      ],
      "source": [
        "repeat_lyrics()"
      ],
      "id": "blocked-relationship"
    },
    {
      "cell_type": "markdown",
      "metadata": {
        "id": "chinese-partnership"
      },
      "source": [
        "Function definitions get executed just like other\n",
        "statements, but the effect is to create function objects. The statements\n",
        "inside the function do not get executed until the function is called,\n",
        "and the function definition generates no output.\n",
        "\n",
        "\n",
        "As you might expect, you have to create a function before you can\n",
        "execute it. In other words, the function definition has to be executed\n",
        "before the first time it is called."
      ],
      "id": "chinese-partnership"
    },
    {
      "cell_type": "markdown",
      "metadata": {
        "id": "boring-emperor"
      },
      "source": [
        "Flow of execution\n",
        "-----------------\n",
        "\n",
        "\n",
        "\n",
        "In order to ensure that a function is defined before its first use, you\n",
        "have to know the order in which statements are executed, which is called\n",
        "the *flow of execution*.\n",
        "\n",
        "Execution always begins at the first statement of the program.\n",
        "Statements are executed one at a time, in order from top to bottom.\n",
        "\n",
        "Function *definitions* do not alter the flow of execution of the\n",
        "program, but remember that statements inside the function are not\n",
        "executed until the function is called.\n",
        "\n",
        "A function call is like a detour in the flow of execution. Instead of\n",
        "going to the next statement, the flow jumps to the body of the function,\n",
        "executes all the statements there, and then comes back to pick up where\n",
        "it left off.\n",
        "\n",
        "That sounds simple enough, until you remember that one function can call\n",
        "another. While in the middle of one function, the program might have to\n",
        "execute the statements in another function. But while executing that new\n",
        "function, the program might have to execute yet another function!\n",
        "\n",
        "Fortunately, Python is good at keeping track of where it is, so each\n",
        "time a function completes, the program picks up where it left off in the\n",
        "function that called it. When it gets to the end of the program, it\n",
        "terminates.\n",
        "\n",
        "What's the moral of this sordid tale? When you read a program, you don't\n",
        "always want to read from top to bottom. Sometimes it makes more sense if\n",
        "you follow the flow of execution."
      ],
      "id": "boring-emperor"
    },
    {
      "cell_type": "markdown",
      "metadata": {
        "id": "bottom-textbook"
      },
      "source": [
        "Parameters and arguments\n",
        "------------------------\n",
        "\n",
        "\n",
        "\n",
        "\n",
        "Some of the built-in functions we have seen require arguments. For\n",
        "example, when you call `math.sin` you pass a number as an\n",
        "argument. Some functions take more than one argument:\n",
        "`math.pow` takes two, the base and the exponent.\n",
        "\n",
        "Inside the function, the arguments are assigned to variables called\n",
        "*parameters*. Here is an example of a user-defined\n",
        "function that takes an argument:"
      ],
      "id": "bottom-textbook"
    },
    {
      "cell_type": "code",
      "execution_count": 44,
      "metadata": {
        "id": "hawaiian-boundary"
      },
      "outputs": [],
      "source": [
        "def print_twice(name):\n",
        "    print(name)\n",
        "    print(name)"
      ],
      "id": "hawaiian-boundary"
    },
    {
      "cell_type": "markdown",
      "metadata": {
        "id": "compound-magic"
      },
      "source": [
        "This function assigns the argument to a parameter named\n",
        "`bruce`. When the function is called, it prints the value of\n",
        "the parameter (whatever it is) twice.\n",
        "\n",
        "This function works with any value that can be printed."
      ],
      "id": "compound-magic"
    },
    {
      "cell_type": "code",
      "execution_count": 45,
      "metadata": {
        "id": "harmful-trail",
        "colab": {
          "base_uri": "https://localhost:8080/"
        },
        "outputId": "f035412c-3f44-4c19-bd6f-771ca19fb605"
      },
      "outputs": [
        {
          "output_type": "stream",
          "name": "stdout",
          "text": [
            "Spam\n",
            "Spam\n"
          ]
        }
      ],
      "source": [
        "print_twice('Spam')"
      ],
      "id": "harmful-trail"
    },
    {
      "cell_type": "code",
      "execution_count": 46,
      "metadata": {
        "id": "latter-incident",
        "colab": {
          "base_uri": "https://localhost:8080/"
        },
        "outputId": "0b1fa7cd-0fe6-49ac-bd4c-4ff6baf3e9b1"
      },
      "outputs": [
        {
          "output_type": "stream",
          "name": "stdout",
          "text": [
            "17\n",
            "17\n"
          ]
        }
      ],
      "source": [
        "print_twice(17)"
      ],
      "id": "latter-incident"
    },
    {
      "cell_type": "code",
      "execution_count": 47,
      "metadata": {
        "id": "artistic-desktop",
        "colab": {
          "base_uri": "https://localhost:8080/"
        },
        "outputId": "d1e5886f-0b14-4ccd-b372-7bc2113fccce"
      },
      "outputs": [
        {
          "output_type": "stream",
          "name": "stdout",
          "text": [
            "3.141592653589793\n",
            "3.141592653589793\n"
          ]
        }
      ],
      "source": [
        "print_twice(math.pi)"
      ],
      "id": "artistic-desktop"
    },
    {
      "cell_type": "markdown",
      "metadata": {
        "id": "concerned-polls"
      },
      "source": [
        "The same rules of composition that apply to built-in functions also\n",
        "apply to user-defined functions, so we can use any kind of expression as\n",
        "an argument for `print_twice`:"
      ],
      "id": "concerned-polls"
    },
    {
      "cell_type": "code",
      "execution_count": 48,
      "metadata": {
        "id": "bound-literature",
        "colab": {
          "base_uri": "https://localhost:8080/"
        },
        "outputId": "98199eb1-2c84-4e54-918e-b5e91e6af0dc"
      },
      "outputs": [
        {
          "output_type": "stream",
          "name": "stdout",
          "text": [
            "Spam Spam Spam Spam \n",
            "Spam Spam Spam Spam \n"
          ]
        }
      ],
      "source": [
        "print_twice('Spam '*4)"
      ],
      "id": "bound-literature"
    },
    {
      "cell_type": "code",
      "execution_count": 49,
      "metadata": {
        "id": "explicit-melissa",
        "colab": {
          "base_uri": "https://localhost:8080/"
        },
        "outputId": "40df2031-bf1b-4a9e-e9d3-c25503eae6fd"
      },
      "outputs": [
        {
          "output_type": "stream",
          "name": "stdout",
          "text": [
            "-1.0\n",
            "-1.0\n"
          ]
        }
      ],
      "source": [
        "print_twice(math.cos(math.pi))"
      ],
      "id": "explicit-melissa"
    },
    {
      "cell_type": "markdown",
      "metadata": {
        "id": "mental-advancement"
      },
      "source": [
        "The argument is evaluated before the function is called, so in the\n",
        "examples the expressions `'Spam '*4` and `math.cos(math.pi)`\n",
        "are only evaluated once.\n",
        "\n",
        "\n",
        "\n",
        "You can also use a variable as an argument:"
      ],
      "id": "mental-advancement"
    },
    {
      "cell_type": "code",
      "execution_count": 50,
      "metadata": {
        "id": "baking-heater",
        "colab": {
          "base_uri": "https://localhost:8080/"
        },
        "outputId": "d9388d37-1c32-45e8-fa86-2684faa10ce2"
      },
      "outputs": [
        {
          "output_type": "stream",
          "name": "stdout",
          "text": [
            "Eric, the half a bee.\n",
            "Eric, the half a bee.\n"
          ]
        }
      ],
      "source": [
        "michael = 'Eric, the half a bee.'\n",
        "print_twice(michael)"
      ],
      "id": "baking-heater"
    },
    {
      "cell_type": "markdown",
      "metadata": {
        "id": "minus-chemical"
      },
      "source": [
        "The name of the variable we pass as an argument (`michael`)\n",
        "has nothing to do with the name of the parameter (`bruce`).\n",
        "It doesn't matter what the value was called back home (in the caller);\n",
        "here in `print_twice`, we call everybody `bruce`."
      ],
      "id": "minus-chemical"
    },
    {
      "cell_type": "markdown",
      "metadata": {
        "id": "conventional-start"
      },
      "source": [
        "Fruitful functions (Return) and void functions\n",
        "-------------------------------------\n",
        "\n",
        "\n",
        "\n",
        "Some of the functions we are using, such as the math functions, yield\n",
        "results; for lack of a better name, I call them *fruitful\n",
        "functions*. Other functions, like `print_twice`, perform an\n",
        "action but don't return a value. They are called *void\n",
        "functions*.\n",
        "\n",
        "When you call a fruitful function, you almost always want to do\n",
        "something with the result; for example, you might assign it to a\n",
        "variable or use it as part of an expression:"
      ],
      "id": "conventional-start"
    },
    {
      "cell_type": "code",
      "execution_count": 51,
      "metadata": {
        "id": "aggressive-naples"
      },
      "outputs": [],
      "source": [
        "x = math.cos(radians)\n",
        "golden = (math.sqrt(5) + 1) / 2"
      ],
      "id": "aggressive-naples"
    },
    {
      "cell_type": "markdown",
      "metadata": {
        "id": "hawaiian-lighter"
      },
      "source": [
        "But in a script, if you call a fruitful function and do not store the\n",
        "result of the function in a variable, the return value vanishes into the\n",
        "mist!"
      ],
      "id": "hawaiian-lighter"
    },
    {
      "cell_type": "code",
      "execution_count": 52,
      "metadata": {
        "id": "simple-artwork",
        "colab": {
          "base_uri": "https://localhost:8080/"
        },
        "outputId": "25be9d84-e631-4da0-ed6f-0d20da24b32e"
      },
      "outputs": [
        {
          "output_type": "execute_result",
          "data": {
            "text/plain": [
              "2.23606797749979"
            ]
          },
          "metadata": {},
          "execution_count": 52
        }
      ],
      "source": [
        "math.sqrt(5)"
      ],
      "id": "simple-artwork"
    },
    {
      "cell_type": "markdown",
      "metadata": {
        "id": "exceptional-scanning"
      },
      "source": [
        "This script computes the square root of 5, but since it doesn't store\n",
        "the result in a variable or display the result, it is not very useful.\n",
        "\n",
        "\n",
        "\n",
        "Void functions might display something on the screen or have some other\n",
        "effect, but they don't have a return value. If you try to assign the\n",
        "result to a variable, you get a special value called `None`."
      ],
      "id": "exceptional-scanning"
    },
    {
      "cell_type": "code",
      "execution_count": 53,
      "metadata": {
        "id": "central-gates",
        "colab": {
          "base_uri": "https://localhost:8080/"
        },
        "outputId": "c5c7f0a5-111c-445d-88c0-e1317b6692ce"
      },
      "outputs": [
        {
          "output_type": "stream",
          "name": "stdout",
          "text": [
            "Bing\n",
            "Bing\n"
          ]
        }
      ],
      "source": [
        "result = print_twice('Bing')"
      ],
      "id": "central-gates"
    },
    {
      "cell_type": "code",
      "execution_count": 54,
      "metadata": {
        "id": "referenced-delay",
        "colab": {
          "base_uri": "https://localhost:8080/"
        },
        "outputId": "43a6b01c-36f1-4608-e4ba-b7e9c3f62c0e"
      },
      "outputs": [
        {
          "output_type": "stream",
          "name": "stdout",
          "text": [
            "None\n"
          ]
        }
      ],
      "source": [
        "print(result)"
      ],
      "id": "referenced-delay"
    },
    {
      "cell_type": "markdown",
      "metadata": {
        "id": "opponent-function"
      },
      "source": [
        "The value `None` is not the same as the string \"None\". It\n",
        "is a special value that has its own type:"
      ],
      "id": "opponent-function"
    },
    {
      "cell_type": "code",
      "execution_count": 55,
      "metadata": {
        "id": "cardiovascular-stream",
        "colab": {
          "base_uri": "https://localhost:8080/"
        },
        "outputId": "b51cfbdb-12d7-4f15-cdc9-bf975892ae75"
      },
      "outputs": [
        {
          "output_type": "stream",
          "name": "stdout",
          "text": [
            "<class 'NoneType'>\n"
          ]
        }
      ],
      "source": [
        "print(type(None))"
      ],
      "id": "cardiovascular-stream"
    },
    {
      "cell_type": "markdown",
      "metadata": {
        "id": "serious-works"
      },
      "source": [
        "To return a result from a function, we use the `return`\n",
        "statement in our function. For example, we could make a very simple\n",
        "function called `addtwo` that adds two numbers together and\n",
        "returns a result."
      ],
      "id": "serious-works"
    },
    {
      "cell_type": "code",
      "execution_count": 56,
      "metadata": {
        "id": "broke-preference"
      },
      "outputs": [],
      "source": [
        "def addtwo(a, b):\n",
        "    added = a + b\n",
        "    return added\n",
        "\n"
      ],
      "id": "broke-preference"
    },
    {
      "cell_type": "code",
      "execution_count": 57,
      "metadata": {
        "id": "extensive-tooth"
      },
      "outputs": [],
      "source": [
        "x = addtwo(3, 5)"
      ],
      "id": "extensive-tooth"
    },
    {
      "cell_type": "markdown",
      "metadata": {
        "id": "consolidated-championship"
      },
      "source": [
        "When this script executes, the `print` statement will print\n",
        "out \"8\" because the `addtwo` function was called with 3 and 5\n",
        "as arguments. Within the function, the parameters `a` and\n",
        "`b` were 3 and 5 respectively. The function computed the sum\n",
        "of the two numbers and placed it in the local function variable named\n",
        "`added`. Then it used the `return` statement to\n",
        "send the computed value back to the calling code as the function result,\n",
        "which was assigned to the variable `x` and printed out."
      ],
      "id": "consolidated-championship"
    },
    {
      "cell_type": "markdown",
      "metadata": {
        "id": "standing-forty"
      },
      "source": [
        "Why functions?\n",
        "--------------\n",
        "\n",
        "\n",
        "It may not be clear why it is worth the trouble to divide a program into\n",
        "functions. There are several reasons:\n",
        "\n",
        "-   Creating a new function gives you an opportunity to name a group of\n",
        "    statements, which makes your program easier to read, understand, and\n",
        "    debug.\n",
        "\n",
        "-   Functions can make a program smaller by eliminating repetitive code.\n",
        "    Later, if you make a change, you only have to make it in one place.\n",
        "\n",
        "-   Dividing a long program into functions allows you to debug the parts\n",
        "    one at a time and then assemble them into a working whole.\n",
        "\n",
        "-   Well-designed functions are often useful for many programs. Once you\n",
        "    write and debug one, you can reuse it.\n",
        "\n",
        "Throughout the rest of the book, often we will use a function definition\n",
        "to explain a concept. Part of the skill of creating and using functions\n",
        "is to have a function properly capture an idea such as \"find the\n",
        "smallest value in a list of values\". Later we will show you code that\n",
        "finds the smallest in a list of values and we will present it to you as\n",
        "a function named `min` which takes a list of values as its\n",
        "argument and returns the smallest value in the list."
      ],
      "id": "standing-forty"
    }
  ],
  "metadata": {
    "colab": {
      "provenance": [],
      "include_colab_link": true
    },
    "kernelspec": {
      "display_name": "Python 3 (ipykernel)",
      "language": "python",
      "name": "python3"
    },
    "language_info": {
      "codemirror_mode": {
        "name": "ipython",
        "version": 3
      },
      "file_extension": ".py",
      "mimetype": "text/x-python",
      "name": "python",
      "nbconvert_exporter": "python",
      "pygments_lexer": "ipython3",
      "version": "3.10.9"
    }
  },
  "nbformat": 4,
  "nbformat_minor": 5
}