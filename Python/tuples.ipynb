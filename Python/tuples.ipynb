{
  "cells": [
    {
      "cell_type": "markdown",
      "metadata": {
        "id": "view-in-github",
        "colab_type": "text"
      },
      "source": [
        "<a href=\"https://colab.research.google.com/github/alielkassas/Teaching/blob/master/Python/tuples.ipynb\" target=\"_parent\"><img src=\"https://colab.research.google.com/assets/colab-badge.svg\" alt=\"Open In Colab\"/></a>"
      ]
    },
    {
      "cell_type": "markdown",
      "id": "94955953-c345-47fc-a9c6-7d137558b361",
      "metadata": {
        "id": "94955953-c345-47fc-a9c6-7d137558b361"
      },
      "source": [
        "# Tuples"
      ]
    },
    {
      "cell_type": "markdown",
      "id": "6611c3c8-2a1f-4e9b-9486-65f0118b0b11",
      "metadata": {
        "id": "6611c3c8-2a1f-4e9b-9486-65f0118b0b11"
      },
      "source": [
        "## Tuples are immutable"
      ]
    },
    {
      "cell_type": "markdown",
      "id": "b2d38d28-6edf-46b0-914e-14e07ea95cbd",
      "metadata": {
        "id": "b2d38d28-6edf-46b0-914e-14e07ea95cbd"
      },
      "source": [
        "A tuple1 is a sequence of values much like a list. The values stored in a tuple can be any type, and they are indexed by integers. The important difference is that tuples are *immutable*. Tuples are also *comparable and hashable* so we can sort lists of them and use tuples as key values in Python dictionaries.\n",
        "\n",
        "Syntactically, a tuple is a comma-separated list of values:"
      ]
    },
    {
      "cell_type": "code",
      "execution_count": null,
      "id": "da267f50-5858-4a72-a5d7-b16aee3ec3f1",
      "metadata": {
        "id": "da267f50-5858-4a72-a5d7-b16aee3ec3f1"
      },
      "outputs": [],
      "source": [
        "t = 'a', 'b', 'c', 'd', 'e'"
      ]
    },
    {
      "cell_type": "markdown",
      "id": "e7ce7108-c17f-43e4-b31a-c521016138cd",
      "metadata": {
        "id": "e7ce7108-c17f-43e4-b31a-c521016138cd"
      },
      "source": [
        "Although it is not necessary, it is common to enclose tuples in parentheses to help us quickly identify tuples when we look at Python code:"
      ]
    },
    {
      "cell_type": "code",
      "execution_count": null,
      "id": "18a6e387-2405-499a-8342-a2dc9f90810e",
      "metadata": {
        "id": "18a6e387-2405-499a-8342-a2dc9f90810e"
      },
      "outputs": [],
      "source": [
        "t = ('a', 'b', 'c', 'd', 'e')"
      ]
    },
    {
      "cell_type": "markdown",
      "id": "31d2057b-eaf3-4b55-b284-5c7601144452",
      "metadata": {
        "id": "31d2057b-eaf3-4b55-b284-5c7601144452"
      },
      "source": [
        "To create a tuple with a single element, you have to include the final comma:"
      ]
    },
    {
      "cell_type": "code",
      "execution_count": null,
      "id": "3cce2594-6ec5-4f1b-9311-cb32baee14e0",
      "metadata": {
        "id": "3cce2594-6ec5-4f1b-9311-cb32baee14e0",
        "outputId": "b1ffc921-28cd-4bd0-eaed-d206e8e7543d"
      },
      "outputs": [
        {
          "data": {
            "text/plain": [
              "tuple"
            ]
          },
          "execution_count": 3,
          "metadata": {},
          "output_type": "execute_result"
        }
      ],
      "source": [
        "t1 = ('a',)\n",
        "type(t1)"
      ]
    },
    {
      "cell_type": "markdown",
      "id": "783fa3e6-d48f-4d02-b6f5-28b14a8cfcf5",
      "metadata": {
        "id": "783fa3e6-d48f-4d02-b6f5-28b14a8cfcf5"
      },
      "source": [
        "Without the comma Python treats `('a')` as an expression with a string in parentheses that evaluates to a string:"
      ]
    },
    {
      "cell_type": "code",
      "execution_count": null,
      "id": "4d2fbaad-5e7f-486f-a406-db3126ec5228",
      "metadata": {
        "id": "4d2fbaad-5e7f-486f-a406-db3126ec5228",
        "outputId": "637dda71-342f-46de-dca1-1247db90be24"
      },
      "outputs": [
        {
          "data": {
            "text/plain": [
              "str"
            ]
          },
          "execution_count": 4,
          "metadata": {},
          "output_type": "execute_result"
        }
      ],
      "source": [
        "t2 = ('a')\n",
        "type(t2)"
      ]
    },
    {
      "cell_type": "markdown",
      "id": "26c96303-f104-4b30-8e74-1b94eeec4438",
      "metadata": {
        "id": "26c96303-f104-4b30-8e74-1b94eeec4438"
      },
      "source": [
        "Another way to construct a tuple is the built-in function `tuple`. With no argument, it creates an empty tuple:"
      ]
    },
    {
      "cell_type": "code",
      "execution_count": null,
      "id": "87208cb0-16ab-4dfd-bd08-8b0b94e5ea1f",
      "metadata": {
        "id": "87208cb0-16ab-4dfd-bd08-8b0b94e5ea1f",
        "outputId": "d8965403-afa5-4a6c-be33-a03e6553fc58"
      },
      "outputs": [
        {
          "name": "stdout",
          "output_type": "stream",
          "text": [
            "()\n"
          ]
        }
      ],
      "source": [
        "t = tuple()\n",
        "print(t)"
      ]
    },
    {
      "cell_type": "markdown",
      "id": "784940f0-197b-4d2c-a060-4d3878a1ca05",
      "metadata": {
        "id": "784940f0-197b-4d2c-a060-4d3878a1ca05"
      },
      "source": [
        "If the argument is a sequence (string, list, or tuple), the result of the call to `tuple` is a tuple with the elements of the sequence:"
      ]
    },
    {
      "cell_type": "code",
      "execution_count": null,
      "id": "22639be0-0ff5-4145-bc45-342bd4ea4cf3",
      "metadata": {
        "id": "22639be0-0ff5-4145-bc45-342bd4ea4cf3",
        "outputId": "d609fb59-6ccc-4d09-e6c2-bf4a5697bfc6"
      },
      "outputs": [
        {
          "name": "stdout",
          "output_type": "stream",
          "text": [
            "('l', 'u', 'p', 'i', 'n', 's')\n"
          ]
        }
      ],
      "source": [
        "t = tuple('lupins')\n",
        "print(t)"
      ]
    },
    {
      "cell_type": "markdown",
      "id": "b1a71641-8e5d-4542-a61f-183e977f893c",
      "metadata": {
        "id": "b1a71641-8e5d-4542-a61f-183e977f893c"
      },
      "source": [
        "Because `tuple` is the name of a constructor, you should avoid using it as a variable name.\n",
        "\n",
        "Most list operators also work on tuples. The bracket operator indexes an element:"
      ]
    },
    {
      "cell_type": "code",
      "execution_count": null,
      "id": "895a0bac-ecde-4faa-a548-d83e33555ab3",
      "metadata": {
        "id": "895a0bac-ecde-4faa-a548-d83e33555ab3",
        "outputId": "306563a8-e8ce-4d09-a2cc-f38f530cdd4a"
      },
      "outputs": [
        {
          "name": "stdout",
          "output_type": "stream",
          "text": [
            "a\n"
          ]
        }
      ],
      "source": [
        "t = ('a', 'b', 'c', 'd', 'e')\n",
        "print(t[0])"
      ]
    },
    {
      "cell_type": "markdown",
      "id": "ddcef43a-3313-4d2f-a19e-b9ee9dfcf8ca",
      "metadata": {
        "id": "ddcef43a-3313-4d2f-a19e-b9ee9dfcf8ca"
      },
      "source": [
        "And the slice operator selects a range of elements."
      ]
    },
    {
      "cell_type": "code",
      "execution_count": null,
      "id": "ef686b8d-8ac3-4eaa-9f07-f85652360910",
      "metadata": {
        "id": "ef686b8d-8ac3-4eaa-9f07-f85652360910",
        "outputId": "4592edbc-1bef-4c98-f3bd-a2fb4cc8da16"
      },
      "outputs": [
        {
          "name": "stdout",
          "output_type": "stream",
          "text": [
            "('b', 'c')\n"
          ]
        }
      ],
      "source": [
        "print(t[1:3])"
      ]
    },
    {
      "cell_type": "markdown",
      "id": "193dbb06-9238-4ff1-9259-3832d543d35b",
      "metadata": {
        "id": "193dbb06-9238-4ff1-9259-3832d543d35b"
      },
      "source": [
        "But if you try to modify one of the elements of the tuple, you get an error:"
      ]
    },
    {
      "cell_type": "code",
      "execution_count": null,
      "id": "52e0dd26-551a-40af-822a-5cc52349b61a",
      "metadata": {
        "id": "52e0dd26-551a-40af-822a-5cc52349b61a",
        "outputId": "8016f15c-4a6d-486f-faf9-59e705dc1122"
      },
      "outputs": [
        {
          "ename": "TypeError",
          "evalue": "'tuple' object does not support item assignment",
          "output_type": "error",
          "traceback": [
            "\u001b[1;31m---------------------------------------------------------------------------\u001b[0m",
            "\u001b[1;31mTypeError\u001b[0m                                 Traceback (most recent call last)",
            "Cell \u001b[1;32mIn[10], line 1\u001b[0m\n\u001b[1;32m----> 1\u001b[0m \u001b[43mt\u001b[49m\u001b[43m[\u001b[49m\u001b[38;5;241;43m0\u001b[39;49m\u001b[43m]\u001b[49m \u001b[38;5;241m=\u001b[39m \u001b[38;5;124m'\u001b[39m\u001b[38;5;124mA\u001b[39m\u001b[38;5;124m'\u001b[39m\n",
            "\u001b[1;31mTypeError\u001b[0m: 'tuple' object does not support item assignment"
          ]
        }
      ],
      "source": [
        "t[0] = 'A'"
      ]
    },
    {
      "cell_type": "markdown",
      "id": "2e07733c-da6e-42bd-a296-2d3cad70fc85",
      "metadata": {
        "id": "2e07733c-da6e-42bd-a296-2d3cad70fc85"
      },
      "source": [
        "You can’t modify the elements of a tuple, but you can replace one tuple with another:"
      ]
    },
    {
      "cell_type": "code",
      "execution_count": null,
      "id": "bb8ae2be-314a-4e0a-b528-0a72d57646fd",
      "metadata": {
        "id": "bb8ae2be-314a-4e0a-b528-0a72d57646fd",
        "outputId": "6e8f149f-d5de-42dd-a7ce-5310f8bd9fcd"
      },
      "outputs": [
        {
          "name": "stdout",
          "output_type": "stream",
          "text": [
            "('A', 'b', 'c', 'd', 'e')\n"
          ]
        }
      ],
      "source": [
        "t = ('A',) + t[1:]\n",
        "print(t)"
      ]
    },
    {
      "cell_type": "markdown",
      "id": "4c032673-837f-4304-88df-eb5b1c61688f",
      "metadata": {
        "id": "4c032673-837f-4304-88df-eb5b1c61688f"
      },
      "source": [
        "## Comparing tuples\n",
        "The comparison operators work with tuples and other sequences. Python starts by comparing the first element from each sequence. If they are equal, it goes on to the next element, and so on, until it finds elements that differ. Subsequent elements are not considered (even if they are really big)."
      ]
    },
    {
      "cell_type": "code",
      "execution_count": null,
      "id": "45e9015e-e5c2-4ff7-a11d-7214e1dc03b7",
      "metadata": {
        "id": "45e9015e-e5c2-4ff7-a11d-7214e1dc03b7",
        "outputId": "6b96a254-b894-4675-be03-f6765922be9b"
      },
      "outputs": [
        {
          "data": {
            "text/plain": [
              "True"
            ]
          },
          "execution_count": 12,
          "metadata": {},
          "output_type": "execute_result"
        }
      ],
      "source": [
        "(0, 1, 2) < (0, 3, 4)"
      ]
    },
    {
      "cell_type": "code",
      "execution_count": null,
      "id": "90b8243e-cce2-4951-ad0d-cd0eb4fc43be",
      "metadata": {
        "id": "90b8243e-cce2-4951-ad0d-cd0eb4fc43be",
        "outputId": "3933bd90-076c-4469-a8db-ce9a5f41d42b"
      },
      "outputs": [
        {
          "data": {
            "text/plain": [
              "True"
            ]
          },
          "execution_count": 13,
          "metadata": {},
          "output_type": "execute_result"
        }
      ],
      "source": [
        "(0, 1, 2000000) < (0, 3, 4)"
      ]
    },
    {
      "cell_type": "markdown",
      "id": "2c8ce2f4-8c54-4680-bc7d-fb0d63151bf2",
      "metadata": {
        "id": "2c8ce2f4-8c54-4680-bc7d-fb0d63151bf2"
      },
      "source": [
        "## Tuple assignment\n",
        "One of the unique syntactic features of the Python language is the ability to have a tuple on the left side and a sequence on the right side of an assignment statement. This allows you to assign more than one variable at a time to the given sequence.\n",
        "\n",
        "In this example we have a two-element list (which is a sequence) and assign the first and second elements of the sequence to the variables x and y in a single statement."
      ]
    },
    {
      "cell_type": "code",
      "execution_count": null,
      "id": "0a3afe4f-b10d-4c27-92fd-250d43a68e55",
      "metadata": {
        "id": "0a3afe4f-b10d-4c27-92fd-250d43a68e55",
        "outputId": "862ea4df-5a32-4faa-bd4a-5c6ea4861b86"
      },
      "outputs": [
        {
          "data": {
            "text/plain": [
              "'have'"
            ]
          },
          "execution_count": 15,
          "metadata": {},
          "output_type": "execute_result"
        }
      ],
      "source": [
        "m = [ 'have', 'fun' ]\n",
        "x, y = m\n",
        "x"
      ]
    },
    {
      "cell_type": "code",
      "execution_count": null,
      "id": "5c9c147c-56a3-4a2e-9a59-d57da854ec1d",
      "metadata": {
        "id": "5c9c147c-56a3-4a2e-9a59-d57da854ec1d",
        "outputId": "408219e1-ff93-4e5c-e2d4-ef5311cde202"
      },
      "outputs": [
        {
          "data": {
            "text/plain": [
              "'fun'"
            ]
          },
          "execution_count": 16,
          "metadata": {},
          "output_type": "execute_result"
        }
      ],
      "source": [
        "y"
      ]
    },
    {
      "cell_type": "markdown",
      "id": "6cbae70b-61bc-4407-b77e-3e8814b085fa",
      "metadata": {
        "id": "6cbae70b-61bc-4407-b77e-3e8814b085fa"
      },
      "source": [
        "It is not magic, Python roughly translates the tuple assignment syntax to be the following:"
      ]
    },
    {
      "cell_type": "code",
      "execution_count": null,
      "id": "b6c7102a-4ab4-42ff-a0ea-16af19773a4a",
      "metadata": {
        "id": "b6c7102a-4ab4-42ff-a0ea-16af19773a4a",
        "outputId": "17ffbb95-a681-42a6-9ce4-825a49cbad42"
      },
      "outputs": [
        {
          "data": {
            "text/plain": [
              "'have'"
            ]
          },
          "execution_count": 17,
          "metadata": {},
          "output_type": "execute_result"
        }
      ],
      "source": [
        "m = [ 'have', 'fun' ]\n",
        "x = m[0]\n",
        "y = m[1]\n",
        "x"
      ]
    },
    {
      "cell_type": "code",
      "execution_count": null,
      "id": "82323ab2-7c90-40e7-8c72-6fd28306be08",
      "metadata": {
        "id": "82323ab2-7c90-40e7-8c72-6fd28306be08",
        "outputId": "169595d5-0d26-4230-8e21-d45d478916cd"
      },
      "outputs": [
        {
          "data": {
            "text/plain": [
              "'fun'"
            ]
          },
          "execution_count": 18,
          "metadata": {},
          "output_type": "execute_result"
        }
      ],
      "source": [
        "y"
      ]
    },
    {
      "cell_type": "markdown",
      "id": "858b2c7b-11e9-468e-a8c8-337eae48b2c4",
      "metadata": {
        "id": "858b2c7b-11e9-468e-a8c8-337eae48b2c4"
      },
      "source": [
        "Stylistically when we use a tuple on the left side of the assignment statement, we omit the parentheses, but the following is an equally valid syntax:"
      ]
    },
    {
      "cell_type": "code",
      "execution_count": null,
      "id": "86cc7f33-da97-47a2-832f-370be4f49842",
      "metadata": {
        "id": "86cc7f33-da97-47a2-832f-370be4f49842",
        "outputId": "802cbd17-931a-4469-e4f9-76d91ef089a3"
      },
      "outputs": [
        {
          "data": {
            "text/plain": [
              "'have'"
            ]
          },
          "execution_count": 19,
          "metadata": {},
          "output_type": "execute_result"
        }
      ],
      "source": [
        "m = [ 'have', 'fun' ]\n",
        "(x, y) = m\n",
        "x"
      ]
    },
    {
      "cell_type": "markdown",
      "id": "59358728-49a6-4095-aec1-69fd8c50bf47",
      "metadata": {
        "id": "59358728-49a6-4095-aec1-69fd8c50bf47"
      },
      "source": [
        "A particularly clever application of tuple assignment allows us to swap the values of two variables in a single statement:"
      ]
    },
    {
      "cell_type": "code",
      "execution_count": null,
      "id": "ca46c5bd-be95-41e0-a459-1c15e4239521",
      "metadata": {
        "id": "ca46c5bd-be95-41e0-a459-1c15e4239521",
        "outputId": "fa0d1cc3-d8eb-48da-9e7b-6ce8b85698cd"
      },
      "outputs": [
        {
          "ename": "NameError",
          "evalue": "name 'b' is not defined",
          "output_type": "error",
          "traceback": [
            "\u001b[1;31m---------------------------------------------------------------------------\u001b[0m",
            "\u001b[1;31mNameError\u001b[0m                                 Traceback (most recent call last)",
            "Cell \u001b[1;32mIn[20], line 1\u001b[0m\n\u001b[1;32m----> 1\u001b[0m a, b \u001b[38;5;241m=\u001b[39m \u001b[43mb\u001b[49m, a\n",
            "\u001b[1;31mNameError\u001b[0m: name 'b' is not defined"
          ]
        }
      ],
      "source": [
        "a, b = b, a"
      ]
    },
    {
      "cell_type": "markdown",
      "id": "03abb926-5505-4bf4-b82c-42e37a663eb8",
      "metadata": {
        "id": "03abb926-5505-4bf4-b82c-42e37a663eb8"
      },
      "source": [
        "Both sides of this statement are tuples, but the left side is a tuple of variables; the right side is a tuple of expressions. Each value on the right side is assigned to its respective variable on the left side. All the expressions on the right side are evaluated before any of the assignments.\n",
        "\n",
        "The number of variables on the left and the number of values on the right must be the same:"
      ]
    },
    {
      "cell_type": "code",
      "execution_count": null,
      "id": "46283110-ae00-40a8-81b9-c38cc8edf4f5",
      "metadata": {
        "id": "46283110-ae00-40a8-81b9-c38cc8edf4f5",
        "outputId": "f9d160a5-822b-466a-94a5-c391d9c272cb"
      },
      "outputs": [
        {
          "ename": "ValueError",
          "evalue": "too many values to unpack (expected 2)",
          "output_type": "error",
          "traceback": [
            "\u001b[1;31m---------------------------------------------------------------------------\u001b[0m",
            "\u001b[1;31mValueError\u001b[0m                                Traceback (most recent call last)",
            "Cell \u001b[1;32mIn[21], line 1\u001b[0m\n\u001b[1;32m----> 1\u001b[0m a, b \u001b[38;5;241m=\u001b[39m \u001b[38;5;241m1\u001b[39m, \u001b[38;5;241m2\u001b[39m, \u001b[38;5;241m3\u001b[39m\n",
            "\u001b[1;31mValueError\u001b[0m: too many values to unpack (expected 2)"
          ]
        }
      ],
      "source": [
        "a, b = 1, 2, 3"
      ]
    },
    {
      "cell_type": "markdown",
      "id": "30c9aa45-1947-4228-8ff3-fce85855c628",
      "metadata": {
        "id": "30c9aa45-1947-4228-8ff3-fce85855c628"
      },
      "source": [
        "More generally, the right side can be any kind of sequence (string, list, or tuple). For example, to split an email address into a user name and a domain, you could write:"
      ]
    },
    {
      "cell_type": "code",
      "execution_count": null,
      "id": "f0b34c68-0a64-4929-854a-d523a15f9efb",
      "metadata": {
        "id": "f0b34c68-0a64-4929-854a-d523a15f9efb"
      },
      "outputs": [],
      "source": [
        "addr = 'monty@python.org'\n",
        "uname, domain = addr.split('@')"
      ]
    },
    {
      "cell_type": "markdown",
      "id": "63a0cd68-d31d-4104-8f2a-b408c9b8ea95",
      "metadata": {
        "id": "63a0cd68-d31d-4104-8f2a-b408c9b8ea95"
      },
      "source": [
        "The return value from split is a list with two elements; the first element is assigned to `uname`, the second to `domain`."
      ]
    },
    {
      "cell_type": "code",
      "execution_count": null,
      "id": "fcfcfd90-a36f-4fdb-b594-c3ffcb60053b",
      "metadata": {
        "id": "fcfcfd90-a36f-4fdb-b594-c3ffcb60053b",
        "outputId": "69cec3e2-e06d-42c2-9954-794d3f5b2329"
      },
      "outputs": [
        {
          "name": "stdout",
          "output_type": "stream",
          "text": [
            "monty\n"
          ]
        }
      ],
      "source": [
        "print(uname)"
      ]
    },
    {
      "cell_type": "code",
      "execution_count": null,
      "id": "4a87f474-ecfc-4694-83c1-e2ac36472643",
      "metadata": {
        "id": "4a87f474-ecfc-4694-83c1-e2ac36472643",
        "outputId": "4c7c5658-594c-4d2d-acd7-f2c704627f51"
      },
      "outputs": [
        {
          "name": "stdout",
          "output_type": "stream",
          "text": [
            "python.org\n"
          ]
        }
      ],
      "source": [
        "print(domain)"
      ]
    },
    {
      "cell_type": "markdown",
      "id": "4280bcaa-3145-439b-a595-7c3196082ef5",
      "metadata": {
        "id": "4280bcaa-3145-439b-a595-7c3196082ef5"
      },
      "source": [
        "## Dictionaries and tuples\n",
        "Dictionaries have a method called items that returns a list of tuples, where each tuple is a key-value pair:"
      ]
    },
    {
      "cell_type": "code",
      "execution_count": null,
      "id": "9e8c055f-3f2e-4fcd-8cdd-b9a8283343fe",
      "metadata": {
        "id": "9e8c055f-3f2e-4fcd-8cdd-b9a8283343fe",
        "outputId": "e4a68370-d813-4e59-d0c5-b221227ca257"
      },
      "outputs": [
        {
          "name": "stdout",
          "output_type": "stream",
          "text": [
            "[('b', 1), ('a', 10), ('c', 22)]\n"
          ]
        }
      ],
      "source": [
        "d = {'b':1, 'a':10, 'c':22}\n",
        "t = list(d.items())\n",
        "print(t)"
      ]
    },
    {
      "cell_type": "markdown",
      "id": "905035a3-b896-49f8-ac50-26dbd79bbe5d",
      "metadata": {
        "id": "905035a3-b896-49f8-ac50-26dbd79bbe5d"
      },
      "source": [
        "As you should expect from a dictionary, the items are in non-alphabetical order.\n",
        "\n",
        "However, since the list of tuples is a list, and tuples are comparable, we can now sort the list of tuples. Converting a dictionary to a list of tuples is a way for us to output the contents of a dictionary sorted by key:"
      ]
    },
    {
      "cell_type": "code",
      "execution_count": null,
      "id": "20f81dd1-e8ee-49d8-9242-89e161a49f35",
      "metadata": {
        "id": "20f81dd1-e8ee-49d8-9242-89e161a49f35",
        "outputId": "faa6b28f-dcc7-4232-bf90-ac2c024ac175"
      },
      "outputs": [
        {
          "data": {
            "text/plain": [
              "[('b', 1), ('a', 10), ('c', 22)]"
            ]
          },
          "execution_count": 27,
          "metadata": {},
          "output_type": "execute_result"
        }
      ],
      "source": [
        "d = {'b':1, 'a':10, 'c':22}\n",
        "t = list(d.items())\n",
        "t"
      ]
    },
    {
      "cell_type": "code",
      "execution_count": null,
      "id": "b4e2ad09-0e93-4bd1-b2ea-fd6f9ee304d0",
      "metadata": {
        "id": "b4e2ad09-0e93-4bd1-b2ea-fd6f9ee304d0",
        "outputId": "af0e745e-7b34-448c-da75-9d0f739c816b"
      },
      "outputs": [
        {
          "data": {
            "text/plain": [
              "[('a', 10), ('b', 1), ('c', 22)]"
            ]
          },
          "execution_count": 28,
          "metadata": {},
          "output_type": "execute_result"
        }
      ],
      "source": [
        "t.sort()\n",
        "t"
      ]
    },
    {
      "cell_type": "markdown",
      "id": "0ea2078e-d8dd-4510-a59a-0e831e563795",
      "metadata": {
        "id": "0ea2078e-d8dd-4510-a59a-0e831e563795"
      },
      "source": [
        "The new list is sorted in ascending alphabetical order by the key value."
      ]
    },
    {
      "cell_type": "markdown",
      "id": "be96603b-cc3b-45a4-a67d-14367d410d8f",
      "metadata": {
        "id": "be96603b-cc3b-45a4-a67d-14367d410d8f"
      },
      "source": [
        "## Multiple assignment with dictionaries\n",
        "Combining `items`, tuple assignment, and `for`, you can see a nice code pattern for traversing the keys and values of a dictionary in a single loop:"
      ]
    },
    {
      "cell_type": "code",
      "execution_count": null,
      "id": "c1097e7d-d71e-4613-b699-36dc28ab1ba4",
      "metadata": {
        "id": "c1097e7d-d71e-4613-b699-36dc28ab1ba4",
        "outputId": "b8152ab8-7cdf-4bd3-f9d2-1ffe76181180"
      },
      "outputs": [
        {
          "name": "stdout",
          "output_type": "stream",
          "text": [
            "10 a\n",
            "1 b\n",
            "22 c\n"
          ]
        }
      ],
      "source": [
        "d = {'a':10, 'b':1, 'c':22}\n",
        "for key, val in list(d.items()):\n",
        "    print(val, key)\n"
      ]
    },
    {
      "cell_type": "markdown",
      "id": "79341055-610d-469b-9e34-ba6d93fb3162",
      "metadata": {
        "id": "79341055-610d-469b-9e34-ba6d93fb3162"
      },
      "source": [
        "This loop has two iteration variables because `items` returns a list of tuples and `key, val` is a tuple assignment that successively iterates through each of the `key-value` pairs in the dictionary.\n",
        "\n",
        "For each iteration through the loop, both` key and value` are advanced to the next key-value pair in the dictionary (still in hash order).\n",
        "\n",
        "Again, it is in hash key order (i.e., no particular order).\n",
        "\n",
        "If we combine these two techniques, we can print out the contents of a dictionary sorted by the value stored in each key-value pair.\n",
        "\n",
        "To do this, we first make a list of tuples where each tuple is (value, key). The items method would give us a list of (key, value) tuples, but this time we want to sort by value, not key. Once we have constructed the list with the value-key tuples, it is a simple matter to sort the list in reverse order and print out the new, sorted list."
      ]
    },
    {
      "cell_type": "code",
      "execution_count": null,
      "id": "f14e8770-3963-44e9-be05-8115696333f3",
      "metadata": {
        "id": "f14e8770-3963-44e9-be05-8115696333f3",
        "outputId": "8aca3fee-d412-4fd6-f8ad-edea7e8bae09"
      },
      "outputs": [
        {
          "data": {
            "text/plain": [
              "[(10, 'a'), (1, 'b'), (22, 'c')]"
            ]
          },
          "execution_count": 31,
          "metadata": {},
          "output_type": "execute_result"
        }
      ],
      "source": [
        "d = {'a':10, 'b':1, 'c':22}\n",
        "l = list()\n",
        "for key, val in d.items() :\n",
        "    l.append( (val, key) )\n",
        "l"
      ]
    },
    {
      "cell_type": "code",
      "execution_count": null,
      "id": "2ab217ba-c5e2-4f48-882c-47f13deae021",
      "metadata": {
        "id": "2ab217ba-c5e2-4f48-882c-47f13deae021",
        "outputId": "06f1a648-d58b-4214-895c-d3fb16ff7d84"
      },
      "outputs": [
        {
          "data": {
            "text/plain": [
              "[(22, 'c'), (10, 'a'), (1, 'b')]"
            ]
          },
          "execution_count": 32,
          "metadata": {},
          "output_type": "execute_result"
        }
      ],
      "source": [
        "l.sort(reverse=True)\n",
        "l"
      ]
    },
    {
      "cell_type": "markdown",
      "id": "50d1fff6-2efa-4a2e-bff2-c894b9fd142b",
      "metadata": {
        "id": "50d1fff6-2efa-4a2e-bff2-c894b9fd142b"
      },
      "source": [
        "## List comprehension"
      ]
    },
    {
      "cell_type": "markdown",
      "id": "d67a8df6-44bc-45e9-ae90-6596b7a286bb",
      "metadata": {
        "id": "d67a8df6-44bc-45e9-ae90-6596b7a286bb"
      },
      "source": [
        "Sometimes you want to create a sequence by using data from another sequence. You can achieve this by writing a for loop and appending one item at a time. For example, if you wanted to convert a list of strings – each string storing digits – into numbers that you can sum up, you would write:"
      ]
    },
    {
      "cell_type": "code",
      "execution_count": null,
      "id": "27a107ff-0a70-4b39-b2c4-d21ff64c2a44",
      "metadata": {
        "id": "27a107ff-0a70-4b39-b2c4-d21ff64c2a44",
        "outputId": "f19b0436-0eaa-417e-ab98-4b15bc11f25c"
      },
      "outputs": [
        {
          "name": "stdout",
          "output_type": "stream",
          "text": [
            "119\n"
          ]
        }
      ],
      "source": [
        "list_of_ints_in_strings = ['42', '65', '12']\n",
        "list_of_ints = []\n",
        "for x in list_of_ints_in_strings:\n",
        "    list_of_ints.append(int(x))\n",
        "\n",
        "print(sum(list_of_ints))"
      ]
    },
    {
      "cell_type": "markdown",
      "id": "ae348a88-ab83-4bb8-9f2d-ccab659988a2",
      "metadata": {
        "id": "ae348a88-ab83-4bb8-9f2d-ccab659988a2"
      },
      "source": [
        "With list comprehension, the above code can be written in a more compact manner:"
      ]
    },
    {
      "cell_type": "code",
      "execution_count": null,
      "id": "1dce6f24-6151-443b-8f5c-5548e8ebbbee",
      "metadata": {
        "id": "1dce6f24-6151-443b-8f5c-5548e8ebbbee",
        "outputId": "895b1fb9-1d69-429e-cae2-ad769fe39ae3"
      },
      "outputs": [
        {
          "name": "stdout",
          "output_type": "stream",
          "text": [
            "119\n"
          ]
        }
      ],
      "source": [
        "list_of_ints_in_strings = ['42', '65', '12']\n",
        "list_of_ints = [ int(x) for x in list_of_ints_in_strings ]\n",
        "print(sum(list_of_ints))"
      ]
    },
    {
      "cell_type": "code",
      "execution_count": null,
      "id": "29ec1d1f-f02f-46b8-975e-e8d05ec1f92c",
      "metadata": {
        "id": "29ec1d1f-f02f-46b8-975e-e8d05ec1f92c"
      },
      "outputs": [],
      "source": []
    }
  ],
  "metadata": {
    "kernelspec": {
      "display_name": "Python 3 (ipykernel)",
      "language": "python",
      "name": "python3"
    },
    "language_info": {
      "codemirror_mode": {
        "name": "ipython",
        "version": 3
      },
      "file_extension": ".py",
      "mimetype": "text/x-python",
      "name": "python",
      "nbconvert_exporter": "python",
      "pygments_lexer": "ipython3",
      "version": "3.10.9"
    },
    "colab": {
      "provenance": [],
      "include_colab_link": true
    }
  },
  "nbformat": 4,
  "nbformat_minor": 5
}