{
  "nbformat": 4,
  "nbformat_minor": 0,
  "metadata": {
    "colab": {
      "name": "lab9_lists.ipynb",
      "provenance": [],
      "authorship_tag": "ABX9TyNoi347+C/g88WSfamoXr2K",
      "include_colab_link": true
    },
    "kernelspec": {
      "name": "python3",
      "display_name": "Python 3"
    }
  },
  "cells": [
    {
      "cell_type": "markdown",
      "metadata": {
        "id": "view-in-github",
        "colab_type": "text"
      },
      "source": [
        "<a href=\"https://colab.research.google.com/github/Ali-Abdelmonim/Teaching/blob/master/Programming%20Language/lab9_lists.ipynb\" target=\"_parent\"><img src=\"https://colab.research.google.com/assets/colab-badge.svg\" alt=\"Open In Colab\"/></a>"
      ]
    },
    {
      "cell_type": "markdown",
      "metadata": {
        "id": "ZCxsPrXpBgTM",
        "colab_type": "text"
      },
      "source": [
        "### A list is a sequence"
      ]
    },
    {
      "cell_type": "markdown",
      "metadata": {
        "id": "uIEOWGUBBlXF",
        "colab_type": "text"
      },
      "source": [
        "Like a string, a *list* is a sequence of values. In a string, the values are characters; in a list, they can be any type. The values in list are called *elements* or sometimes *items*."
      ]
    },
    {
      "cell_type": "markdown",
      "metadata": {
        "id": "bi8v3VDeBzvt",
        "colab_type": "text"
      },
      "source": [
        "There are several ways to create a new list; the simplest is to enclose the elements in square brackets (`[` and `]`):"
      ]
    },
    {
      "cell_type": "code",
      "metadata": {
        "id": "E2EX9p9fBjDs",
        "colab_type": "code",
        "colab": {}
      },
      "source": [
        "[10, 20, 30, 40]\n",
        "['crunchy frog', 'ram bladder', 'lark vomit']"
      ],
      "execution_count": 0,
      "outputs": []
    },
    {
      "cell_type": "markdown",
      "metadata": {
        "id": "-dRIw7i0B_Ak",
        "colab_type": "text"
      },
      "source": [
        "The first example is a list of four integers. The second is a list of three strings. The elements of a list don't have to be the same type. The following list contains a string, a float, an integer, and (lo!) another list:"
      ]
    },
    {
      "cell_type": "code",
      "metadata": {
        "id": "Zueeu8UJCKFD",
        "colab_type": "code",
        "colab": {}
      },
      "source": [
        "['spam', 2.0, 5, [10, 20]]"
      ],
      "execution_count": 0,
      "outputs": []
    },
    {
      "cell_type": "markdown",
      "metadata": {
        "id": "lDH6eB3VCQJ_",
        "colab_type": "text"
      },
      "source": [
        "A list within another list is nested."
      ]
    },
    {
      "cell_type": "markdown",
      "metadata": {
        "id": "SbWEPHUYCRFu",
        "colab_type": "text"
      },
      "source": [
        "A list that contains no elements is called an empty list; you can create one with empty brackets, `[]`."
      ]
    },
    {
      "cell_type": "markdown",
      "metadata": {
        "id": "6M0y3HZXCXeM",
        "colab_type": "text"
      },
      "source": [
        "As you might expect, you can assign list values to variables:"
      ]
    },
    {
      "cell_type": "code",
      "metadata": {
        "id": "U-Ex1ZSPCLG0",
        "colab_type": "code",
        "outputId": "e9482fb1-296f-4543-9549-a676de2abf45",
        "colab": {
          "base_uri": "https://localhost:8080/",
          "height": 34
        }
      },
      "source": [
        "cheeses = ['Cheddar', 'Edam', 'Gouda']\n",
        "numbers = [17, 123]\n",
        "empty = []\n",
        "print(cheeses, numbers, empty)"
      ],
      "execution_count": 0,
      "outputs": [
        {
          "output_type": "stream",
          "text": [
            "['Cheddar', 'Edam', 'Gouda'] [17, 123] []\n"
          ],
          "name": "stdout"
        }
      ]
    },
    {
      "cell_type": "markdown",
      "metadata": {
        "id": "RYsy6ro-Y1VQ",
        "colab_type": "text"
      },
      "source": [
        "### Lists are mutable"
      ]
    },
    {
      "cell_type": "markdown",
      "metadata": {
        "id": "8TjPpqFSY5ou",
        "colab_type": "text"
      },
      "source": [
        "The syntax for accessing the elements of a list is the same as for accessing the characters of a string: the bracket operator. The expression inside the brackets specifies the index. Remember that the indices start at 0:"
      ]
    },
    {
      "cell_type": "code",
      "metadata": {
        "id": "IJGtvQfuY4IT",
        "colab_type": "code",
        "outputId": "e3a11da3-e8e8-4346-82dc-fdb22b6370fc",
        "colab": {
          "base_uri": "https://localhost:8080/",
          "height": 34
        }
      },
      "source": [
        "print(cheeses[0])\n"
      ],
      "execution_count": 0,
      "outputs": [
        {
          "output_type": "stream",
          "text": [
            "Cheddar\n"
          ],
          "name": "stdout"
        }
      ]
    },
    {
      "cell_type": "markdown",
      "metadata": {
        "id": "99wzrj9eZIvx",
        "colab_type": "text"
      },
      "source": [
        "Unlike strings, lists are mutable because you can change the order of items in a list or reassign an item in a list. When the bracket operator appears on the left side of an assignment, it identifies the element of the list that will be assigned."
      ]
    },
    {
      "cell_type": "code",
      "metadata": {
        "id": "5I7YQkzYZBaM",
        "colab_type": "code",
        "outputId": "55c1ac7f-c1f5-4be4-e90f-0b4794f0ee53",
        "colab": {
          "base_uri": "https://localhost:8080/",
          "height": 34
        }
      },
      "source": [
        "numbers = [17, 123]\n",
        "numbers[1] = 5\n",
        "\n",
        "print(numbers)"
      ],
      "execution_count": 0,
      "outputs": [
        {
          "output_type": "stream",
          "text": [
            "[17, 5]\n"
          ],
          "name": "stdout"
        }
      ]
    },
    {
      "cell_type": "markdown",
      "metadata": {
        "id": "K-NSX8fVZT31",
        "colab_type": "text"
      },
      "source": [
        "The one-eth element of `numbers`, which used to be 123, is now 5."
      ]
    },
    {
      "cell_type": "markdown",
      "metadata": {
        "id": "fPxV3v7tZaEF",
        "colab_type": "text"
      },
      "source": [
        "You can think of a list as a relationship between indices and elements. This relationship is called a mapping; each index \"maps to\" one of the elements."
      ]
    },
    {
      "cell_type": "markdown",
      "metadata": {
        "id": "adpn-LeuZ0JR",
        "colab_type": "text"
      },
      "source": [
        "List indices work the same way as string indices:\n",
        "\n",
        "- Any integer expression can be used as an index.\n",
        "\n",
        "- If you try to read or write an element that does not exist, you get an IndexError.\n",
        "\n",
        "- If an index has a negative value, it counts backward from the end of the list."
      ]
    },
    {
      "cell_type": "markdown",
      "metadata": {
        "id": "KfAnxxaVZ-9Z",
        "colab_type": "text"
      },
      "source": [
        "The `in` operator also works on lists.\n",
        "\n"
      ]
    },
    {
      "cell_type": "code",
      "metadata": {
        "id": "vGNkGqL0ZPdi",
        "colab_type": "code",
        "outputId": "5dc1d39b-af04-4fb8-a014-b224fca93445",
        "colab": {
          "base_uri": "https://localhost:8080/",
          "height": 34
        }
      },
      "source": [
        "cheeses = ['Cheddar', 'Edam', 'Gouda']\n",
        "'Edam' in cheeses\n"
      ],
      "execution_count": 0,
      "outputs": [
        {
          "output_type": "execute_result",
          "data": {
            "text/plain": [
              "True"
            ]
          },
          "metadata": {
            "tags": []
          },
          "execution_count": 7
        }
      ]
    },
    {
      "cell_type": "code",
      "metadata": {
        "id": "yjoDCWGIaILs",
        "colab_type": "code",
        "outputId": "a2a09da2-f2fa-4bfb-f5e5-ed24afcf3a5c",
        "colab": {
          "base_uri": "https://localhost:8080/",
          "height": 34
        }
      },
      "source": [
        "'Brie' in cheeses"
      ],
      "execution_count": 0,
      "outputs": [
        {
          "output_type": "execute_result",
          "data": {
            "text/plain": [
              "False"
            ]
          },
          "metadata": {
            "tags": []
          },
          "execution_count": 8
        }
      ]
    },
    {
      "cell_type": "markdown",
      "metadata": {
        "id": "2ex0Zl1laaoj",
        "colab_type": "text"
      },
      "source": [
        "### Traversing a List"
      ]
    },
    {
      "cell_type": "markdown",
      "metadata": {
        "id": "y4Hc7vSCakvG",
        "colab_type": "text"
      },
      "source": [
        "The most common way to traverse the elements of a list is with a `for` loop. The syntax is the same as for strings:"
      ]
    },
    {
      "cell_type": "code",
      "metadata": {
        "id": "3ORdXPhJaczT",
        "colab_type": "code",
        "outputId": "6177cc66-51d6-4b24-93a7-47f13ed86fd7",
        "colab": {
          "base_uri": "https://localhost:8080/",
          "height": 87
        }
      },
      "source": [
        "cheeses = ['feta','gorgonzola','brie','mozzarella']\n",
        "\n",
        "for cheese in cheeses:\n",
        "    print(cheese)"
      ],
      "execution_count": 0,
      "outputs": [
        {
          "output_type": "stream",
          "text": [
            "feta\n",
            "gorgonzola\n",
            "brie\n",
            "mozzarella\n"
          ],
          "name": "stdout"
        }
      ]
    },
    {
      "cell_type": "markdown",
      "metadata": {
        "id": "1yiYJP_patR6",
        "colab_type": "text"
      },
      "source": [
        "This works well if you only need to read the elements of the list. But if you want to write or update the elements, you need the indices. A common way to do that is to combine the functions `range` and `len`:"
      ]
    },
    {
      "cell_type": "code",
      "metadata": {
        "id": "WTpHwH19ara0",
        "colab_type": "code",
        "outputId": "1eec02f4-53d3-403a-b437-8b4f68e9dcbd",
        "colab": {
          "base_uri": "https://localhost:8080/",
          "height": 105
        }
      },
      "source": [
        "numbers = [96, 23, 40, 76, 7]\n",
        "\n",
        "for i in range(len(numbers)):  # len(numbers)=5 -> range(5) = [0, 1, 2, 3, 4]\n",
        "    numbers[i] = numbers[i] * 2\n",
        "    print(numbers[i])"
      ],
      "execution_count": 0,
      "outputs": [
        {
          "output_type": "stream",
          "text": [
            "192\n",
            "46\n",
            "80\n",
            "152\n",
            "14\n"
          ],
          "name": "stdout"
        }
      ]
    },
    {
      "cell_type": "markdown",
      "metadata": {
        "id": "ZLlr9q4ba-Iz",
        "colab_type": "text"
      },
      "source": [
        "This loop traverses the list and updates each element. `len` returns the number of elements in the list. `range` returns a list of indices from 0 to n − 1, where n is the length of the list. Each time through the loop, `i` gets the index of the next element. The assignment statement in the body uses `i` to read the old value of the element and to assign the new value."
      ]
    },
    {
      "cell_type": "markdown",
      "metadata": {
        "id": "W9z8YtqVbxdD",
        "colab_type": "text"
      },
      "source": [
        "A `for` loop over an empty list never executes the body:"
      ]
    },
    {
      "cell_type": "code",
      "metadata": {
        "id": "TCQT3qzVa4Xk",
        "colab_type": "code",
        "colab": {}
      },
      "source": [
        "empty = []\n",
        "for x in empty:\n",
        "    print('This never happens.')"
      ],
      "execution_count": 0,
      "outputs": []
    },
    {
      "cell_type": "markdown",
      "metadata": {
        "id": "t0tfv8XwcG7N",
        "colab_type": "text"
      },
      "source": [
        "Although a list can contain another list, the nested list still counts as a single element. The length of this list is four:"
      ]
    },
    {
      "cell_type": "markdown",
      "metadata": {
        "id": "Z6etgCULcNSH",
        "colab_type": "text"
      },
      "source": [
        "['spam', 1, ['Brie', 'Roquefort', 'Pol le Veq'], [1, 2, 3]]"
      ]
    },
    {
      "cell_type": "markdown",
      "metadata": {
        "id": "xneC13e3cUnZ",
        "colab_type": "text"
      },
      "source": [
        "### List operations"
      ]
    },
    {
      "cell_type": "markdown",
      "metadata": {
        "id": "EE4JIsVScdHt",
        "colab_type": "text"
      },
      "source": [
        "The `+` operator concatenates lists (just like `+` with strings):"
      ]
    },
    {
      "cell_type": "code",
      "metadata": {
        "id": "8bchunUTccMd",
        "colab_type": "code",
        "outputId": "a611ef9f-f3df-442f-d241-c9f32ad4ab7c",
        "colab": {
          "base_uri": "https://localhost:8080/",
          "height": 34
        }
      },
      "source": [
        "a = [1, 2, 3]\n",
        "b = [4, 5, 6]\n",
        "c = a + b\n",
        "print(c)"
      ],
      "execution_count": 0,
      "outputs": [
        {
          "output_type": "stream",
          "text": [
            "[1, 2, 3, 4, 5, 6]\n"
          ],
          "name": "stdout"
        }
      ]
    },
    {
      "cell_type": "markdown",
      "metadata": {
        "id": "uFPY0QMucsMQ",
        "colab_type": "text"
      },
      "source": [
        "Similarly, the `*` operator repeats a list a given number of times:"
      ]
    },
    {
      "cell_type": "code",
      "metadata": {
        "id": "O5Nqzp2HcWdr",
        "colab_type": "code",
        "outputId": "99282f6e-155c-4d9e-ad88-281907fd4632",
        "colab": {
          "base_uri": "https://localhost:8080/",
          "height": 34
        }
      },
      "source": [
        "[0] * 4"
      ],
      "execution_count": 0,
      "outputs": [
        {
          "output_type": "execute_result",
          "data": {
            "text/plain": [
              "[0, 0, 0, 0]"
            ]
          },
          "metadata": {
            "tags": []
          },
          "execution_count": 14
        }
      ]
    },
    {
      "cell_type": "code",
      "metadata": {
        "id": "DM54PBe0cyuy",
        "colab_type": "code",
        "outputId": "d70d567e-2762-405d-b80c-1557023435de",
        "colab": {
          "base_uri": "https://localhost:8080/",
          "height": 34
        }
      },
      "source": [
        "[1, 2, 3] * 3"
      ],
      "execution_count": 0,
      "outputs": [
        {
          "output_type": "execute_result",
          "data": {
            "text/plain": [
              "[1, 2, 3, 1, 2, 3, 1, 2, 3]"
            ]
          },
          "metadata": {
            "tags": []
          },
          "execution_count": 15
        }
      ]
    },
    {
      "cell_type": "markdown",
      "metadata": {
        "id": "Tibonjfmc8vm",
        "colab_type": "text"
      },
      "source": [
        "The first example repeats four times. The second example repeats the list three times."
      ]
    },
    {
      "cell_type": "markdown",
      "metadata": {
        "id": "Hp0ypJzWdDXm",
        "colab_type": "text"
      },
      "source": [
        "###  List Slices"
      ]
    },
    {
      "cell_type": "markdown",
      "metadata": {
        "id": "bb39HclodJXN",
        "colab_type": "text"
      },
      "source": [
        "The slice operator also works on lists:\n",
        "\n"
      ]
    },
    {
      "cell_type": "code",
      "metadata": {
        "id": "q_g7EjKjdFqx",
        "colab_type": "code",
        "outputId": "baea9e8c-1e0d-4a35-c978-9c2c6f62ae05",
        "colab": {
          "base_uri": "https://localhost:8080/",
          "height": 34
        }
      },
      "source": [
        "t = ['a', 'b', 'c', 'd', 'e', 'f']\n",
        "t[1:3]"
      ],
      "execution_count": 0,
      "outputs": [
        {
          "output_type": "execute_result",
          "data": {
            "text/plain": [
              "['b', 'c']"
            ]
          },
          "metadata": {
            "tags": []
          },
          "execution_count": 18
        }
      ]
    },
    {
      "cell_type": "code",
      "metadata": {
        "id": "VuPgJ-GAdOr5",
        "colab_type": "code",
        "outputId": "89d7d1ed-dbe3-479e-d710-a8650921b40f",
        "colab": {
          "base_uri": "https://localhost:8080/",
          "height": 34
        }
      },
      "source": [
        "t[:4]"
      ],
      "execution_count": 0,
      "outputs": [
        {
          "output_type": "execute_result",
          "data": {
            "text/plain": [
              "['a', 'b', 'c', 'd']"
            ]
          },
          "metadata": {
            "tags": []
          },
          "execution_count": 19
        }
      ]
    },
    {
      "cell_type": "code",
      "metadata": {
        "id": "o-_yt7WXdWQi",
        "colab_type": "code",
        "outputId": "cb6e744c-30ce-44d0-d145-6fe00cf2fa4f",
        "colab": {
          "base_uri": "https://localhost:8080/",
          "height": 34
        }
      },
      "source": [
        "t[3:]"
      ],
      "execution_count": 0,
      "outputs": [
        {
          "output_type": "execute_result",
          "data": {
            "text/plain": [
              "['d', 'e', 'f']"
            ]
          },
          "metadata": {
            "tags": []
          },
          "execution_count": 20
        }
      ]
    },
    {
      "cell_type": "markdown",
      "metadata": {
        "id": "y6gR3HxkdZz2",
        "colab_type": "text"
      },
      "source": [
        "If you omit the first index, the slice starts at the beginning. If you omit the second, the slice goes to the end. So if you omit both, the slice is a copy of the whole list."
      ]
    },
    {
      "cell_type": "code",
      "metadata": {
        "id": "pKRA7s6RdZIy",
        "colab_type": "code",
        "outputId": "fd2f2b18-50da-40e9-953d-3c270622fff3",
        "colab": {
          "base_uri": "https://localhost:8080/",
          "height": 34
        }
      },
      "source": [
        "t[:]"
      ],
      "execution_count": 0,
      "outputs": [
        {
          "output_type": "execute_result",
          "data": {
            "text/plain": [
              "['a', 'b', 'c', 'd', 'e', 'f']"
            ]
          },
          "metadata": {
            "tags": []
          },
          "execution_count": 21
        }
      ]
    },
    {
      "cell_type": "markdown",
      "metadata": {
        "id": "nWS986njdl7C",
        "colab_type": "text"
      },
      "source": [
        "Since lists are mutable, it is often useful to make a copy before performing operations that fold, spindle, or mutilate lists."
      ]
    },
    {
      "cell_type": "markdown",
      "metadata": {
        "id": "_BbP6mUadq7w",
        "colab_type": "text"
      },
      "source": [
        "A slice operator on the left side of an assignment can update multiple elements:"
      ]
    },
    {
      "cell_type": "code",
      "metadata": {
        "id": "vWaPaIlUdhOi",
        "colab_type": "code",
        "outputId": "9d9ecd7f-9df0-419e-9757-3f8a7b121ac8",
        "colab": {
          "base_uri": "https://localhost:8080/",
          "height": 34
        }
      },
      "source": [
        "t = ['a', 'b', 'c', 'd', 'e', 'f']\n",
        "t[1:3] = ['x', 'y']\n",
        "print(t)"
      ],
      "execution_count": 0,
      "outputs": [
        {
          "output_type": "stream",
          "text": [
            "['a', 'x', 'y', 'd', 'e', 'f']\n"
          ],
          "name": "stdout"
        }
      ]
    },
    {
      "cell_type": "markdown",
      "metadata": {
        "id": "qlIxvqIPd_58",
        "colab_type": "text"
      },
      "source": [
        "### List Methods"
      ]
    },
    {
      "cell_type": "markdown",
      "metadata": {
        "id": "CRPp1v76eG-A",
        "colab_type": "text"
      },
      "source": [
        "Python provides methods that operate on lists. For example, `append` adds a new element to the end of a list:"
      ]
    },
    {
      "cell_type": "code",
      "metadata": {
        "id": "9wURwO09eCp6",
        "colab_type": "code",
        "outputId": "c2e94184-da7d-4b69-a12d-ec52a7de0ee3",
        "colab": {
          "base_uri": "https://localhost:8080/",
          "height": 34
        }
      },
      "source": [
        "t = ['a', 'b', 'c']\n",
        "t.append('d')\n",
        "print(t)"
      ],
      "execution_count": 0,
      "outputs": [
        {
          "output_type": "stream",
          "text": [
            "['a', 'b', 'c', 'd']\n"
          ],
          "name": "stdout"
        }
      ]
    },
    {
      "cell_type": "markdown",
      "metadata": {
        "id": "N-dYn837eWzo",
        "colab_type": "text"
      },
      "source": [
        "`extend` takes a list as an argument and appends all of the elements:"
      ]
    },
    {
      "cell_type": "code",
      "metadata": {
        "id": "9OwFHL6QeTQ8",
        "colab_type": "code",
        "outputId": "7e786f0f-27c4-4965-900a-177c2a629592",
        "colab": {
          "base_uri": "https://localhost:8080/",
          "height": 34
        }
      },
      "source": [
        "t1 = ['a', 'b', 'c']\n",
        "t2 = ['d', 'e']\n",
        "t1.extend(t2)\n",
        "print(t1)"
      ],
      "execution_count": 0,
      "outputs": [
        {
          "output_type": "stream",
          "text": [
            "['a', 'b', 'c', 'd', 'e']\n"
          ],
          "name": "stdout"
        }
      ]
    },
    {
      "cell_type": "markdown",
      "metadata": {
        "id": "4m0K7YFRnOpP",
        "colab_type": "text"
      },
      "source": [
        "If you use `append` instead to add list's elements, It will be added as a single elements:"
      ]
    },
    {
      "cell_type": "code",
      "metadata": {
        "id": "r6w3ZtXJnQJp",
        "colab_type": "code",
        "outputId": "20b52870-1e24-4776-de5b-c4738d805ccf",
        "colab": {
          "base_uri": "https://localhost:8080/",
          "height": 34
        }
      },
      "source": [
        "t1 = ['a', 'b', 'c']\n",
        "t2 = ['d', 'e']\n",
        "t1.append(t2)\n",
        "print(t1)"
      ],
      "execution_count": 0,
      "outputs": [
        {
          "output_type": "stream",
          "text": [
            "['a', 'b', 'c', ['d', 'e']]\n"
          ],
          "name": "stdout"
        }
      ]
    },
    {
      "cell_type": "markdown",
      "metadata": {
        "id": "9tULK7PUd9eV",
        "colab_type": "text"
      },
      "source": [
        "if you want to add a new element at a spesefic position(*index*), you can use `insert`:\n"
      ]
    },
    {
      "cell_type": "code",
      "metadata": {
        "id": "mBoV-7Qxd8gd",
        "colab_type": "code",
        "colab": {
          "base_uri": "https://localhost:8080/",
          "height": 34
        },
        "outputId": "e88be209-9645-4f6a-fa14-d3c4ed578834"
      },
      "source": [
        "nums = [1, 3, 4, 5, 6, 7]\n",
        "nums.insert(1, 2) #(position= 1, value= 2) ->  insert 2 at index 1 \n",
        "print(nums)"
      ],
      "execution_count": 1,
      "outputs": [
        {
          "output_type": "stream",
          "text": [
            "[1, 2, 3, 4, 5, 6, 7]\n"
          ],
          "name": "stdout"
        }
      ]
    },
    {
      "cell_type": "markdown",
      "metadata": {
        "id": "AtspbIrH1Tcm",
        "colab_type": "text"
      },
      "source": [
        "inserts the element at the given index, and shifting elements to the right."
      ]
    },
    {
      "cell_type": "markdown",
      "metadata": {
        "id": "hX3f_6jiekmB",
        "colab_type": "text"
      },
      "source": [
        "\n",
        "`sort` arranges list of strings in alphabetical order:"
      ]
    },
    {
      "cell_type": "code",
      "metadata": {
        "id": "6Vl7TqwEed0K",
        "colab_type": "code",
        "outputId": "0bd02f70-eac0-4a12-eef8-bfe1ae79b62a",
        "colab": {
          "base_uri": "https://localhost:8080/",
          "height": 34
        }
      },
      "source": [
        "t = ['d', 'c', 'e', 'b', 'a']\n",
        "t.sort()\n",
        "print(t)"
      ],
      "execution_count": 0,
      "outputs": [
        {
          "output_type": "stream",
          "text": [
            "['a', 'b', 'c', 'd', 'e']\n"
          ],
          "name": "stdout"
        }
      ]
    },
    {
      "cell_type": "markdown",
      "metadata": {
        "id": "KQB-wD_GiFBp",
        "colab_type": "text"
      },
      "source": [
        "And arranges list of numbers in ascending order:"
      ]
    },
    {
      "cell_type": "code",
      "metadata": {
        "id": "k7hMv19KiEJD",
        "colab_type": "code",
        "colab": {
          "base_uri": "https://localhost:8080/",
          "height": 34
        },
        "outputId": "bc63211c-4d94-41b1-da1c-40a75f4e35ea"
      },
      "source": [
        "t = [192, 46, 80, 152, 14]\n",
        "t.sort()\n",
        "print(t)"
      ],
      "execution_count": 2,
      "outputs": [
        {
          "output_type": "stream",
          "text": [
            "[14, 46, 80, 152, 192]\n"
          ],
          "name": "stdout"
        }
      ]
    },
    {
      "cell_type": "markdown",
      "metadata": {
        "id": "LW5i2S5Ygs9C",
        "colab_type": "text"
      },
      "source": [
        "To sort the list in descending order:"
      ]
    },
    {
      "cell_type": "code",
      "metadata": {
        "id": "iOtcL3Z4ji-x",
        "colab_type": "code",
        "colab": {
          "base_uri": "https://localhost:8080/",
          "height": 34
        },
        "outputId": "160e9902-dbe2-4f29-c738-fd3a1ff918cd"
      },
      "source": [
        "t = [192, 46, 80, 152, 14]\n",
        "t.sort(reverse=True)\n",
        "print(t)"
      ],
      "execution_count": 3,
      "outputs": [
        {
          "output_type": "stream",
          "text": [
            "[192, 152, 80, 46, 14]\n"
          ],
          "name": "stdout"
        }
      ]
    },
    {
      "cell_type": "markdown",
      "metadata": {
        "id": "uyfague73t8d",
        "colab_type": "text"
      },
      "source": [
        "Note that the above methods do not *return* the modified list, they just modify the original list."
      ]
    },
    {
      "cell_type": "markdown",
      "metadata": {
        "id": "JtsLQeDI3v4N",
        "colab_type": "text"
      },
      "source": [
        "Common Error:"
      ]
    },
    {
      "cell_type": "code",
      "metadata": {
        "id": "R7ucGKVv336R",
        "colab_type": "code",
        "colab": {
          "base_uri": "https://localhost:8080/",
          "height": 34
        },
        "outputId": "a2577f45-ed85-4b0b-d5a2-0811dcc168a2"
      },
      "source": [
        "ls = [1, 2, 3]\n",
        "print (ls.append(4))"
      ],
      "execution_count": 14,
      "outputs": [
        {
          "output_type": "stream",
          "text": [
            "None\n"
          ],
          "name": "stdout"
        }
      ]
    },
    {
      "cell_type": "markdown",
      "metadata": {
        "id": "RbFQMtsa4XVt",
        "colab_type": "text"
      },
      "source": [
        "The correct pattern:"
      ]
    },
    {
      "cell_type": "code",
      "metadata": {
        "id": "gWB_zjUn4Gi0",
        "colab_type": "code",
        "colab": {
          "base_uri": "https://localhost:8080/",
          "height": 34
        },
        "outputId": "caa6d17f-3f0a-463b-90b1-1f44471b720c"
      },
      "source": [
        "ls = [1, 2, 3]\n",
        "ls.append(4)\n",
        "print (ls)"
      ],
      "execution_count": 15,
      "outputs": [
        {
          "output_type": "stream",
          "text": [
            "[1, 2, 3, 4]\n"
          ],
          "name": "stdout"
        }
      ]
    },
    {
      "cell_type": "markdown",
      "metadata": {
        "id": "3TGD9jjje56d",
        "colab_type": "text"
      },
      "source": [
        "### Deleting Elements"
      ]
    },
    {
      "cell_type": "markdown",
      "metadata": {
        "id": "2Z7_6n40e941",
        "colab_type": "text"
      },
      "source": [
        "There are several ways to delete elements from a list. If you know the index of the element you want, you can use `pop`:"
      ]
    },
    {
      "cell_type": "code",
      "metadata": {
        "id": "RyPVPC8vetXb",
        "colab_type": "code",
        "outputId": "a58c3347-cce2-4282-b140-16ca228158ba",
        "colab": {
          "base_uri": "https://localhost:8080/",
          "height": 34
        }
      },
      "source": [
        "t = ['a', 'b', 'c']\n",
        "t.pop(1)\n",
        "print(t)"
      ],
      "execution_count": 0,
      "outputs": [
        {
          "output_type": "stream",
          "text": [
            "['a', 'c']\n"
          ],
          "name": "stdout"
        }
      ]
    },
    {
      "cell_type": "markdown",
      "metadata": {
        "id": "9iBlirsyffJE",
        "colab_type": "text"
      },
      "source": [
        "`pop` modifies the list and returns the element that was removed. If you don't provide an index, it deletes and returns the last element (roughly the opposite of `append )."
      ]
    },
    {
      "cell_type": "code",
      "metadata": {
        "id": "8RAvG5zBltQy",
        "colab_type": "code",
        "colab": {
          "base_uri": "https://localhost:8080/",
          "height": 34
        },
        "outputId": "eb5d10e2-0c7f-44ac-d07e-232ded00fc31"
      },
      "source": [
        "t = ['a', 'b', 'c']\n",
        "t.pop()  # don't provide position/index \n",
        "print(t)"
      ],
      "execution_count": 5,
      "outputs": [
        {
          "output_type": "stream",
          "text": [
            "['a', 'b']\n"
          ],
          "name": "stdout"
        }
      ]
    },
    {
      "cell_type": "markdown",
      "metadata": {
        "id": "_HFUFu7Ffh6X",
        "colab_type": "text"
      },
      "source": [
        "If you don't need the removed value, you can use the `del` operator:"
      ]
    },
    {
      "cell_type": "code",
      "metadata": {
        "id": "NUBSvZWifJQc",
        "colab_type": "code",
        "outputId": "03173a16-6c92-4d55-ef2a-0d6a61205da7",
        "colab": {
          "base_uri": "https://localhost:8080/",
          "height": 34
        }
      },
      "source": [
        "t = ['a', 'b', 'c']\n",
        "del t[1]\n",
        "print(t)"
      ],
      "execution_count": 0,
      "outputs": [
        {
          "output_type": "stream",
          "text": [
            "['a', 'c']\n"
          ],
          "name": "stdout"
        }
      ]
    },
    {
      "cell_type": "markdown",
      "metadata": {
        "id": "wvojMxCFf0Wa",
        "colab_type": "text"
      },
      "source": [
        "If you know the element you want to remove (but not the index), you can use `remove`:"
      ]
    },
    {
      "cell_type": "code",
      "metadata": {
        "id": "YNWcjVn8ftKD",
        "colab_type": "code",
        "outputId": "7eacb96e-8d67-4438-e3ca-4b86a76d2687",
        "colab": {
          "base_uri": "https://localhost:8080/",
          "height": 34
        }
      },
      "source": [
        "t = ['a', 'b', 'c']\n",
        "t.remove('b')\n",
        "print(t)"
      ],
      "execution_count": 0,
      "outputs": [
        {
          "output_type": "stream",
          "text": [
            "['a', 'c']\n"
          ],
          "name": "stdout"
        }
      ]
    },
    {
      "cell_type": "markdown",
      "metadata": {
        "id": "55hxdnEpmECM",
        "colab_type": "text"
      },
      "source": [
        "If the list contains more than one matching, only the first one is deleted."
      ]
    },
    {
      "cell_type": "code",
      "metadata": {
        "id": "5asxSGhFmC8S",
        "colab_type": "code",
        "colab": {
          "base_uri": "https://localhost:8080/",
          "height": 34
        },
        "outputId": "2bc4364d-cd1c-487b-c9cb-1555c72ab1ef"
      },
      "source": [
        "t = ['a', 'b', 'c', 'b']\n",
        "t.remove('b')\n",
        "print(t)"
      ],
      "execution_count": 6,
      "outputs": [
        {
          "output_type": "stream",
          "text": [
            "['a', 'c', 'b']\n"
          ],
          "name": "stdout"
        }
      ]
    },
    {
      "cell_type": "markdown",
      "metadata": {
        "id": "ANyL2910gL7w",
        "colab_type": "text"
      },
      "source": [
        "To remove more than one element, you can use `del` with a slice index:"
      ]
    },
    {
      "cell_type": "code",
      "metadata": {
        "id": "5bFg3wZ-gHyL",
        "colab_type": "code",
        "outputId": "2bac64ab-dd64-4b32-9a7d-2cfa32b1e475",
        "colab": {
          "base_uri": "https://localhost:8080/",
          "height": 34
        }
      },
      "source": [
        "t = ['a', 'b', 'c', 'd', 'e', 'f']\n",
        "del t[1:5]\n",
        "print(t)"
      ],
      "execution_count": 0,
      "outputs": [
        {
          "output_type": "stream",
          "text": [
            "['a', 'f']\n"
          ],
          "name": "stdout"
        }
      ]
    },
    {
      "cell_type": "markdown",
      "metadata": {
        "id": "MU3oOdHegXpA",
        "colab_type": "text"
      },
      "source": [
        "As usual, the slice selects all the elements up to, but not including, the second index.\n",
        "\n"
      ]
    },
    {
      "cell_type": "markdown",
      "metadata": {
        "id": "tmk2jjCsgdwX",
        "colab_type": "text"
      },
      "source": [
        "### Lists and Functions"
      ]
    },
    {
      "cell_type": "markdown",
      "metadata": {
        "id": "zIYu9enWgjSq",
        "colab_type": "text"
      },
      "source": [
        "There are a number of built-in functions that can be used on lists that allow you to quickly look through a list without writing your own loops:"
      ]
    },
    {
      "cell_type": "code",
      "metadata": {
        "id": "q1oC392XggGK",
        "colab_type": "code",
        "colab": {}
      },
      "source": [
        "nums = [3, 41, 12, 9, 74, 15]"
      ],
      "execution_count": 0,
      "outputs": []
    },
    {
      "cell_type": "code",
      "metadata": {
        "id": "Ur4bOv2ngo88",
        "colab_type": "code",
        "outputId": "3c66c606-18c8-4cee-ad8c-f2096ae56b09",
        "colab": {
          "base_uri": "https://localhost:8080/",
          "height": 34
        }
      },
      "source": [
        "print(max(nums))"
      ],
      "execution_count": 0,
      "outputs": [
        {
          "output_type": "stream",
          "text": [
            "74\n"
          ],
          "name": "stdout"
        }
      ]
    },
    {
      "cell_type": "code",
      "metadata": {
        "id": "PIytoELggsTD",
        "colab_type": "code",
        "outputId": "4fb51386-5fc6-4b7a-98d9-5f471abc1925",
        "colab": {
          "base_uri": "https://localhost:8080/",
          "height": 34
        }
      },
      "source": [
        "print(min(nums))"
      ],
      "execution_count": 0,
      "outputs": [
        {
          "output_type": "stream",
          "text": [
            "3\n"
          ],
          "name": "stdout"
        }
      ]
    },
    {
      "cell_type": "code",
      "metadata": {
        "id": "cFZhDrP9gvpe",
        "colab_type": "code",
        "outputId": "efdb2911-42ea-4072-eb81-32b529af3c9e",
        "colab": {
          "base_uri": "https://localhost:8080/",
          "height": 34
        }
      },
      "source": [
        "print(sum(nums))"
      ],
      "execution_count": 0,
      "outputs": [
        {
          "output_type": "stream",
          "text": [
            "154\n"
          ],
          "name": "stdout"
        }
      ]
    },
    {
      "cell_type": "markdown",
      "metadata": {
        "id": "F6QcK0XCkJzl",
        "colab_type": "text"
      },
      "source": [
        "The `len` function also works on lists:\n",
        "\n"
      ]
    },
    {
      "cell_type": "code",
      "metadata": {
        "id": "U-5VaACHjsfd",
        "colab_type": "code",
        "outputId": "343bdcf1-6323-4f34-bb91-3ecece6d7e93",
        "colab": {
          "base_uri": "https://localhost:8080/",
          "height": 34
        }
      },
      "source": [
        "nums = [3, 41, 12, 9, 74, 15]\n",
        "print(len(nums))"
      ],
      "execution_count": 0,
      "outputs": [
        {
          "output_type": "stream",
          "text": [
            "6\n"
          ],
          "name": "stdout"
        }
      ]
    },
    {
      "cell_type": "markdown",
      "metadata": {
        "id": "-oEu8_mykavX",
        "colab_type": "text"
      },
      "source": [
        "And you can calculate the average using `sum` and `len` functions:"
      ]
    },
    {
      "cell_type": "code",
      "metadata": {
        "id": "ME5aUtO-gysK",
        "colab_type": "code",
        "outputId": "401ba3ec-5975-495f-a311-c8752e0c1190",
        "colab": {
          "base_uri": "https://localhost:8080/",
          "height": 34
        }
      },
      "source": [
        "print(sum(nums)/len(nums))"
      ],
      "execution_count": 0,
      "outputs": [
        {
          "output_type": "stream",
          "text": [
            "25.666666666666668\n"
          ],
          "name": "stdout"
        }
      ]
    },
    {
      "cell_type": "markdown",
      "metadata": {
        "id": "5bNR2oswliJk",
        "colab_type": "text"
      },
      "source": [
        "The length of empty list is zero:"
      ]
    },
    {
      "cell_type": "code",
      "metadata": {
        "id": "QKgdeE_slgjT",
        "colab_type": "code",
        "outputId": "61037447-f23d-4caa-fc55-78b79c36f4ea",
        "colab": {
          "base_uri": "https://localhost:8080/",
          "height": 34
        }
      },
      "source": [
        "nums=[]\n",
        "print(len(nums))"
      ],
      "execution_count": 0,
      "outputs": [
        {
          "output_type": "stream",
          "text": [
            "0\n"
          ],
          "name": "stdout"
        }
      ]
    },
    {
      "cell_type": "markdown",
      "metadata": {
        "id": "LCxsZ6cTkzpj",
        "colab_type": "text"
      },
      "source": [
        "\n",
        "If the list contains another list, the nested list will be counted as a single element. "
      ]
    },
    {
      "cell_type": "code",
      "metadata": {
        "id": "efcRV6eQlRi1",
        "colab_type": "code",
        "outputId": "abe92a97-76f6-4070-a824-7cfde5672c34",
        "colab": {
          "base_uri": "https://localhost:8080/",
          "height": 34
        }
      },
      "source": [
        "nums = [3, 41, 12, 9, [74, 15]]  \n",
        "print(len(nums))"
      ],
      "execution_count": 0,
      "outputs": [
        {
          "output_type": "stream",
          "text": [
            "5\n"
          ],
          "name": "stdout"
        }
      ]
    },
    {
      "cell_type": "markdown",
      "metadata": {
        "id": "65-gYYF1hBr0",
        "colab_type": "text"
      },
      "source": [
        "The `sum()` function only works when the list elements are numbers. The other functions (`max()`, `len()`, etc.) work with lists of strings and other types that can be *comparable*."
      ]
    },
    {
      "cell_type": "markdown",
      "metadata": {
        "id": "_pIUryevovVg",
        "colab_type": "text"
      },
      "source": [
        "### Exercises"
      ]
    },
    {
      "cell_type": "markdown",
      "metadata": {
        "id": "HD8RKjqro0t3",
        "colab_type": "text"
      },
      "source": [
        ""
      ]
    },
    {
      "cell_type": "code",
      "metadata": {
        "id": "ODYmIZLog2WS",
        "colab_type": "code",
        "colab": {}
      },
      "source": [
        ""
      ],
      "execution_count": 0,
      "outputs": []
    }
  ]
}