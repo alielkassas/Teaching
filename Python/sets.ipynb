{
  "cells": [
    {
      "cell_type": "markdown",
      "metadata": {
        "id": "view-in-github",
        "colab_type": "text"
      },
      "source": [
        "<a href=\"https://colab.research.google.com/github/alielkassas/Teaching/blob/master/Python/sets.ipynb\" target=\"_parent\"><img src=\"https://colab.research.google.com/assets/colab-badge.svg\" alt=\"Open In Colab\"/></a>"
      ]
    },
    {
      "cell_type": "markdown",
      "id": "238d6c84-34a5-4177-a070-a722ab31ffc4",
      "metadata": {
        "id": "238d6c84-34a5-4177-a070-a722ab31ffc4"
      },
      "source": [
        "# Sets\n",
        "\n",
        "## What Are Sets?\n",
        "\n",
        "In Python, a **set** is an unordered collection of unique elements. It's like having a bag of distinct items where each item appears only once.\n",
        "\n",
        "Let's illustrate this with a fun example. Imagine you have a bag of colorful marbles, and each marble has a unique color. This bag represents a set in Python because it contains only unique marbles.\n",
        "\n",
        "## Creating Sets\n",
        "\n",
        "You can create sets using curly braces `{}` or the `set()` constructor. Here's how:\n"
      ]
    },
    {
      "cell_type": "code",
      "execution_count": null,
      "id": "11265328-bef0-4d31-a604-b3349f410d43",
      "metadata": {
        "id": "11265328-bef0-4d31-a604-b3349f410d43"
      },
      "outputs": [],
      "source": [
        "set1 = {1, 2, 3}"
      ]
    },
    {
      "cell_type": "code",
      "execution_count": null,
      "id": "e9cc0402-209a-4969-b22f-9d0339c10243",
      "metadata": {
        "id": "e9cc0402-209a-4969-b22f-9d0339c10243"
      },
      "outputs": [],
      "source": [
        "set2 = set([3, 4, 5])"
      ]
    },
    {
      "cell_type": "markdown",
      "id": "210bb2ff-a091-43b7-934a-3ab417fc4675",
      "metadata": {
        "id": "210bb2ff-a091-43b7-934a-3ab417fc4675"
      },
      "source": [
        "## Basic Set Operations\n",
        "### Adding Elements\n",
        "You can add elements to a set using the .add() method. It's like putting a new item into your bag of marbles."
      ]
    },
    {
      "cell_type": "code",
      "execution_count": null,
      "id": "13c5157f-1220-43f9-8da9-0be33c7b2d30",
      "metadata": {
        "id": "13c5157f-1220-43f9-8da9-0be33c7b2d30",
        "outputId": "3762b377-cf4e-4ad6-c4d9-dfd052f3b46b"
      },
      "outputs": [
        {
          "data": {
            "text/plain": [
              "{1, 2, 3, 4}"
            ]
          },
          "execution_count": 4,
          "metadata": {},
          "output_type": "execute_result"
        }
      ],
      "source": [
        "my_set = {1, 2, 3}\n",
        "my_set.add(4)\n",
        "my_set"
      ]
    },
    {
      "cell_type": "code",
      "execution_count": null,
      "id": "054d1553-7973-4dfa-b5cb-72f7d6df031a",
      "metadata": {
        "id": "054d1553-7973-4dfa-b5cb-72f7d6df031a",
        "outputId": "d7dca06c-9861-492f-b562-367d28ad6fd6"
      },
      "outputs": [
        {
          "data": {
            "text/plain": [
              "{'eggs', 'fish', 'lettuce', 'potatoes', 'tomatoes'}"
            ]
          },
          "execution_count": 18,
          "metadata": {},
          "output_type": "execute_result"
        }
      ],
      "source": [
        "# .update - Add multiple items\n",
        "item_set = {'eggs', 'lettuce', 'tomatoes'}\n",
        "item_set.update(['fish','potatoes'])\n",
        "item_set"
      ]
    },
    {
      "cell_type": "markdown",
      "id": "2abc4321-c2d8-4cec-a7b8-dc1874b5e016",
      "metadata": {
        "id": "2abc4321-c2d8-4cec-a7b8-dc1874b5e016"
      },
      "source": [
        "### Removing Elements\n",
        "You can remove elements from a set using .remove() or .discard(). If the element isn't in the set, .remove() will raise an error, while .discard() won't."
      ]
    },
    {
      "cell_type": "code",
      "execution_count": null,
      "id": "9dc8444e-b2e4-4588-ad4b-487a5dc3f43d",
      "metadata": {
        "id": "9dc8444e-b2e4-4588-ad4b-487a5dc3f43d",
        "outputId": "555e7020-899e-4db5-8afa-233cbd5ba182"
      },
      "outputs": [
        {
          "data": {
            "text/plain": [
              "{1, 3}"
            ]
          },
          "execution_count": 5,
          "metadata": {},
          "output_type": "execute_result"
        }
      ],
      "source": [
        "my_set = {1, 2, 3}\n",
        "my_set.remove(2)\n",
        "my_set"
      ]
    },
    {
      "cell_type": "code",
      "execution_count": null,
      "id": "a926418f-e4e2-4a8c-a15a-0fb4be6383d8",
      "metadata": {
        "id": "a926418f-e4e2-4a8c-a15a-0fb4be6383d8",
        "outputId": "ea2ffc08-0f12-4b1a-ee2e-dbacf0631539"
      },
      "outputs": [
        {
          "data": {
            "text/plain": [
              "{1, 3}"
            ]
          },
          "execution_count": 7,
          "metadata": {},
          "output_type": "execute_result"
        }
      ],
      "source": [
        "my_set.discard(5)\n",
        "my_set"
      ]
    },
    {
      "cell_type": "markdown",
      "id": "6d054b0f-eaf6-4fd7-8ff2-bc5ea9b3dac9",
      "metadata": {
        "id": "6d054b0f-eaf6-4fd7-8ff2-bc5ea9b3dac9"
      },
      "source": [
        "### Checking Membership\n",
        "To check if an element is in a set, use the `in` keyword."
      ]
    },
    {
      "cell_type": "code",
      "execution_count": null,
      "id": "92b1a805-b7d4-42b7-a50c-58bf1b37d891",
      "metadata": {
        "id": "92b1a805-b7d4-42b7-a50c-58bf1b37d891",
        "outputId": "0fab861c-48bc-4134-8e19-1814262d7700"
      },
      "outputs": [
        {
          "name": "stdout",
          "output_type": "stream",
          "text": [
            "True\n"
          ]
        }
      ],
      "source": [
        "my_set = {1, 2, 3}\n",
        "print(2 in my_set)"
      ]
    },
    {
      "cell_type": "code",
      "execution_count": null,
      "id": "81647971-c508-40de-a7f6-1a9b6b43e6dc",
      "metadata": {
        "id": "81647971-c508-40de-a7f6-1a9b6b43e6dc",
        "outputId": "20e8f0ca-71b7-4a46-c54a-4453a3ea275e"
      },
      "outputs": [
        {
          "name": "stdout",
          "output_type": "stream",
          "text": [
            "False\n"
          ]
        }
      ],
      "source": [
        "print(4 in my_set)"
      ]
    },
    {
      "cell_type": "markdown",
      "id": "353600ed-c6f6-4940-b5ba-23aa13015d0f",
      "metadata": {
        "id": "353600ed-c6f6-4940-b5ba-23aa13015d0f"
      },
      "source": [
        "## Set Methods and Functions\n",
        "\n",
        "*Sets offer powerful methods for various operations:*\n",
        "\n",
        "Union, Intersection, and Difference  \n",
        "- union(): Combines two sets to create a new set with all unique elements.\n",
        "- intersection(): Creates a new set with elements common to both sets.\n",
        "- difference(): Produces a new set with elements in the first set but not the second."
      ]
    },
    {
      "cell_type": "code",
      "execution_count": null,
      "id": "16a52048-aab0-457a-a897-29afebd35e04",
      "metadata": {
        "id": "16a52048-aab0-457a-a897-29afebd35e04",
        "outputId": "e71f4086-7d53-4493-a93c-e312632e92bf"
      },
      "outputs": [
        {
          "data": {
            "text/plain": [
              "{1, 2, 3, 4, 5}"
            ]
          },
          "execution_count": 11,
          "metadata": {},
          "output_type": "execute_result"
        }
      ],
      "source": [
        "set1 = {1, 2, 3}\n",
        "set2 = {3, 4, 5}\n",
        "union_set = set1.union(set2)\n",
        "\n",
        "union_set"
      ]
    },
    {
      "cell_type": "markdown",
      "id": "ce5d9394-2f1d-481e-9ba3-029354b9a7f5",
      "metadata": {
        "id": "ce5d9394-2f1d-481e-9ba3-029354b9a7f5"
      },
      "source": [
        "## Iterating Over Sets\n",
        "You can use for loops to iterate through elements in a set:"
      ]
    },
    {
      "cell_type": "code",
      "execution_count": null,
      "id": "c3786825-9352-4195-a25a-abcd8a8b0868",
      "metadata": {
        "id": "c3786825-9352-4195-a25a-abcd8a8b0868",
        "outputId": "57f8371c-f486-4acb-b61c-dc8a741e2c9b"
      },
      "outputs": [
        {
          "name": "stdout",
          "output_type": "stream",
          "text": [
            "1\n",
            "2\n",
            "3\n"
          ]
        }
      ],
      "source": [
        "my_set = {1, 2, 3}\n",
        "for item in my_set:\n",
        "    print(item)"
      ]
    },
    {
      "cell_type": "markdown",
      "id": "32210b16-017e-4276-b12d-a4c4a044bece",
      "metadata": {
        "id": "32210b16-017e-4276-b12d-a4c4a044bece"
      },
      "source": [
        "## Set Comprehensions\n",
        "Python offers set comprehensions for creating sets in a concise way:"
      ]
    },
    {
      "cell_type": "code",
      "execution_count": null,
      "id": "e931f0b9-be8c-415f-8c64-d27e6018c8b3",
      "metadata": {
        "id": "e931f0b9-be8c-415f-8c64-d27e6018c8b3",
        "outputId": "63f8bdc0-a280-4751-bfa0-370aad46bec5"
      },
      "outputs": [
        {
          "data": {
            "text/plain": [
              "{0, 2, 4, 6, 8}"
            ]
          },
          "execution_count": 14,
          "metadata": {},
          "output_type": "execute_result"
        }
      ],
      "source": [
        "my_set = {x for x in range(10) if x % 2 == 0}\n",
        "my_set"
      ]
    },
    {
      "cell_type": "code",
      "execution_count": null,
      "id": "9db13b1f-4eb3-43bf-beaa-2b4f3d82eb4b",
      "metadata": {
        "id": "9db13b1f-4eb3-43bf-beaa-2b4f3d82eb4b"
      },
      "outputs": [],
      "source": []
    }
  ],
  "metadata": {
    "kernelspec": {
      "display_name": "Python 3 (ipykernel)",
      "language": "python",
      "name": "python3"
    },
    "language_info": {
      "codemirror_mode": {
        "name": "ipython",
        "version": 3
      },
      "file_extension": ".py",
      "mimetype": "text/x-python",
      "name": "python",
      "nbconvert_exporter": "python",
      "pygments_lexer": "ipython3",
      "version": "3.10.9"
    },
    "colab": {
      "provenance": [],
      "include_colab_link": true
    }
  },
  "nbformat": 4,
  "nbformat_minor": 5
}