{
  "cells": [
    {
      "cell_type": "markdown",
      "metadata": {
        "id": "view-in-github",
        "colab_type": "text"
      },
      "source": [
        "<a href=\"https://colab.research.google.com/github/alielkassas/Teaching/blob/master/Python/files.ipynb\" target=\"_parent\"><img src=\"https://colab.research.google.com/assets/colab-badge.svg\" alt=\"Open In Colab\"/></a>"
      ]
    },
    {
      "cell_type": "markdown",
      "metadata": {
        "id": "n7-UGqwBOhLc"
      },
      "source": [
        "### Opening Files"
      ]
    },
    {
      "cell_type": "markdown",
      "metadata": {
        "id": "T0KqLfMAO4Ww"
      },
      "source": [
        "When we want to read or write a file (say on your hard drive), we first must open the file. Opening the file communicates with your operating system, which knows where the data for each file is stored. When you open a file, you are asking the operating system to find the file by name and make sure the file exists. In this example, we open the file `mbox.txt`, which should be stored in the same folder that you are in when you start Python."
      ]
    },
    {
      "cell_type": "code",
      "execution_count": null,
      "metadata": {
        "colab": {
          "base_uri": "https://localhost:8080/",
          "height": 33
        },
        "id": "gF6-UoXSOjJe",
        "outputId": "3e3cb81c-3d9a-4052-91b3-0386f2e10513"
      },
      "outputs": [
        {
          "name": "stdout",
          "output_type": "stream",
          "text": [
            "<_io.TextIOWrapper name='mbox.txt' mode='r' encoding='UTF-8'>\n"
          ]
        }
      ],
      "source": [
        "fhand = open('mbox.txt', 'r')\n",
        "print(fhand)"
      ]
    },
    {
      "cell_type": "markdown",
      "metadata": {
        "id": "zL6xEk-QPenJ"
      },
      "source": [
        "If the `open` is successful, the operating system returns us a file handle. The file handle is not the actual data contained in the file, but instead it is a \"handle\" that we can use to read the data. You are given a handle if the requested file exists and you have the proper permissions to read the file."
      ]
    },
    {
      "cell_type": "markdown",
      "metadata": {
        "id": "x6HMPPJxPt6_"
      },
      "source": [
        "If the file does not exist, `open` will fail with a traceback and you will not get a handle to access the contents of the file:"
      ]
    },
    {
      "cell_type": "code",
      "execution_count": null,
      "metadata": {
        "colab": {
          "base_uri": "https://localhost:8080/",
          "height": 161
        },
        "id": "oKhFEQRaPKcG",
        "outputId": "2edb6c59-b712-448d-f2e6-38ac4903efc6"
      },
      "outputs": [
        {
          "ename": "FileNotFoundError",
          "evalue": "ignored",
          "output_type": "error",
          "traceback": [
            "\u001b[0;31m---------------------------------------------------------------------------\u001b[0m",
            "\u001b[0;31mFileNotFoundError\u001b[0m                         Traceback (most recent call last)",
            "\u001b[0;32m<ipython-input-4-4bba6e616446>\u001b[0m in \u001b[0;36m<module>\u001b[0;34m()\u001b[0m\n\u001b[0;32m----> 1\u001b[0;31m \u001b[0mfhand\u001b[0m \u001b[0;34m=\u001b[0m \u001b[0mopen\u001b[0m\u001b[0;34m(\u001b[0m\u001b[0;34m'stuff.txt'\u001b[0m\u001b[0;34m)\u001b[0m\u001b[0;34m\u001b[0m\u001b[0;34m\u001b[0m\u001b[0m\n\u001b[0m",
            "\u001b[0;31mFileNotFoundError\u001b[0m: [Errno 2] No such file or directory: 'stuff.txt'"
          ]
        }
      ],
      "source": [
        "fhand = open('stuff.txt')"
      ]
    },
    {
      "cell_type": "code",
      "execution_count": null,
      "metadata": {
        "id": "kjhxaTOBP3dm"
      },
      "outputs": [],
      "source": []
    },
    {
      "cell_type": "markdown",
      "metadata": {
        "id": "5nhLbiEcP5RG"
      },
      "source": [
        "### Text files and Lines"
      ]
    },
    {
      "cell_type": "markdown",
      "metadata": {
        "id": "qpPht7m8QLl-"
      },
      "source": [
        "A text file can be thought of as a sequence of lines, much like a Python string can be thought of as a sequence of characters."
      ]
    },
    {
      "cell_type": "markdown",
      "metadata": {
        "id": "E2Ovyj6JQtYl"
      },
      "source": [
        "To break the file into lines, there is a special character that represents the \"end of the line\" called the newline character."
      ]
    },
    {
      "cell_type": "markdown",
      "metadata": {
        "id": "zMsjElXRQ6Ju"
      },
      "source": [
        "In Python, we represent the newline character as a backslash-n in string constants. Even though this looks like two characters, it is actually a single character. When we look at the variable by entering \"stuff\" in the interpreter, it shows us the `\\n` in the string, but when we use `print` to show the string, we see the string broken into two lines by the newline character."
      ]
    },
    {
      "cell_type": "code",
      "execution_count": null,
      "metadata": {
        "colab": {
          "base_uri": "https://localhost:8080/",
          "height": 33
        },
        "id": "rMuv6AxdQNDF",
        "outputId": "3ebf6793-a071-46be-ab47-b8a350e1f9b0"
      },
      "outputs": [
        {
          "data": {
            "text/plain": [
              "'Hello\\nWorld!'"
            ]
          },
          "execution_count": 5,
          "metadata": {
            "tags": []
          },
          "output_type": "execute_result"
        }
      ],
      "source": [
        "stuff = 'Hello\\nWorld!'\n",
        "stuff"
      ]
    },
    {
      "cell_type": "code",
      "execution_count": null,
      "metadata": {
        "colab": {
          "base_uri": "https://localhost:8080/",
          "height": 50
        },
        "id": "yHu-qiS4ROB5",
        "outputId": "1ecd1d39-55db-4a6f-c798-bdd9f50e0658"
      },
      "outputs": [
        {
          "name": "stdout",
          "output_type": "stream",
          "text": [
            "Hello\n",
            "World!\n"
          ]
        }
      ],
      "source": [
        "print(stuff)"
      ]
    },
    {
      "cell_type": "code",
      "execution_count": null,
      "metadata": {
        "colab": {
          "base_uri": "https://localhost:8080/",
          "height": 50
        },
        "id": "dL3JwwseRSGW",
        "outputId": "f4d7ef25-2533-445f-bc1e-527707a7f984"
      },
      "outputs": [
        {
          "name": "stdout",
          "output_type": "stream",
          "text": [
            "X\n",
            "Y\n"
          ]
        }
      ],
      "source": [
        "stuff = 'X\\nY'\n",
        "print(stuff)\n"
      ]
    },
    {
      "cell_type": "code",
      "execution_count": null,
      "metadata": {
        "colab": {
          "base_uri": "https://localhost:8080/",
          "height": 33
        },
        "id": "1WEnKRvXRXKG",
        "outputId": "5cff9301-de47-434c-a72d-a8ffec96aa89"
      },
      "outputs": [
        {
          "data": {
            "text/plain": [
              "3"
            ]
          },
          "execution_count": 8,
          "metadata": {
            "tags": []
          },
          "output_type": "execute_result"
        }
      ],
      "source": [
        "len(stuff)"
      ]
    },
    {
      "cell_type": "markdown",
      "metadata": {
        "id": "4-EpxSAKRZH5"
      },
      "source": [
        "You can also see that the length of the string `X\\nY` is three characters because the newline character is a single character."
      ]
    },
    {
      "cell_type": "markdown",
      "metadata": {
        "id": "fsMlfXoyRoAk"
      },
      "source": [
        "So when we look at the lines in a file, we need to imagine that there is a special invisible character called the newline at the end of each line that marks the end of the line.\n",
        "\n",
        "So the newline character separates the characters in the file into lines."
      ]
    },
    {
      "cell_type": "markdown",
      "metadata": {
        "id": "ZV7NiPWJRqxu"
      },
      "source": [
        "### Reading Files"
      ]
    },
    {
      "cell_type": "markdown",
      "metadata": {
        "id": "4L6ZTYBHSGJs"
      },
      "source": [
        "While the file handle does not contain the data for the file, it is quite easy to construct a `for` loop to read through and count each of the lines in a file:\n",
        "\n",
        "You can download this file from www.py4e.com/code3/mbox.txt"
      ]
    },
    {
      "cell_type": "code",
      "execution_count": null,
      "metadata": {
        "id": "p9O-_mzn0J4l"
      },
      "outputs": [],
      "source": [
        "fhand = open('mbox-short.txt')\n",
        "\n",
        "# Reading the entire file\n",
        "content = file.read()\n",
        "print(content)\n",
        "\n",
        "# Reading one line at a time\n",
        "line = file.readline()\n",
        "print(line)\n"
      ]
    },
    {
      "cell_type": "code",
      "execution_count": null,
      "metadata": {
        "id": "wwJJkZCsSsyM"
      },
      "outputs": [],
      "source": [
        "fhand = open('mbox-short.txt')\n",
        "inp = fhand.read()\n",
        "print(len(inp))"
      ]
    },
    {
      "cell_type": "code",
      "execution_count": null,
      "metadata": {
        "colab": {
          "base_uri": "https://localhost:8080/",
          "height": 228
        },
        "id": "Ej8cEGh4RsK8",
        "outputId": "97b7dfcf-bbae-4022-9be9-f2a24d4f666f"
      },
      "outputs": [
        {
          "ename": "FileNotFoundError",
          "evalue": "ignored",
          "output_type": "error",
          "traceback": [
            "\u001b[0;31m---------------------------------------------------------------------------\u001b[0m",
            "\u001b[0;31mFileNotFoundError\u001b[0m                         Traceback (most recent call last)",
            "\u001b[0;32m<ipython-input-9-9974b5c3e07b>\u001b[0m in \u001b[0;36m<module>\u001b[0;34m()\u001b[0m\n\u001b[0;32m----> 1\u001b[0;31m \u001b[0mfhand\u001b[0m \u001b[0;34m=\u001b[0m \u001b[0mopen\u001b[0m\u001b[0;34m(\u001b[0m\u001b[0;34m'mbox-short.txt'\u001b[0m\u001b[0;34m)\u001b[0m\u001b[0;34m\u001b[0m\u001b[0;34m\u001b[0m\u001b[0m\n\u001b[0m\u001b[1;32m      2\u001b[0m \u001b[0mcount\u001b[0m \u001b[0;34m=\u001b[0m \u001b[0;36m0\u001b[0m\u001b[0;34m\u001b[0m\u001b[0;34m\u001b[0m\u001b[0m\n\u001b[1;32m      3\u001b[0m \u001b[0;32mfor\u001b[0m \u001b[0mline\u001b[0m \u001b[0;32min\u001b[0m \u001b[0mfhand\u001b[0m\u001b[0;34m:\u001b[0m\u001b[0;34m\u001b[0m\u001b[0;34m\u001b[0m\u001b[0m\n\u001b[1;32m      4\u001b[0m     \u001b[0mcount\u001b[0m \u001b[0;34m=\u001b[0m \u001b[0mcount\u001b[0m \u001b[0;34m+\u001b[0m \u001b[0;36m1\u001b[0m\u001b[0;34m\u001b[0m\u001b[0;34m\u001b[0m\u001b[0m\n\u001b[1;32m      5\u001b[0m \u001b[0mprint\u001b[0m\u001b[0;34m(\u001b[0m\u001b[0;34m'Line Count:'\u001b[0m\u001b[0;34m,\u001b[0m \u001b[0mcount\u001b[0m\u001b[0;34m)\u001b[0m\u001b[0;34m\u001b[0m\u001b[0;34m\u001b[0m\u001b[0m\n",
            "\u001b[0;31mFileNotFoundError\u001b[0m: [Errno 2] No such file or directory: 'mbox-short.txt'"
          ]
        }
      ],
      "source": [
        "fhand = open('mbox.txt')\n",
        "count = 0\n",
        "for line in fhand:\n",
        "    count = count + 1\n",
        "print('Line Count:', count)"
      ]
    },
    {
      "cell_type": "code",
      "execution_count": null,
      "metadata": {
        "id": "ZQ8Ecv0b0J4m"
      },
      "outputs": [],
      "source": [
        "print(inp[:20])"
      ]
    },
    {
      "cell_type": "markdown",
      "metadata": {
        "id": "b-nmuzvv0J4m"
      },
      "source": [
        "## Writing files\n",
        "To write a file, you have to open it with mode “w” as a second parameter:"
      ]
    },
    {
      "cell_type": "code",
      "execution_count": null,
      "metadata": {
        "id": "gELS_nqE0J4m",
        "outputId": "7847eb70-55c8-4451-871f-12bd16a3c7ae"
      },
      "outputs": [
        {
          "name": "stdout",
          "output_type": "stream",
          "text": [
            "<_io.TextIOWrapper name='output.txt' mode='w' encoding='cp1252'>\n"
          ]
        }
      ],
      "source": [
        "fout = open('output.txt', 'w')\n",
        "print(fout)"
      ]
    },
    {
      "cell_type": "markdown",
      "metadata": {
        "id": "aQMde7xb0J4n"
      },
      "source": [
        "If the file already exists, opening it in write mode clears out the old data and starts fresh, so be careful! If the file doesn’t exist, a new one is created.\n",
        "\n",
        "The `write` method of the file handle object puts data into the file, returning the number of characters written. The default write mode is text for writing (and reading) strings."
      ]
    },
    {
      "cell_type": "code",
      "execution_count": null,
      "metadata": {
        "id": "eVnNA_eX0J4n",
        "outputId": "76b0d335-0e0c-4454-b503-27622a20984a"
      },
      "outputs": [
        {
          "data": {
            "text/plain": [
              "24"
            ]
          },
          "execution_count": 2,
          "metadata": {},
          "output_type": "execute_result"
        }
      ],
      "source": [
        "line1 = \"This here's the wattle,\\n\"\n",
        "fout.write(line1)"
      ]
    },
    {
      "cell_type": "markdown",
      "metadata": {
        "id": "5fYsI66Z0J4n"
      },
      "source": [
        "Again, the file object keeps track of where it is, so if you call `write` again, it adds the new data to the end.\n",
        "\n",
        "We must make sure to manage the ends of lines as we `write` to the file by explicitly inserting the newline character when we want to end a line. The `print` statement automatically appends a newline, but the write method does not add the newline automatically."
      ]
    },
    {
      "cell_type": "code",
      "execution_count": null,
      "metadata": {
        "id": "Mgs-enyk0J4n",
        "outputId": "5f608dd7-3517-4aa9-a71b-68e0b17c80d1"
      },
      "outputs": [
        {
          "data": {
            "text/plain": [
              "24"
            ]
          },
          "execution_count": 4,
          "metadata": {},
          "output_type": "execute_result"
        }
      ],
      "source": [
        "line2 = 'the emblem of our land.\\n'\n",
        "fout.write(line2)"
      ]
    },
    {
      "cell_type": "markdown",
      "metadata": {
        "id": "6lbX2RNn0J4n"
      },
      "source": [
        "When you are done writing, you have to close the file to make sure that the last bit of data is physically written to the disk so it will not be lost if the power goes off."
      ]
    },
    {
      "cell_type": "code",
      "execution_count": null,
      "metadata": {
        "id": "em8PRVTX0J4n"
      },
      "outputs": [],
      "source": [
        "fout.close()"
      ]
    },
    {
      "cell_type": "markdown",
      "metadata": {
        "id": "so8Yi9ef0J4n"
      },
      "source": [
        "We could close the files which we open for read as well, but we can be a little sloppy if we are only opening a few files since Python makes sure that all open files are closed when the program ends. When we are writing files, we want to explicitly close the files so as to leave nothing to chance."
      ]
    },
    {
      "cell_type": "markdown",
      "metadata": {
        "id": "Idu-CyK50J4o"
      },
      "source": [
        "## Using with Statements\n",
        "The with statement ensures that the file is properly closed after use. It's a recommended way to work with files."
      ]
    },
    {
      "cell_type": "code",
      "execution_count": null,
      "metadata": {
        "id": "hZJwkyMP0J4o",
        "outputId": "2681519c-5fbe-4839-d87a-67a62b36a95f"
      },
      "outputs": [
        {
          "name": "stdout",
          "output_type": "stream",
          "text": [
            "File students.txt Created with Content..\n"
          ]
        }
      ],
      "source": [
        "with open(\"students.txt\", \"w\") as file2:\n",
        "    file2.write(\"Anna\")\n",
        "    file2.close()\n",
        "    print(\"File students.txt Created with Content..\")"
      ]
    },
    {
      "cell_type": "markdown",
      "metadata": {
        "id": "b82qzyhy0J4o"
      },
      "source": [
        "## Deleting files"
      ]
    },
    {
      "cell_type": "markdown",
      "metadata": {
        "id": "ERFIMGR00J4o"
      },
      "source": [
        "We can check if a file exists using the `os.path.isfile()` or `os.path.exists()` function. This function returns True if the file exists and False otherwise. Here's an example:\n"
      ]
    },
    {
      "cell_type": "code",
      "execution_count": null,
      "metadata": {
        "id": "1NICqC5H0J4o",
        "outputId": "2487f04c-986b-4349-c293-5ae2eee01568"
      },
      "outputs": [
        {
          "name": "stdout",
          "output_type": "stream",
          "text": [
            "The file does not exist.\n"
          ]
        }
      ],
      "source": [
        "\n",
        "if os.path.isfile('students.txt'):\n",
        "    print('The file exists.')\n",
        "else:\n",
        "    print('The file does not exist.')\n"
      ]
    },
    {
      "cell_type": "markdown",
      "metadata": {
        "id": "9pXf3P8r0J4o"
      },
      "source": [
        "We can delete a file using the os.remove() function. This function removes the file from the file system. Here's an example:"
      ]
    },
    {
      "cell_type": "code",
      "execution_count": null,
      "metadata": {
        "id": "4aG2ofU-0J4o",
        "outputId": "d6b4609b-2611-4995-ce5f-d8cdf9357a93"
      },
      "outputs": [
        {
          "name": "stdout",
          "output_type": "stream",
          "text": [
            "The file was deleted.\n"
          ]
        }
      ],
      "source": [
        "import os\n",
        "\n",
        "if os.path.isfile('students.txt'):\n",
        "    os.remove('students.txt')\n",
        "    print('The file was deleted.')\n",
        "else:\n",
        "    print('The file does not exist.')"
      ]
    },
    {
      "cell_type": "markdown",
      "metadata": {
        "id": "dSlSTgw10J4w"
      },
      "source": [
        "## File Directories\n"
      ]
    },
    {
      "cell_type": "code",
      "execution_count": null,
      "metadata": {
        "id": "IO7MTGwF0J4x"
      },
      "outputs": [],
      "source": [
        "# create a new directory\n",
        "os.mkdir('my_directory')\n"
      ]
    },
    {
      "cell_type": "code",
      "execution_count": null,
      "metadata": {
        "id": "XtFbWLqC0J4x"
      },
      "outputs": [],
      "source": []
    }
  ],
  "metadata": {
    "colab": {
      "provenance": [],
      "toc_visible": true,
      "include_colab_link": true
    },
    "kernelspec": {
      "display_name": "Python 3 (ipykernel)",
      "language": "python",
      "name": "python3"
    },
    "language_info": {
      "codemirror_mode": {
        "name": "ipython",
        "version": 3
      },
      "file_extension": ".py",
      "mimetype": "text/x-python",
      "name": "python",
      "nbconvert_exporter": "python",
      "pygments_lexer": "ipython3",
      "version": "3.10.9"
    }
  },
  "nbformat": 4,
  "nbformat_minor": 0
}